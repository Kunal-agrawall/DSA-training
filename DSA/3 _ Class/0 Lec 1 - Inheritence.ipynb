{
 "cells": [
  {
   "cell_type": "markdown",
   "metadata": {},
   "source": [
    "# Inheritance"
   ]
  },
  {
   "cell_type": "raw",
   "metadata": {},
   "source": [
    "Inheritance allows us to define a class that inherits all the methods and properties from another class.\n",
    "\n",
    "Parent class is the class being inherited from, also called base class.\n",
    "\n",
    "Child class is the class that inherits from another class, also called derived class."
   ]
  },
  {
   "cell_type": "code",
   "execution_count": 2,
   "metadata": {},
   "outputs": [
    {
     "name": "stdout",
     "output_type": "stream",
     "text": [
      "Adata is method of class A\n",
      "Bdata is method of class B\n"
     ]
    }
   ],
   "source": [
    "class A:\n",
    "    def Adata(self):\n",
    "        print(\"Adata is method of class A\")\n",
    "class B:\n",
    "    def Bdata(self):\n",
    "        print(\"Bdata is method of class B\")\n",
    "        \n",
    "# createobj\n",
    "obj=A()\n",
    "obj.Adata()\n",
    "obj1=B()\n",
    "obj1.Bdata()"
   ]
  },
  {
   "cell_type": "raw",
   "metadata": {},
   "source": [
    "types of inheritance:\n",
    "    \n",
    "    1- single inheritance\n",
    "    2- multilevel inheritance\n",
    "    3- multiple inheritance\n",
    "    4- HYbrid inheritance\n",
    "    5- Hierarichal inheritance \n",
    "    \n",
    "    \n",
    "    \n",
    "    \n",
    "    1---Syntax of single inheritance:-\n",
    "    \n",
    "    class classname1:   # parent class\n",
    "        statement\n",
    "    class classname2(classname1):  # child class\n",
    "        statement\n",
    "        \n",
    "        \n",
    "    2---Syntax of multilevel inheritance:-\n",
    "        \n",
    "    class classname1:                    # parent class\n",
    "        statement\n",
    "    class classname2(classname1):        # child class\n",
    "        statement\n",
    "    class classname3(classname2):\n",
    "        statement\n",
    "    class classname4(classname3):\n",
    "        statement\n",
    "        \n",
    "        \n",
    "    3---Syntax of Multiple inheritance:-\n",
    "    class classname1:                    # parent class\n",
    "        statement\n",
    "    class classname2:                    # child class\n",
    "        statement\n",
    "    class classname3(classname1,classname2):\n",
    "        statement\n",
    "\n",
    "\n",
    "    4--- Syntax of Hierachical inheritance:-\n",
    "    class classname1:                    # parent class\n",
    "        statement\n",
    "    class classname2(classname1):        # child class\n",
    "        statement\n",
    "    class classname3(classname1):\n",
    "        statement\n",
    "    class classname4(classname1):\n",
    "        statement\n",
    "        \n",
    "        \n",
    "     5--- Syntax of Hybrid inheritance:-\n",
    "         \n",
    "    class classname1:                    # parent class\n",
    "        statement\n",
    "    class classname2(classname1):        # child class\n",
    "        statement\n",
    "    class classname3(classname1):\n",
    "        statement\n",
    "    class classname4(classname2,classname3):\n",
    "        statement"
   ]
  },
  {
   "cell_type": "markdown",
   "metadata": {},
   "source": [
    "# single inheritance:-"
   ]
  },
  {
   "cell_type": "code",
   "execution_count": 3,
   "metadata": {},
   "outputs": [
    {
     "name": "stdout",
     "output_type": "stream",
     "text": [
      "Adata is method of class A\n",
      "Bdata is method of class B\n"
     ]
    }
   ],
   "source": [
    "class A:\n",
    "    def Adata(self):\n",
    "        print(\"Adata is method of class A\")\n",
    "class B(A):\n",
    "    def Bdata(self):\n",
    "        print(\"Bdata is method of class B\")\n",
    "        \n",
    "# createobj\n",
    "obj=B()\n",
    "obj.Adata()\n",
    "obj.Bdata()"
   ]
  },
  {
   "cell_type": "markdown",
   "metadata": {},
   "source": [
    "# Mutilevel inheritance:-"
   ]
  },
  {
   "cell_type": "code",
   "execution_count": 6,
   "metadata": {},
   "outputs": [
    {
     "name": "stdout",
     "output_type": "stream",
     "text": [
      "Adata is method of class A\n",
      "Bdata is method of class B\n",
      "Cdata is method of class C\n",
      "Ddata is method of class D\n"
     ]
    }
   ],
   "source": [
    "class A:\n",
    "    def Adata(self):\n",
    "        print(\"Adata is method of class A\")\n",
    "class B(A):\n",
    "    def Bdata(self):\n",
    "        print(\"Bdata is method of class B\")\n",
    "        \n",
    "class C(B):\n",
    "    def Cdata(self):\n",
    "        print(\"Cdata is method of class C\")\n",
    "        \n",
    "class D(C):\n",
    "    def Ddata(self):\n",
    "        print(\"Ddata is method of class D\")\n",
    "        \n",
    "# createobj\n",
    "obj=D()\n",
    "obj.Adata()\n",
    "obj.Bdata()\n",
    "obj.Cdata()\n",
    "obj.Ddata()"
   ]
  },
  {
   "cell_type": "markdown",
   "metadata": {},
   "source": [
    "# Multiple Inheritance:-"
   ]
  },
  {
   "cell_type": "code",
   "execution_count": 4,
   "metadata": {},
   "outputs": [
    {
     "name": "stdout",
     "output_type": "stream",
     "text": [
      "Adata is method of class A\n",
      "Bdata is method of class B\n",
      "Cdata is method of class C\n"
     ]
    }
   ],
   "source": [
    "class A:\n",
    "    def Adata(self):\n",
    "        print(\"Adata is method of class A\")\n",
    "class B:\n",
    "    def Bdata(self):\n",
    "        print(\"Bdata is method of class B\")\n",
    "        \n",
    "class C(A,B):\n",
    "    def Cdata(self):\n",
    "        print(\"Cdata is method of class C\")\n",
    "\n",
    "        \n",
    "# createobj\n",
    "obj=C()\n",
    "obj.Adata()\n",
    "obj.Bdata()\n",
    "obj.Cdata()\n"
   ]
  },
  {
   "cell_type": "markdown",
   "metadata": {},
   "source": [
    "# Hierachical inheritance:-"
   ]
  },
  {
   "cell_type": "code",
   "execution_count": 10,
   "metadata": {},
   "outputs": [
    {
     "name": "stdout",
     "output_type": "stream",
     "text": [
      "Adata is method of class A\n",
      "Cdata is method of class C\n"
     ]
    }
   ],
   "source": [
    "class A:\n",
    "    def Adata(self):\n",
    "        print(\"Adata is method of class A\")\n",
    "class B(A):\n",
    "    def Bdata(self):\n",
    "        print(\"Bdata is method of class B\")\n",
    "        \n",
    "class C(A):\n",
    "    def Cdata(self):\n",
    "        print(\"Cdata is method of class C\")\n",
    "\n",
    "        \n",
    "# createobj\n",
    "obj=C()\n",
    "obj.Adata()\n",
    "#obj.Bdata()\n",
    "obj.Cdata()\n"
   ]
  },
  {
   "cell_type": "markdown",
   "metadata": {},
   "source": [
    "# Hybrid inheritance"
   ]
  },
  {
   "cell_type": "code",
   "execution_count": 11,
   "metadata": {},
   "outputs": [
    {
     "name": "stdout",
     "output_type": "stream",
     "text": [
      "Adata is method of class A\n",
      "Bdata is method of class B\n",
      "Cdata is method of class C\n",
      "Ddata is method of class D\n"
     ]
    }
   ],
   "source": [
    "class A:\n",
    "    def Adata(self):\n",
    "        print(\"Adata is method of class A\")\n",
    "class B(A):\n",
    "    def Bdata(self):\n",
    "        print(\"Bdata is method of class B\")\n",
    "        \n",
    "class C(A):\n",
    "    def Cdata(self):\n",
    "        print(\"Cdata is method of class C\")\n",
    "        \n",
    "class D(B,C):\n",
    "    def Ddata(self):\n",
    "        print(\"Ddata is method of class D\")\n",
    "        \n",
    "# createobj\n",
    "obj=D()\n",
    "obj.Adata()\n",
    "obj.Bdata()\n",
    "obj.Cdata()\n",
    "obj.Ddata()"
   ]
  },
  {
   "cell_type": "raw",
   "metadata": {},
   "source": [
    "WAP to create a vehical class with max_speed and mileage instance attributes.using class and object\n",
    "WAP to create a vehical class without any variable and methods?using class and object"
   ]
  },
  {
   "cell_type": "code",
   "execution_count": 12,
   "metadata": {},
   "outputs": [],
   "source": [
    "#WAP to create a vehical class with max_speed and mileage instance attributes.using class and object"
   ]
  },
  {
   "cell_type": "code",
   "execution_count": 14,
   "metadata": {},
   "outputs": [
    {
     "name": "stdout",
     "output_type": "stream",
     "text": [
      "Max_speed: 240 Mileage: 15\n"
     ]
    }
   ],
   "source": [
    "class vehical:\n",
    "    def __init__(self,max_speed,mileage):\n",
    "        self.max_speed=max_speed\n",
    "        self.mileage=mileage\n",
    "model_x=vehical(240,15)\n",
    "print(\"Max_speed:\",model_x.max_speed,\"Mileage:\",model_x.mileage)\n"
   ]
  },
  {
   "cell_type": "code",
   "execution_count": 15,
   "metadata": {},
   "outputs": [],
   "source": [
    "# WAP to create a vehical class without any variable and methods?using class and object"
   ]
  },
  {
   "cell_type": "code",
   "execution_count": 16,
   "metadata": {},
   "outputs": [],
   "source": [
    "class vehical:\n",
    "    pass"
   ]
  },
  {
   "cell_type": "raw",
   "metadata": {},
   "source": [
    "1-create a child class Bus that will inherit all of the variables and methods of the vehical class?\n",
    "\n",
    "1-create a Bus class that inherits from the vehical class.Give the capacity argument of Bus.seating_capacity() a default value of 50.\n"
   ]
  },
  {
   "cell_type": "code",
   "execution_count": 18,
   "metadata": {},
   "outputs": [
    {
     "name": "stdout",
     "output_type": "stream",
     "text": [
      "end\n"
     ]
    }
   ],
   "source": [
    "print(\"end\")"
   ]
  },
  {
   "cell_type": "code",
   "execution_count": 26,
   "metadata": {},
   "outputs": [
    {
     "name": "stdout",
     "output_type": "stream",
     "text": [
      "Vehical Name: Volvo Bus Speed: 250 Mileage: 15\n"
     ]
    }
   ],
   "source": [
    "class vehical:\n",
    "    def __init__(self,name,max_speed,mileage):\n",
    "        self.name=name\n",
    "        self.max_speed=max_speed\n",
    "        self.mileage=mileage\n",
    "        \n",
    "class Bus(vehical):\n",
    "    pass\n",
    "School_bus=Bus(\"Volvo Bus\",250,15)\n",
    "print(\"Vehical Name:\",School_bus.name,\"Speed:\",School_bus.max_speed,\"Mileage:\",School_bus.mileage)\n"
   ]
  },
  {
   "cell_type": "code",
   "execution_count": 30,
   "metadata": {},
   "outputs": [
    {
     "name": "stdout",
     "output_type": "stream",
     "text": [
      "Bus Name= Volvo\n",
      "Bus max speed= 200\n",
      "Bus Mileage= 15\n",
      "Bus Capacity= 50\n"
     ]
    }
   ],
   "source": [
    "class Vehicle:\n",
    "    def __init__(self,name,max_speed,mileage,Bus_capacity=50):\n",
    "        self.name=name\n",
    "        self.max_speed=max_speed\n",
    "        self.mileage=mileage\n",
    "        self.Bus_capacity=Bus_capacity\n",
    "    \n",
    "        \n",
    "class bus(Vehicle):\n",
    "    pass\n",
    "\n",
    "school_bus=bus(\"Volvo\",200,15)                \n",
    "print(\"Bus Name=\",school_bus.name)\n",
    "print(\"Bus max speed=\",school_bus.max_speed)\n",
    "print(\"Bus Mileage=\",school_bus.mileage)\n",
    "print(\"Bus Capacity=\",school_bus.Bus_capacity)"
   ]
  },
  {
   "cell_type": "code",
   "execution_count": 31,
   "metadata": {},
   "outputs": [
    {
     "name": "stdout",
     "output_type": "stream",
     "text": [
      "Vehical name: 100 Max speed: Volvo 12 50\n"
     ]
    }
   ],
   "source": [
    "class vehical:\n",
    "    def __init__(self,max_speed,name,milege,Bus_capcity=50):\n",
    "        self.name=name\n",
    "        self.max_speed=max_speed\n",
    "        self.milege=milege\n",
    "        self.Bus_capcity=Bus_capcity\n",
    "class bus(vehical):\n",
    "    pass\n",
    "School_bus=bus(\"Volvo\",100,12)\n",
    "print(\"Vehical name:\",School_bus.name,\"Max speed:\",School_bus.max_speed,School_bus.milege,School_bus.Bus_capcity)\n"
   ]
  },
  {
   "cell_type": "code",
   "execution_count": 33,
   "metadata": {},
   "outputs": [
    {
     "name": "stdout",
     "output_type": "stream",
     "text": [
      "The seating capacity of a Volvo Bus is 50 passengers\n"
     ]
    }
   ],
   "source": [
    "class vehical:\n",
    "    def __init__(self,name,max_speed,mileage):\n",
    "        self.name=name\n",
    "        self.max_speed=max_speed\n",
    "        self.mileage=mileage\n",
    "        \n",
    "    def seating_capacity(self,capacity):\n",
    "        return f\"The seating capacity of a {self.name} is {capacity} passengers\"\n",
    "\n",
    "class Bus(vehical):\n",
    "    def seating_capacity(self,capacity=50):\n",
    "        return super().seating_capacity(capacity=50)\n",
    "    \n",
    "school_bus=Bus(\"Volvo Bus\",250,15)\n",
    "print(school_bus.seating_capacity())"
   ]
  },
  {
   "cell_type": "markdown",
   "metadata": {},
   "source": [
    "# Super()"
   ]
  },
  {
   "cell_type": "raw",
   "metadata": {},
   "source": [
    "This is builtin return a proxy object (temporary object of the superclass) that allows us to access methods of tha base class. In python super() has two major use cases.\n",
    "allow us to avoid using the base class name explicitly. Working with multiple inheritance."
   ]
  },
  {
   "cell_type": "code",
   "execution_count": 35,
   "metadata": {},
   "outputs": [
    {
     "name": "stdout",
     "output_type": "stream",
     "text": [
      "bus_name: volvo bus max speed: 100 bus_mileage: 12 bus_capacity: 50\n"
     ]
    }
   ],
   "source": [
    "class Vehicle:\n",
    "    def __init__(self,name,max_speed,mileage,bus_capacity=50):\n",
    "        self.name=name\n",
    "        self.max_speed=max_speed\n",
    "        self.mileage=mileage\n",
    "        self.bus_capacity=bus_capacity\n",
    "class bus(Vehicle):\n",
    "    pass\n",
    "school_bus=bus(\"volvo\",100,12)                \n",
    "print(\"bus_name:\",school_bus.name,\"bus max speed:\",school_bus.max_speed,\"bus_mileage:\",school_bus.mileage, \"bus_capacity:\",school_bus.bus_capacity)\n"
   ]
  },
  {
   "cell_type": "code",
   "execution_count": null,
   "metadata": {},
   "outputs": [],
   "source": []
  },
  {
   "cell_type": "code",
   "execution_count": 36,
   "metadata": {},
   "outputs": [
    {
     "name": "stdout",
     "output_type": "stream",
     "text": [
      "end\n"
     ]
    }
   ],
   "source": [
    "print(\"end\")"
   ]
  },
  {
   "cell_type": "code",
   "execution_count": null,
   "metadata": {},
   "outputs": [],
   "source": []
  }
 ],
 "metadata": {
  "kernelspec": {
   "display_name": "Python 3 (ipykernel)",
   "language": "python",
   "name": "python3"
  },
  "language_info": {
   "codemirror_mode": {
    "name": "ipython",
    "version": 3
   },
   "file_extension": ".py",
   "mimetype": "text/x-python",
   "name": "python",
   "nbconvert_exporter": "python",
   "pygments_lexer": "ipython3",
   "version": "3.9.7"
  }
 },
 "nbformat": 4,
 "nbformat_minor": 2
}
