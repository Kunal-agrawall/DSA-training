{
 "cells": [
  {
   "cell_type": "markdown",
   "id": "d2a84226",
   "metadata": {},
   "source": [
    "# Function"
   ]
  },
  {
   "cell_type": "raw",
   "id": "3e3f4bd7",
   "metadata": {},
   "source": [
    "It is the group of statement is repeatedly required then it is not recommended to write these statements everytime separtely. we have to define these statements as a single unit and we can call that unit any number of times based on our requirement without rewritting.\n",
    "this unit is nothing but function .\n",
    "\n",
    "There are two types of function are:-\n",
    "1-Built in function \n",
    "2-User define function \n",
    "\n",
    "1-Built in function:-\n",
    "\n",
    "id()\n",
    "eval()\n",
    "type()\n",
    "print()....etc\n",
    "\n",
    "2-User define function:-\n",
    "\n",
    "The function which are developed by programmer explicitly according to business are called user define\n",
    "how to create function:-\n",
    "syntax:-\n",
    "\n",
    "def func_name(parameter):\n",
    "\t\"doc _string\"       # optional\n",
    "\tfunction suite      # class, method,function\n",
    "\treturn expression   #  value return, expression\n",
    "calling func(argument)\n",
    "example:-\n",
    "\n",
    "def demo(): # parameter pass\n",
    "\tprint(\"welcome in function mode\")\n",
    "demo()# argm pass\n",
    "\n",
    "parameters:-\n",
    "\n",
    "parameters are input to the function it is also called arguments\n",
    "there are various type of arguments in python:-\n",
    "1- required / positional arguments\n",
    "2- keyword argument\n",
    "3- default argument\n",
    "4- variable length argument\n",
    "\n",
    "1- required / positional argument:-\n",
    "there are the arguments passed to function in correct positinal oredr \n",
    "def add(x,y):# parameter\n",
    "    print(x+y) # function suite\n",
    "    print(x-y)# function suite\n",
    "    print(x*y)# function suite\n",
    "add(10,20)\n",
    "the number of arguments and position of argument must be matched . if we chang the order than result may be chnged\n",
    "if we chng  the number of argument then we will get error.\n",
    "def add(x,y):# parameter\n",
    "    print(x+y) # function suite\n",
    "    print(x-y)# function suite\n",
    "    print(x*y)# function suite\n",
    "a=int(input(\"enter the value  of a\"))\n",
    "b=int(input(\"enter the value of b\"))\n",
    "add(a,b)\n",
    "\n",
    "NOTE:-\n",
    "required argm does not follow keyword argm but \n",
    "position argm follow keyword argm.\n",
    "\n",
    "def calc(x,y):# defining func and pass paarmeter\n",
    "    print(x+y)\n",
    "    print(x-y)\n",
    "    print(x*y)\n",
    "# calling func\n",
    "obj=calc(x=10,y=20)# pssing argument \n",
    "\n",
    "4- variable length argument:-\n",
    "\n",
    "sometimes we can pass variable number of argm to our func ,such type of argments are called variable length argm.\n",
    "we can declare a variable length argument with * symbol as follows\n",
    "\n",
    "def demo(*var):\n",
    "\n",
    "we can call this func by passing any number of argument including zero number.\n",
    "internally all these values represented in the form of tuple.\n",
    "\n",
    "def sum(*n):\n",
    "\ttotal=0\n",
    "\tfor n1 in n:\n",
    "\t\ttotal=total+n1\n",
    "\t\tprint(total)\n",
    "sum(10,20)\n",
    "\n"
   ]
  },
  {
   "cell_type": "code",
   "execution_count": 1,
   "id": "4d7df443",
   "metadata": {},
   "outputs": [],
   "source": [
    "# 1- required / positional arguments"
   ]
  },
  {
   "cell_type": "code",
   "execution_count": 3,
   "id": "b35bb48f",
   "metadata": {},
   "outputs": [
    {
     "name": "stdout",
     "output_type": "stream",
     "text": [
      "30\n",
      "-10\n",
      "200\n"
     ]
    }
   ],
   "source": [
    "def calc(x,y):# defining func and pass paarmeter\n",
    "    print(x+y)\n",
    "    print(x-y)\n",
    "    print(x*y)\n",
    "# calling func\n",
    "obj=calc(10,20)# pssing argument "
   ]
  },
  {
   "cell_type": "code",
   "execution_count": 4,
   "id": "8f17b9ac",
   "metadata": {},
   "outputs": [],
   "source": [
    "# 1- required"
   ]
  },
  {
   "cell_type": "code",
   "execution_count": 5,
   "id": "1c9c831e",
   "metadata": {},
   "outputs": [
    {
     "ename": "TypeError",
     "evalue": "calc() missing 1 required positional argument: 'y'",
     "output_type": "error",
     "traceback": [
      "\u001b[1;31m---------------------------------------------------------------------------\u001b[0m",
      "\u001b[1;31mTypeError\u001b[0m                                 Traceback (most recent call last)",
      "\u001b[1;32m~\\AppData\\Local\\Temp/ipykernel_11696/2816216730.py\u001b[0m in \u001b[0;36m<module>\u001b[1;34m\u001b[0m\n\u001b[0;32m      4\u001b[0m     \u001b[0mprint\u001b[0m\u001b[1;33m(\u001b[0m\u001b[0mx\u001b[0m\u001b[1;33m*\u001b[0m\u001b[0my\u001b[0m\u001b[1;33m)\u001b[0m\u001b[1;33m\u001b[0m\u001b[1;33m\u001b[0m\u001b[0m\n\u001b[0;32m      5\u001b[0m \u001b[1;31m# calling func\u001b[0m\u001b[1;33m\u001b[0m\u001b[1;33m\u001b[0m\u001b[0m\n\u001b[1;32m----> 6\u001b[1;33m \u001b[0mobj\u001b[0m\u001b[1;33m=\u001b[0m\u001b[0mcalc\u001b[0m\u001b[1;33m(\u001b[0m\u001b[1;36m10\u001b[0m\u001b[1;33m)\u001b[0m\u001b[1;31m# pssing argument\u001b[0m\u001b[1;33m\u001b[0m\u001b[1;33m\u001b[0m\u001b[0m\n\u001b[0m",
      "\u001b[1;31mTypeError\u001b[0m: calc() missing 1 required positional argument: 'y'"
     ]
    }
   ],
   "source": [
    "def calc(x,y):# defining func and pass paarmeter\n",
    "    print(x+y)\n",
    "    print(x-y)\n",
    "    print(x*y)\n",
    "# calling func\n",
    "obj=calc(10)# pssing argument "
   ]
  },
  {
   "cell_type": "code",
   "execution_count": 6,
   "id": "15f2fcb0",
   "metadata": {},
   "outputs": [],
   "source": [
    "# positional arguments"
   ]
  },
  {
   "cell_type": "code",
   "execution_count": 7,
   "id": "2e0a5eea",
   "metadata": {},
   "outputs": [
    {
     "name": "stdout",
     "output_type": "stream",
     "text": [
      "enter the value of x 10\n",
      "enter the value of y 20\n",
      "30\n",
      "-10\n",
      "200\n"
     ]
    }
   ],
   "source": [
    "def calc(x,y):# defining func and pass paarmeter\n",
    "    print(x+y)\n",
    "    print(x-y)\n",
    "    print(x*y)\n",
    "    \n",
    "x=int(input(\"enter the value of x \"))\n",
    "y=int(input(\"enter the value of y \"))\n",
    "# calling func\n",
    "obj=calc(x,y)# pssing argument "
   ]
  },
  {
   "cell_type": "code",
   "execution_count": 8,
   "id": "6a8a115b",
   "metadata": {},
   "outputs": [
    {
     "name": "stdout",
     "output_type": "stream",
     "text": [
      "enter the value of x 10\n",
      "enter the value of y 20\n",
      "30\n",
      "10\n",
      "200\n"
     ]
    }
   ],
   "source": [
    "def calc(x,y):# defining func and pass paarmeter\n",
    "    print(x+y)\n",
    "    print(x-y)\n",
    "    print(x*y)\n",
    "    \n",
    "x=int(input(\"enter the value of x \"))\n",
    "y=int(input(\"enter the value of y \"))\n",
    "# calling func\n",
    "obj=calc(y,x)# pssing argument "
   ]
  },
  {
   "cell_type": "code",
   "execution_count": 9,
   "id": "270bf793",
   "metadata": {},
   "outputs": [],
   "source": [
    "# 2- keyword argument"
   ]
  },
  {
   "cell_type": "code",
   "execution_count": 10,
   "id": "73f8c6e6",
   "metadata": {},
   "outputs": [
    {
     "name": "stdout",
     "output_type": "stream",
     "text": [
      "30\n",
      "-10\n",
      "200\n"
     ]
    }
   ],
   "source": [
    "def calc(x,y):# defining func and pass paarmeter\n",
    "    print(x+y)\n",
    "    print(x-y)\n",
    "    print(x*y)\n",
    "# calling func\n",
    "obj=calc(x=10,y=20)# pssing argument "
   ]
  },
  {
   "cell_type": "code",
   "execution_count": 11,
   "id": "10d9cf29",
   "metadata": {},
   "outputs": [],
   "source": [
    "# default argument"
   ]
  },
  {
   "cell_type": "code",
   "execution_count": 12,
   "id": "fe32a8db",
   "metadata": {},
   "outputs": [
    {
     "name": "stdout",
     "output_type": "stream",
     "text": [
      "3\n",
      "-1\n",
      "2\n"
     ]
    }
   ],
   "source": [
    "def calc(x=1,y=2):# defining func and default argm\n",
    "    print(x+y)\n",
    "    print(x-y)\n",
    "    print(x*y)\n",
    "# calling func\n",
    "obj=calc()# pssing argument "
   ]
  },
  {
   "cell_type": "code",
   "execution_count": 13,
   "id": "250dc486",
   "metadata": {},
   "outputs": [
    {
     "name": "stdout",
     "output_type": "stream",
     "text": [
      "30\n",
      "-10\n",
      "200\n"
     ]
    }
   ],
   "source": [
    "def calc(x=1,y=2):# defining func and default argm\n",
    "    print(x+y)\n",
    "    print(x-y)\n",
    "    print(x*y)\n",
    "# calling func\n",
    "obj=calc(10,20)# pssing argument "
   ]
  },
  {
   "cell_type": "code",
   "execution_count": 14,
   "id": "47ce0157",
   "metadata": {},
   "outputs": [],
   "source": [
    "# variable length argument"
   ]
  },
  {
   "cell_type": "code",
   "execution_count": 15,
   "id": "356f28e7",
   "metadata": {},
   "outputs": [
    {
     "name": "stdout",
     "output_type": "stream",
     "text": [
      "15\n"
     ]
    }
   ],
   "source": [
    "def sum(*n):\n",
    "\ttotal=0\n",
    "\tfor n1 in n:\n",
    "\t\ttotal=total+n1\n",
    "\tprint(total)\n",
    "sum(1,2,3,4,5)"
   ]
  },
  {
   "cell_type": "code",
   "execution_count": 1,
   "id": "4bd27792",
   "metadata": {},
   "outputs": [],
   "source": [
    "# WAP to create list?"
   ]
  },
  {
   "cell_type": "code",
   "execution_count": 2,
   "id": "ffc434a7",
   "metadata": {},
   "outputs": [
    {
     "name": "stdout",
     "output_type": "stream",
     "text": [
      "<class 'list'>\n",
      "[1, 20, 30, 'python', True, 12.05]\n"
     ]
    }
   ],
   "source": [
    "x=[1,20,30,\"python\",True,12.05]\n",
    "print(type(x))\n",
    "print(x)"
   ]
  },
  {
   "cell_type": "code",
   "execution_count": null,
   "id": "97d80bec",
   "metadata": {},
   "outputs": [],
   "source": [
    "x=[\"A\",\"B\",\"C\",\"D\",\"E\"]\n",
    "WAP to print index value of every list elements?  "
   ]
  },
  {
   "cell_type": "code",
   "execution_count": 16,
   "id": "3d8afb1f",
   "metadata": {},
   "outputs": [
    {
     "name": "stdout",
     "output_type": "stream",
     "text": [
      "end\n"
     ]
    }
   ],
   "source": [
    "print(\"end\")"
   ]
  },
  {
   "cell_type": "raw",
   "id": "de278531",
   "metadata": {},
   "source": [
    "WAP to print your name in python function?\n",
    "WAP to check number is even or odd using function ?"
   ]
  },
  {
   "cell_type": "code",
   "execution_count": 17,
   "id": "bc61ae04",
   "metadata": {},
   "outputs": [
    {
     "name": "stdout",
     "output_type": "stream",
     "text": [
      "end\n"
     ]
    }
   ],
   "source": [
    "print(\"end\")"
   ]
  },
  {
   "cell_type": "code",
   "execution_count": 6,
   "id": "ba084498",
   "metadata": {},
   "outputs": [
    {
     "name": "stdout",
     "output_type": "stream",
     "text": [
      "0 index A -4\n",
      "1 index B -3\n",
      "2 index C -2\n",
      "3 index D -1\n"
     ]
    }
   ],
   "source": [
    "lists = [\"A\",\"B\",\"C\",\"D\"]\n",
    "for i in range(len(lists)):\n",
    "    print(i,\"index\",lists[i],i-len(lists))"
   ]
  },
  {
   "cell_type": "code",
   "execution_count": 7,
   "id": "197478c2",
   "metadata": {},
   "outputs": [
    {
     "name": "stdout",
     "output_type": "stream",
     "text": [
      "enter value of row:6\n",
      "* \n",
      "* * \n",
      "* * * \n",
      "* * * * \n",
      "* * * * * \n",
      "* * * * * * \n"
     ]
    }
   ],
   "source": [
    "row=int(input(\"enter value of row:\"))\n",
    "for i in range(1,row+1):\n",
    "    for j in range(1,i+1):\n",
    "        print(\"*\",end=' ')\n",
    "    print()"
   ]
  },
  {
   "cell_type": "code",
   "execution_count": 9,
   "id": "48e56d6a",
   "metadata": {},
   "outputs": [
    {
     "name": "stdout",
     "output_type": "stream",
     "text": [
      "enter value of row:5\n",
      "* * * * * \n",
      "* * * * \n",
      "* * * \n",
      "* * \n",
      "* \n"
     ]
    }
   ],
   "source": [
    "row=int(input(\"enter value of row:\"))\n",
    "for i in range(row,0,-1):\n",
    "    for j in range(i,0,-1):\n",
    "        print(\"*\",end=' ')\n",
    "    print()"
   ]
  },
  {
   "cell_type": "code",
   "execution_count": 10,
   "id": "ba954349",
   "metadata": {},
   "outputs": [
    {
     "name": "stdout",
     "output_type": "stream",
     "text": [
      "     *\n",
      "    **\n",
      "   ***\n",
      "  ****\n"
     ]
    }
   ],
   "source": [
    "for i in range(1, row+1):\n",
    "    print(' '*(row-i), end='')\n",
    "    print('*'*i)"
   ]
  },
  {
   "cell_type": "code",
   "execution_count": 11,
   "id": "4030d616",
   "metadata": {},
   "outputs": [
    {
     "name": "stdout",
     "output_type": "stream",
     "text": [
      "    *\n",
      "   **\n",
      "  ***\n",
      " ****\n",
      "*****\n"
     ]
    }
   ],
   "source": [
    "for i in range (1,row+1):\n",
    "    for n in range(row-i):\n",
    "        print(end=\" \")\n",
    "    for j in range(i):\n",
    "        print(\"*\",end=\"\")\n",
    "    print()"
   ]
  },
  {
   "cell_type": "code",
   "execution_count": null,
   "id": "114c55c3",
   "metadata": {},
   "outputs": [],
   "source": [
    "# WAP to create functin and count upper case and lower case from given string?\n",
    "string=\"Python is Programming Language\""
   ]
  },
  {
   "cell_type": "code",
   "execution_count": 12,
   "id": "8b27d594",
   "metadata": {},
   "outputs": [
    {
     "name": "stdout",
     "output_type": "stream",
     "text": [
      "3\n",
      "27\n"
     ]
    }
   ],
   "source": [
    "def check(s):\n",
    "    uppercase=0\n",
    "    lowercase=0\n",
    "    for i in range(len(s)):\n",
    "        if s[i]>='A' and s[i]<='Z':\n",
    "            uppercase+=1\n",
    "        else:\n",
    "            lowercase+=1\n",
    "    print(uppercase)\n",
    "    print(lowercase)\n",
    "s=\"Python is Programming Language\"\n",
    "check(s)"
   ]
  },
  {
   "cell_type": "code",
   "execution_count": 13,
   "id": "fa81e50b",
   "metadata": {},
   "outputs": [
    {
     "name": "stdout",
     "output_type": "stream",
     "text": [
      "end\n"
     ]
    }
   ],
   "source": [
    "print(\"end\")"
   ]
  },
  {
   "cell_type": "code",
   "execution_count": null,
   "id": "56c98b0f",
   "metadata": {},
   "outputs": [],
   "source": []
  }
 ],
 "metadata": {
  "kernelspec": {
   "display_name": "Python 3 (ipykernel)",
   "language": "python",
   "name": "python3"
  },
  "language_info": {
   "codemirror_mode": {
    "name": "ipython",
    "version": 3
   },
   "file_extension": ".py",
   "mimetype": "text/x-python",
   "name": "python",
   "nbconvert_exporter": "python",
   "pygments_lexer": "ipython3",
   "version": "3.9.7"
  }
 },
 "nbformat": 4,
 "nbformat_minor": 5
}
