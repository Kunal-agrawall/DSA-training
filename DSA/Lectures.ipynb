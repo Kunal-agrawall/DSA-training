{
 "cells": [
  {
   "cell_type": "code",
   "execution_count": 1,
   "id": "160b070d",
   "metadata": {},
   "outputs": [],
   "source": [
    "  # Control flow"
   ]
  },
  {
   "cell_type": "raw",
   "id": "1c7a6af3",
   "metadata": {},
   "source": [
    "if \n",
    "else\n",
    "elif"
   ]
  },
  {
   "cell_type": "raw",
   "id": "a9fd0ddd",
   "metadata": {},
   "source": [
    "# if\n",
    "Syntax\n",
    "\n",
    "if condition:\n",
    "    statement\n",
    "    statement\n",
    "    statement\n",
    "    .\n",
    "    .\n",
    "    ..\n",
    "    n\n",
    "    \n",
    "    \n",
    "# if else\n",
    "\n",
    "Syntax:\n",
    "\n",
    "if condition:\n",
    "    statement\n",
    "else:\n",
    "    statement\n",
    "    statement\n",
    "    statement\n",
    "    .\n",
    "    .\n",
    "    ..\n",
    "\n",
    "    \n",
    "    \n",
    "# elif\n",
    "Syntax\n",
    "if condition:\n",
    "    statement\n",
    "elif condition:\n",
    "    statement\n",
    "    statement\n",
    "else:\n",
    "    statement"
   ]
  },
  {
   "cell_type": "code",
   "execution_count": 2,
   "id": "fafb801a",
   "metadata": {},
   "outputs": [],
   "source": [
    "# WAP to check number is even ?"
   ]
  },
  {
   "cell_type": "code",
   "execution_count": 4,
   "id": "c39acbc6",
   "metadata": {},
   "outputs": [
    {
     "name": "stdout",
     "output_type": "stream",
     "text": [
      "Enter the value of x:10\n",
      "Number is Even\n"
     ]
    }
   ],
   "source": [
    "x=int(input(\"Enter the value of x:\"))\n",
    "if x%2==0:\n",
    "    print(\"Number is Even\")"
   ]
  },
  {
   "cell_type": "code",
   "execution_count": 5,
   "id": "07588034",
   "metadata": {},
   "outputs": [
    {
     "name": "stdout",
     "output_type": "stream",
     "text": [
      "Enter the value of x:10\n",
      "Number is Even 10\n"
     ]
    }
   ],
   "source": [
    "x=int(input(\"Enter the value of x:\"))\n",
    "if x%2==0:\n",
    "    print(\"Number is Even\",x)"
   ]
  },
  {
   "cell_type": "code",
   "execution_count": null,
   "id": "341ee941",
   "metadata": {},
   "outputs": [],
   "source": [
    "# WAP to check number is Negative ?"
   ]
  },
  {
   "cell_type": "code",
   "execution_count": 6,
   "id": "c25db98f",
   "metadata": {},
   "outputs": [],
   "source": [
    "# else"
   ]
  },
  {
   "cell_type": "code",
   "execution_count": 7,
   "id": "c199a8ea",
   "metadata": {},
   "outputs": [],
   "source": [
    "# WAP to check number is even or odd?"
   ]
  },
  {
   "cell_type": "code",
   "execution_count": 8,
   "id": "22f3a0dd",
   "metadata": {},
   "outputs": [
    {
     "name": "stdout",
     "output_type": "stream",
     "text": [
      "Enter the value of x:11\n",
      "Number is Odd 11\n"
     ]
    }
   ],
   "source": [
    "x=int(input(\"Enter the value of x:\"))\n",
    "if x%2==0:\n",
    "    print(\"Number is Even\",x)\n",
    "else:\n",
    "    print(\"Number is Odd\",x)"
   ]
  },
  {
   "cell_type": "code",
   "execution_count": null,
   "id": "2a98bc2b",
   "metadata": {},
   "outputs": [],
   "source": [
    "# WAP to check number is Negative or positive ?"
   ]
  },
  {
   "cell_type": "code",
   "execution_count": null,
   "id": "b4ee80b0",
   "metadata": {},
   "outputs": [],
   "source": [
    "# WAP to check number is greater or smaller and equal?     "
   ]
  },
  {
   "cell_type": "code",
   "execution_count": 10,
   "id": "abc39743",
   "metadata": {},
   "outputs": [
    {
     "name": "stdout",
     "output_type": "stream",
     "text": [
      "Enter the value of x:-1\n",
      "Enter the value of y:-1\n",
      "Enter the value of z:-2\n",
      "z is smaller -2\n"
     ]
    }
   ],
   "source": [
    "x=int(input(\"Enter the value of x:\"))\n",
    "y=int(input(\"Enter the value of y:\"))\n",
    "z=int(input(\"Enter the value of z:\"))\n",
    "\n",
    "if x>y and x>z:\n",
    "    print(\"x is greater\",x)\n",
    "elif y>x and y>z:\n",
    "    print(\"y is greater\",y)\n",
    "elif z>y and y>z:\n",
    "    print(\"z is greater\",z)\n",
    "elif x<y and x<z:\n",
    "    print(\"x is smaller\",x)\n",
    "elif y<x and y<z:\n",
    "    print(\"y is smaller\",y)\n",
    "elif z<y and z<x:\n",
    "    print(\"z is smaller\",z)\n",
    "else:\n",
    "    print(\"all are equal\")\n",
    "    \n",
    "    "
   ]
  },
  {
   "cell_type": "code",
   "execution_count": 17,
   "id": "c594e228",
   "metadata": {},
   "outputs": [
    {
     "name": "stdout",
     "output_type": "stream",
     "text": [
      "Enter a year1900\n",
      "not a leap year\n"
     ]
    }
   ],
   "source": [
    "#WAP to check year is leap?5\n",
    "x = int(input(\"Enter a year\"))\n",
    "if (x%4==0 and x%100!=0) or x%400==0:\n",
    "    print(\"leap year\")\n",
    "else:\n",
    "    print(\"not a leap year\")"
   ]
  },
  {
   "cell_type": "code",
   "execution_count": null,
   "id": "d4e2a4e0",
   "metadata": {},
   "outputs": [],
   "source": [
    "# for loop\n",
    "\n",
    " syntax:\n",
    "    \n",
    "    for var_name in sequence or conditions:\n",
    "        statement\n",
    "        \n",
    "        \n",
    "        range:\n",
    "            \n",
    "            syntax:\n",
    "                range(begin,end,step)"
   ]
  },
  {
   "cell_type": "code",
   "execution_count": 19,
   "id": "8ed10ef8",
   "metadata": {},
   "outputs": [
    {
     "name": "stdout",
     "output_type": "stream",
     "text": [
      "odd number 1\n",
      "even number 2\n",
      "odd number 3\n",
      "even number 4\n",
      "odd number 5\n",
      "even number 6\n",
      "odd number 7\n",
      "even number 8\n",
      "odd number 9\n"
     ]
    }
   ],
   "source": [
    "# WAP to check number is even or odd from range? using for loop\n",
    "for i in range(1,10):\n",
    "    if i%2 == 0:\n",
    "        print(\"even number\",i)\n",
    "    else:\n",
    "        print(\"odd number\",i)"
   ]
  },
  {
   "cell_type": "code",
   "execution_count": 20,
   "id": "b9b94df4",
   "metadata": {},
   "outputs": [
    {
     "ename": "SyntaxError",
     "evalue": "invalid syntax (Temp/ipykernel_4056/1633575047.py, line 3)",
     "output_type": "error",
     "traceback": [
      "\u001b[1;36m  File \u001b[1;32m\"C:\\Users\\HP\\AppData\\Local\\Temp/ipykernel_4056/1633575047.py\"\u001b[1;36m, line \u001b[1;32m3\u001b[0m\n\u001b[1;33m    output:\u001b[0m\n\u001b[1;37m           ^\u001b[0m\n\u001b[1;31mSyntaxError\u001b[0m\u001b[1;31m:\u001b[0m invalid syntax\n"
     ]
    }
   ],
   "source": [
    "# WAP to print table of 2?\n",
    "input= 2\n",
    "output:\n",
    "    2X1=2\n",
    "    2X2=4\n",
    "    .\n",
    "    .\n",
    "    .\n",
    "    .\n",
    "    2X10=20 "
   ]
  },
  {
   "cell_type": "code",
   "execution_count": 22,
   "id": "f77eda93",
   "metadata": {},
   "outputs": [
    {
     "name": "stdout",
     "output_type": "stream",
     "text": [
      "2 x 1 = 2\n",
      "2 x 2 = 4\n",
      "2 x 3 = 6\n",
      "2 x 4 = 8\n",
      "2 x 5 = 10\n",
      "2 x 6 = 12\n",
      "2 x 7 = 14\n",
      "2 x 8 = 16\n",
      "2 x 9 = 18\n",
      "2 x 10 = 20\n"
     ]
    }
   ],
   "source": [
    "n = 2\n",
    "for i in range(1,11):\n",
    "    print(n,'x',i,'=',n*i)"
   ]
  },
  {
   "cell_type": "code",
   "execution_count": null,
   "id": "660c2e1b",
   "metadata": {},
   "outputs": [],
   "source": []
  },
  {
   "cell_type": "code",
   "execution_count": 28,
   "id": "9129b876",
   "metadata": {},
   "outputs": [
    {
     "name": "stdout",
     "output_type": "stream",
     "text": [
      "table of :  1\n",
      "1 * 1 = 1\n",
      "1 * 2 = 2\n",
      "1 * 3 = 3\n",
      "1 * 4 = 4\n",
      "1 * 5 = 5\n",
      "1 * 6 = 6\n",
      "1 * 7 = 7\n",
      "1 * 8 = 8\n",
      "1 * 9 = 9\n",
      "1 * 10 = 10\n",
      "table of :  2\n",
      "2 * 1 = 2\n",
      "2 * 2 = 4\n",
      "2 * 3 = 6\n",
      "2 * 4 = 8\n",
      "2 * 5 = 10\n",
      "2 * 6 = 12\n",
      "2 * 7 = 14\n",
      "2 * 8 = 16\n",
      "2 * 9 = 18\n",
      "2 * 10 = 20\n",
      "table of :  3\n",
      "3 * 1 = 3\n",
      "3 * 2 = 6\n",
      "3 * 3 = 9\n",
      "3 * 4 = 12\n",
      "3 * 5 = 15\n",
      "3 * 6 = 18\n",
      "3 * 7 = 21\n",
      "3 * 8 = 24\n",
      "3 * 9 = 27\n",
      "3 * 10 = 30\n",
      "table of :  4\n",
      "4 * 1 = 4\n",
      "4 * 2 = 8\n",
      "4 * 3 = 12\n",
      "4 * 4 = 16\n",
      "4 * 5 = 20\n",
      "4 * 6 = 24\n",
      "4 * 7 = 28\n",
      "4 * 8 = 32\n",
      "4 * 9 = 36\n",
      "4 * 10 = 40\n",
      "table of :  5\n",
      "5 * 1 = 5\n",
      "5 * 2 = 10\n",
      "5 * 3 = 15\n",
      "5 * 4 = 20\n",
      "5 * 5 = 25\n",
      "5 * 6 = 30\n",
      "5 * 7 = 35\n",
      "5 * 8 = 40\n",
      "5 * 9 = 45\n",
      "5 * 10 = 50\n",
      "table of :  6\n",
      "6 * 1 = 6\n",
      "6 * 2 = 12\n",
      "6 * 3 = 18\n",
      "6 * 4 = 24\n",
      "6 * 5 = 30\n",
      "6 * 6 = 36\n",
      "6 * 7 = 42\n",
      "6 * 8 = 48\n",
      "6 * 9 = 54\n",
      "6 * 10 = 60\n",
      "table of :  7\n",
      "7 * 1 = 7\n",
      "7 * 2 = 14\n",
      "7 * 3 = 21\n",
      "7 * 4 = 28\n",
      "7 * 5 = 35\n",
      "7 * 6 = 42\n",
      "7 * 7 = 49\n",
      "7 * 8 = 56\n",
      "7 * 9 = 63\n",
      "7 * 10 = 70\n",
      "table of :  8\n",
      "8 * 1 = 8\n",
      "8 * 2 = 16\n",
      "8 * 3 = 24\n",
      "8 * 4 = 32\n",
      "8 * 5 = 40\n",
      "8 * 6 = 48\n",
      "8 * 7 = 56\n",
      "8 * 8 = 64\n",
      "8 * 9 = 72\n",
      "8 * 10 = 80\n",
      "table of :  9\n",
      "9 * 1 = 9\n",
      "9 * 2 = 18\n",
      "9 * 3 = 27\n",
      "9 * 4 = 36\n",
      "9 * 5 = 45\n",
      "9 * 6 = 54\n",
      "9 * 7 = 63\n",
      "9 * 8 = 72\n",
      "9 * 9 = 81\n",
      "9 * 10 = 90\n",
      "table of :  10\n",
      "10 * 1 = 10\n",
      "10 * 2 = 20\n",
      "10 * 3 = 30\n",
      "10 * 4 = 40\n",
      "10 * 5 = 50\n",
      "10 * 6 = 60\n",
      "10 * 7 = 70\n",
      "10 * 8 = 80\n",
      "10 * 9 = 90\n",
      "10 * 10 = 100\n",
      "table of :  11\n",
      "11 * 1 = 11\n",
      "11 * 2 = 22\n",
      "11 * 3 = 33\n",
      "11 * 4 = 44\n",
      "11 * 5 = 55\n",
      "11 * 6 = 66\n",
      "11 * 7 = 77\n",
      "11 * 8 = 88\n",
      "11 * 9 = 99\n",
      "11 * 10 = 110\n",
      "table of :  12\n",
      "12 * 1 = 12\n",
      "12 * 2 = 24\n",
      "12 * 3 = 36\n",
      "12 * 4 = 48\n",
      "12 * 5 = 60\n",
      "12 * 6 = 72\n",
      "12 * 7 = 84\n",
      "12 * 8 = 96\n",
      "12 * 9 = 108\n",
      "12 * 10 = 120\n",
      "table of :  13\n",
      "13 * 1 = 13\n",
      "13 * 2 = 26\n",
      "13 * 3 = 39\n",
      "13 * 4 = 52\n",
      "13 * 5 = 65\n",
      "13 * 6 = 78\n",
      "13 * 7 = 91\n",
      "13 * 8 = 104\n",
      "13 * 9 = 117\n",
      "13 * 10 = 130\n",
      "table of :  14\n",
      "14 * 1 = 14\n",
      "14 * 2 = 28\n",
      "14 * 3 = 42\n",
      "14 * 4 = 56\n",
      "14 * 5 = 70\n",
      "14 * 6 = 84\n",
      "14 * 7 = 98\n",
      "14 * 8 = 112\n",
      "14 * 9 = 126\n",
      "14 * 10 = 140\n",
      "table of :  15\n",
      "15 * 1 = 15\n",
      "15 * 2 = 30\n",
      "15 * 3 = 45\n",
      "15 * 4 = 60\n",
      "15 * 5 = 75\n",
      "15 * 6 = 90\n",
      "15 * 7 = 105\n",
      "15 * 8 = 120\n",
      "15 * 9 = 135\n",
      "15 * 10 = 150\n",
      "table of :  16\n",
      "16 * 1 = 16\n",
      "16 * 2 = 32\n",
      "16 * 3 = 48\n",
      "16 * 4 = 64\n",
      "16 * 5 = 80\n",
      "16 * 6 = 96\n",
      "16 * 7 = 112\n",
      "16 * 8 = 128\n",
      "16 * 9 = 144\n",
      "16 * 10 = 160\n",
      "table of :  17\n",
      "17 * 1 = 17\n",
      "17 * 2 = 34\n",
      "17 * 3 = 51\n",
      "17 * 4 = 68\n",
      "17 * 5 = 85\n",
      "17 * 6 = 102\n",
      "17 * 7 = 119\n",
      "17 * 8 = 136\n",
      "17 * 9 = 153\n",
      "17 * 10 = 170\n",
      "table of :  18\n",
      "18 * 1 = 18\n",
      "18 * 2 = 36\n",
      "18 * 3 = 54\n",
      "18 * 4 = 72\n",
      "18 * 5 = 90\n",
      "18 * 6 = 108\n",
      "18 * 7 = 126\n",
      "18 * 8 = 144\n",
      "18 * 9 = 162\n",
      "18 * 10 = 180\n",
      "table of :  19\n",
      "19 * 1 = 19\n",
      "19 * 2 = 38\n",
      "19 * 3 = 57\n",
      "19 * 4 = 76\n",
      "19 * 5 = 95\n",
      "19 * 6 = 114\n",
      "19 * 7 = 133\n",
      "19 * 8 = 152\n",
      "19 * 9 = 171\n",
      "19 * 10 = 190\n",
      "table of :  20\n",
      "20 * 1 = 20\n",
      "20 * 2 = 40\n",
      "20 * 3 = 60\n",
      "20 * 4 = 80\n",
      "20 * 5 = 100\n",
      "20 * 6 = 120\n",
      "20 * 7 = 140\n",
      "20 * 8 = 160\n",
      "20 * 9 = 180\n",
      "20 * 10 = 200\n"
     ]
    }
   ],
   "source": [
    "for i in range(1,21):\n",
    "    print(\"table of : \", i)\n",
    "    for j in range(1,11):\n",
    "        print(i, \"*\",j,'=',i*j)"
   ]
  },
  {
   "cell_type": "raw",
   "id": "decf96ef",
   "metadata": {},
   "source": [
    "# While loop\n",
    "\n",
    "# syntax:\n",
    "\n",
    "while conditions:\n",
    "    statement\n",
    "    statement"
   ]
  },
  {
   "cell_type": "code",
   "execution_count": 29,
   "id": "40406353",
   "metadata": {},
   "outputs": [],
   "source": [
    "# WAP to print 100-1 using while loop?"
   ]
  },
  {
   "cell_type": "code",
   "execution_count": 34,
   "id": "c26f9265",
   "metadata": {},
   "outputs": [
    {
     "name": "stdout",
     "output_type": "stream",
     "text": [
      "100, 99, 98, 97, 96, 95, 94, 93, 92, 91, 90, 89, 88, 87, 86, 85, 84, 83, 82, 81, 80, 79, 78, 77, 76, 75, 74, 73, 72, 71, 70, 69, 68, 67, 66, 65, 64, 63, 62, 61, 60, 59, 58, 57, 56, 55, 54, 53, 52, 51, 50, 49, 48, 47, 46, 45, 44, 43, 42, 41, 40, 39, 38, 37, 36, 35, 34, 33, 32, 31, 30, 29, 28, 27, 26, 25, 24, 23, 22, 21, 20, 19, 18, 17, 16, 15, 14, 13, 12, 11, 10, 9, 8, 7, 6, 5, 4, 3, 2, 1, "
     ]
    }
   ],
   "source": [
    "a = 100\n",
    "while a >0:\n",
    "    print(a,end= \", \")\n",
    "    a = a-1"
   ]
  },
  {
   "cell_type": "raw",
   "id": "40c2c92d",
   "metadata": {},
   "source": [
    "# WAP to input a number and print their digit of sum?\n",
    "input=187\n",
    "output=16"
   ]
  },
  {
   "cell_type": "code",
   "execution_count": 35,
   "id": "4dd7f7a6",
   "metadata": {},
   "outputs": [
    {
     "name": "stdout",
     "output_type": "stream",
     "text": [
      "enter the number123\n",
      "the sum of digit is 6\n"
     ]
    }
   ],
   "source": [
    "num = int(input(\"enter the number\"))\n",
    "sum = 0\n",
    "a = num\n",
    "while num>0:\n",
    "    digit = num%10\n",
    "    sum=sum+digit\n",
    "    num= num//10\n",
    "print(\"the sum of digit is\",sum)"
   ]
  },
  {
   "cell_type": "code",
   "execution_count": null,
   "id": "1119bd70",
   "metadata": {},
   "outputs": [],
   "source": [
    "Transfer Statement:\n",
    "    break\n",
    "    pass\n",
    "    continue\n",
    "    "
   ]
  },
  {
   "cell_type": "code",
   "execution_count": 37,
   "id": "380672dd",
   "metadata": {},
   "outputs": [
    {
     "name": "stdout",
     "output_type": "stream",
     "text": [
      "1 2 3 4 5 6 7 8 9 10 11 12 13 14 15 16 17 18 19 "
     ]
    }
   ],
   "source": [
    "for i in range(1,20):\n",
    "    print(i,end=' ')"
   ]
  },
  {
   "cell_type": "code",
   "execution_count": 38,
   "id": "4abf3d45",
   "metadata": {},
   "outputs": [],
   "source": [
    "# break"
   ]
  },
  {
   "cell_type": "code",
   "execution_count": 3,
   "id": "843b2e7a",
   "metadata": {},
   "outputs": [
    {
     "name": "stdout",
     "output_type": "stream",
     "text": [
      "1 2 3 4 5 6 7 8 9 10 11 12 13 14 outside the loop\n"
     ]
    }
   ],
   "source": [
    "for i in range(1,20):\n",
    "    if i==15:\n",
    "        break\n",
    "    print(i,end=' ')\n",
    "print(\"outside the loop\")"
   ]
  },
  {
   "cell_type": "code",
   "execution_count": 4,
   "id": "86e17e6d",
   "metadata": {},
   "outputs": [],
   "source": [
    "# continue"
   ]
  },
  {
   "cell_type": "code",
   "execution_count": 5,
   "id": "ba873010",
   "metadata": {},
   "outputs": [
    {
     "name": "stdout",
     "output_type": "stream",
     "text": [
      "1 2 3 4 5 6 7 8 9 10 11 12 13 14 16 17 18 19 outside the loop\n"
     ]
    }
   ],
   "source": [
    "for i in range(1,20):\n",
    "    if i==15:\n",
    "         \n",
    "    print(i,end=' ')\n",
    "print(\"outside the loop\")"
   ]
  },
  {
   "cell_type": "code",
   "execution_count": 6,
   "id": "ab1446ce",
   "metadata": {},
   "outputs": [],
   "source": [
    "# pass"
   ]
  },
  {
   "cell_type": "code",
   "execution_count": 7,
   "id": "13800172",
   "metadata": {},
   "outputs": [
    {
     "name": "stdout",
     "output_type": "stream",
     "text": [
      "1 2 3 4 5 6 7 8 9 10 11 12 13 14 15 16 17 18 19 outside the loop\n"
     ]
    }
   ],
   "source": [
    "for i in range(1,20):\n",
    "    if i==15:\n",
    "        pass\n",
    "    print(i,end=' ')\n",
    "print(\"outside the loop\")"
   ]
  },
  {
   "cell_type": "markdown",
   "id": "f6359eae",
   "metadata": {},
   "source": [
    "# Day 05 - 13-02-2025- EEC Training"
   ]
  },
  {
   "cell_type": "raw",
   "id": "2f99bedf",
   "metadata": {},
   "source": [
    "# List Tuple Set Dic"
   ]
  },
  {
   "cell_type": "code",
   "execution_count": 8,
   "id": "c34c9aca",
   "metadata": {},
   "outputs": [],
   "source": [
    "#List"
   ]
  },
  {
   "cell_type": "raw",
   "id": "3ff55eff",
   "metadata": {},
   "source": [
    "List is the collection of hetrogenious object where insertion order is preserved, list contains a duplicates values, it is mutable and we can perform CRUD operation.\n",
    "C- Create\n",
    "R- Read\n",
    "U= Update\n",
    "D= Delete"
   ]
  },
  {
   "cell_type": "code",
   "execution_count": 10,
   "id": "317966e2",
   "metadata": {},
   "outputs": [
    {
     "name": "stdout",
     "output_type": "stream",
     "text": [
      "[10, 20, 30, True, 10, 20, 12.05, 'Python', (10+15j), 'ML']\n",
      "<class 'list'>\n"
     ]
    }
   ],
   "source": [
    "x=[10,20,30,True,10,20,12.05,\"Python\",10+15j,\"ML\"]\n",
    "print(x)\n",
    "print(type(x))"
   ]
  },
  {
   "cell_type": "raw",
   "id": "caaff302",
   "metadata": {},
   "source": [
    "method:\n",
    "    append\n",
    "    insert\n",
    "    pop\n",
    "    split\n",
    "    max\n",
    "    min\n",
    "    len\n",
    "    add\n",
    "    clear\n",
    "    sort\n",
    "    reverse\n",
    "    "
   ]
  },
  {
   "cell_type": "code",
   "execution_count": null,
   "id": "662b3446",
   "metadata": {},
   "outputs": [],
   "source": [
    "WAP to create a list with elements and apply list methods?\n",
    "x=[10,20,30,120,150,13.02,1589,1456]"
   ]
  },
  {
   "cell_type": "raw",
   "id": "f82e0806",
   "metadata": {},
   "source": [
    "Wap to sum all the items in a list.\n",
    "\n",
    "WAP to get a list, sorted in increasing order by the last element in each tuple from a given list of non-empty tuples.\n",
    "Sample List : [(2, 5), (1, 2), (4, 4), (2, 3), (2, 1)]\n",
    "Expected Result : [(2, 1), (1, 2), (2, 3), (4, 4), (2, 5)]\n",
    "\n",
    "WAP that takes two lists and returns True if they have at least one common member."
   ]
  },
  {
   "cell_type": "code",
   "execution_count": 11,
   "id": "fa2d0dbd",
   "metadata": {},
   "outputs": [
    {
     "name": "stdout",
     "output_type": "stream",
     "text": [
      "[(2, 1), (1, 2), (2, 3), (4, 4), (2, 5)]\n"
     ]
    }
   ],
   "source": [
    "a = [(2, 5), (1, 2), (4, 4), (2, 3), (2, 1)]\n",
    "def last(n):\n",
    "    return n[-1]\n",
    "def sorted_list(tuples):\n",
    "    return sorted(tuples, key = last)\n",
    "print(sorted_list(a))"
   ]
  },
  {
   "cell_type": "code",
   "execution_count": 13,
   "id": "d699afaa",
   "metadata": {},
   "outputs": [
    {
     "name": "stdout",
     "output_type": "stream",
     "text": [
      "(2, 1)\n"
     ]
    }
   ],
   "source": [
    "a = [(2, 5), (1, 2), (4, 4), (2, 3), (2, 1)]\n",
    "def last(n):\n",
    "    return n[-1]\n",
    "print(last(a))"
   ]
  },
  {
   "cell_type": "raw",
   "id": "c033e8e6",
   "metadata": {},
   "source": [
    "Write a Python program to sort a given list of non-empty tuples in increasing order by the sum of elements in each tuple.\n",
    "\n",
    "Sample List:\n",
    "\n",
    "[(2, 5), (1, 2), (4, 4), (2, 3), (2, 1)]\n",
    "\n",
    "Expected Result:\n",
    "\n",
    "[(2, 1), (1, 2), (2, 3), (2, 5), (4, 4)]"
   ]
  },
  {
   "cell_type": "code",
   "execution_count": 14,
   "id": "2b2449b2",
   "metadata": {},
   "outputs": [],
   "source": [
    "# Tuple:"
   ]
  },
  {
   "cell_type": "raw",
   "id": "14c5a0f8",
   "metadata": {},
   "source": [
    "Tuple is the collection of hetrogenious object where insertion order is preserved, tuple contains a duplicates values, it is immutable, represented By ()."
   ]
  },
  {
   "cell_type": "code",
   "execution_count": 15,
   "id": "34fe280c",
   "metadata": {},
   "outputs": [
    {
     "name": "stdout",
     "output_type": "stream",
     "text": [
      "(10, 20, 30, True, 10, 20, 12.05, 'Python', (10+15j), 'ML')\n",
      "<class 'tuple'>\n"
     ]
    }
   ],
   "source": [
    "x=(10,20,30,True,10,20,12.05,\"Python\",10+15j,\"ML\")\n",
    "print(x)\n",
    "print(type(x))"
   ]
  },
  {
   "cell_type": "raw",
   "id": "91c0d1e5",
   "metadata": {},
   "source": [
    "method:\n",
    "    append\n",
    "    insert\n",
    "    pop\n",
    "    split\n",
    "    max\n",
    "    min\n",
    "    len\n",
    "    add\n",
    "    clear\n",
    "    sort\n",
    "    reverse"
   ]
  },
  {
   "cell_type": "raw",
   "id": "6d01a4a9",
   "metadata": {},
   "source": [
    "WAP to create a Tuple with elements and apply Tuple methods?\n",
    "x=(10,20,30,120,150,13.02,1589,1456)"
   ]
  },
  {
   "cell_type": "raw",
   "id": "ef9afb21",
   "metadata": {},
   "source": [
    "Write a Python program to get the 4th element from the last element of a tuple.\n",
    "\n",
    "Write a Python program to replace the last value of tuples in a list.\n",
    "Sample list: [(10, 20, 40), (40, 50, 60), (70, 80, 90)]\n",
    "Expected Output: [(10, 20, 100), (40, 50, 100), (70, 80, 100)]\n",
    "\n",
    "\n",
    "Write a Python program to remove an empty tuple(s) from a list of tuples.\n",
    "Sample data: [(), (), ('',), ('a', 'b'), ('a', 'b', 'c'), ('d')]\n",
    "Expected output: [('',), ('a', 'b'), ('a', 'b', 'c'), 'd']"
   ]
  },
  {
   "cell_type": "code",
   "execution_count": 17,
   "id": "ecc4ea94",
   "metadata": {},
   "outputs": [
    {
     "name": "stdout",
     "output_type": "stream",
     "text": [
      "[('',), ('a', 'b'), ('a', 'b', 'c'), 'd']\n"
     ]
    }
   ],
   "source": [
    "lst = [(), (), ('',), ('a', 'b'), ('a', 'b', 'c'), ('d')]\n",
    "lst = [i for i in lst if i != ()]\n",
    "print(lst)"
   ]
  },
  {
   "cell_type": "code",
   "execution_count": 18,
   "id": "09ef6431",
   "metadata": {},
   "outputs": [],
   "source": [
    "# set"
   ]
  },
  {
   "cell_type": "raw",
   "id": "86a5a207",
   "metadata": {},
   "source": [
    "set is the collection of hetrogenious object where insertion order is not preserved , duplicates are not allowed, it is mutable and represented by {}."
   ]
  },
  {
   "cell_type": "code",
   "execution_count": 19,
   "id": "ceb0c05b",
   "metadata": {},
   "outputs": [
    {
     "name": "stdout",
     "output_type": "stream",
     "text": [
      "<class 'set'>\n",
      "{True, 10, 12.05, 'ML', 20, (10+15j), 'Python', 30}\n"
     ]
    }
   ],
   "source": [
    "x={10,20,30,True,10,20,12.05,\"Python\",10+15j,\"ML\"}\n",
    "print(type(x))\n",
    "print(x)"
   ]
  },
  {
   "cell_type": "raw",
   "id": "8de288eb",
   "metadata": {},
   "source": [
    "WAP to create a set with elements and apply set methods?\n",
    "x={10,20,30,120,150,13.02,1589,1456}\n",
    "Union\n",
    "intersection\n",
    "difference"
   ]
  },
  {
   "cell_type": "raw",
   "id": "990e2b33",
   "metadata": {},
   "source": [
    "Write a Python program to find all the unique words and count the frequency of occurrence from a given list of strings. Use Python set data type.\n",
    "input list: x=[\"black\",\"green\",\"black\",\"red\",\"red\",\"black\",\"white\",\"yellow\",\"green\",\"white\"]\n",
    "\n",
    "Write a Python program to find the two numbers whose product is maximum among all the pairs in a given list of numbers. Use the Python set.\n",
    "input list:\n",
    "x=[1,2,3,4,5,6,7,8,9]\n",
    "x=[1,2,-1,-2,5,-8,8,10,7,20]\n",
    "\n",
    "Write a Python program to find all the unique combinations of 3 numbers from a given list of numbers, adding up to a target number.\n",
    "input list:\n",
    "x=[1,2,3,4,5,6,7,8,9]"
   ]
  },
  {
   "cell_type": "code",
   "execution_count": 20,
   "id": "876e64ed",
   "metadata": {},
   "outputs": [
    {
     "name": "stdout",
     "output_type": "stream",
     "text": [
      "end\n"
     ]
    }
   ],
   "source": [
    "print(\"end\")"
   ]
  },
  {
   "cell_type": "markdown",
   "id": "7f755c0a",
   "metadata": {},
   "source": [
    "# Day 06 14-02-2025-EEC"
   ]
  },
  {
   "cell_type": "markdown",
   "id": "60bd12f1",
   "metadata": {},
   "source": [
    "# Class and Object "
   ]
  },
  {
   "cell_type": "raw",
   "id": "09404667",
   "metadata": {},
   "source": [
    "Python is an object oriented programming language.\n",
    "\n",
    "Almost everything in Python is an object, with its properties and methods.\n",
    "\n",
    "A Class is like an object constructor, or a \"blueprint\" for creating objects."
   ]
  },
  {
   "cell_type": "markdown",
   "id": "00c00598",
   "metadata": {},
   "source": [
    "# The init Func"
   ]
  },
  {
   "cell_type": "raw",
   "id": "e4c43462",
   "metadata": {},
   "source": [
    "The examples above are classes and objects in their simplest form, and are not really useful in real life applications.\n",
    "\n",
    "To understand the meaning of classes we have to understand the built-in __init__() function.\n",
    "\n",
    "All classes have a function called __init__(), which is always executed when the class is being initiated.\n",
    "\n",
    "Use the __init__() function to assign values to object properties, or other operations that are necessary to do when the object is being created:"
   ]
  },
  {
   "cell_type": "markdown",
   "id": "549ef981",
   "metadata": {},
   "source": [
    "# Self keyword"
   ]
  },
  {
   "cell_type": "raw",
   "id": "890f3cec",
   "metadata": {},
   "source": [
    "The self parameter is a reference to the current instance of the class, and is used to access variables that belongs to the class.\n",
    "\n",
    "It does not have to be named self , you can call it whatever you like, but it has to be the first parameter of any function in the class:"
   ]
  },
  {
   "cell_type": "code",
   "execution_count": 22,
   "id": "3a7ec842",
   "metadata": {},
   "outputs": [],
   "source": [
    "# WAP to create a class with name person and store details of person ?"
   ]
  },
  {
   "cell_type": "code",
   "execution_count": 23,
   "id": "548abf85",
   "metadata": {},
   "outputs": [
    {
     "name": "stdout",
     "output_type": "stream",
     "text": [
      "Gaurav\n",
      "29yrs\n",
      "75kg\n",
      "170cm\n"
     ]
    }
   ],
   "source": [
    "class person:# create class with person name\n",
    "    def __init__(self,person_name,person_age,person_weight,person_height):# define constructor and class attributes.\n",
    "        # binding the class attributes with self keyword:\n",
    "        self.person_name=person_name\n",
    "        self.person_age=person_age\n",
    "        self.person_weight=person_weight\n",
    "        self.person_height=person_height\n",
    "        \n",
    "# Create class object.\n",
    "obj=person(\"Gaurav\",\"29yrs\",\"75kg\",\"170cm\")\n",
    "# calling class atrributes with the help of class object\n",
    "print(obj.person_name)\n",
    "print(obj.person_age)\n",
    "print(obj.person_weight)\n",
    "print(obj.person_height)"
   ]
  },
  {
   "cell_type": "code",
   "execution_count": 25,
   "id": "9bc0777b",
   "metadata": {},
   "outputs": [
    {
     "name": "stdout",
     "output_type": "stream",
     "text": [
      "Gaurav\n",
      "29yrs\n",
      "75kg\n",
      "170cm\n"
     ]
    }
   ],
   "source": [
    "class person:# create class with person name\n",
    "    def own_method(self,person_name,person_age,person_weight,person_height):# define constructor and class attributes.\n",
    "        # binding the class attributes with self keyword:\n",
    "        self.person_name=person_name\n",
    "        self.person_age=person_age\n",
    "        self.person_weight=person_weight\n",
    "        self.person_height=person_height\n",
    "        \n",
    "# Create class object.\n",
    "obj=person()\n",
    "obj.own_method(\"Gaurav\",\"29yrs\",\"75kg\",\"170cm\")\n",
    "# calling class atrributes with the help of class object\n",
    "print(obj.person_name)\n",
    "print(obj.person_age)\n",
    "print(obj.person_weight)\n",
    "print(obj.person_height)"
   ]
  },
  {
   "cell_type": "code",
   "execution_count": 26,
   "id": "28362e9a",
   "metadata": {},
   "outputs": [
    {
     "name": "stdout",
     "output_type": "stream",
     "text": [
      "Name: Gaurav , Age: 29yrs , Weight: 75kg , Height: 170cm\n"
     ]
    }
   ],
   "source": [
    "class person:# create class with person name\n",
    "    def __init__(self,person_name,person_age,person_weight,person_height):# define constructor and class attributes.\n",
    "        # binding the class attributes with self keyword:\n",
    "        self.person_name=person_name\n",
    "        self.person_age=person_age\n",
    "        self.person_weight=person_weight\n",
    "        self.person_height=person_height\n",
    "        \n",
    "# Create class object.\n",
    "obj=person(\"Gaurav\",\"29yrs\",\"75kg\",\"170cm\")\n",
    "# calling class atrributes with the help of class object\n",
    "print(\"Name:\",obj.person_name,\",\",\"Age:\",obj.person_age,\",\",\"Weight:\",obj.person_weight,\",\",\"Height:\",obj.person_height)"
   ]
  },
  {
   "cell_type": "code",
   "execution_count": 27,
   "id": "e72c13fe",
   "metadata": {},
   "outputs": [],
   "source": [
    "# WAP to sum of two number using class and object?"
   ]
  },
  {
   "cell_type": "raw",
   "id": "eacf0797",
   "metadata": {},
   "source": [
    "WAP to create class and store students data and caclculte the total marks and set label accordingly, using class and object in python?\n",
    "\n",
    "STD data:\n",
    "    roll_number\n",
    "    std_name\n",
    "    std_age\n",
    "    std_contact_number\n",
    "    number of subject\n",
    "    std_marks per subject\n",
    "    std_knowledge(average, good, excellent)\n",
    "    label set:\n",
    "    below 50 its average\n",
    "    below 70 its good\n",
    "    above 90 its excellent"
   ]
  },
  {
   "cell_type": "code",
   "execution_count": 54,
   "id": "af978c5b",
   "metadata": {},
   "outputs": [
    {
     "name": "stdout",
     "output_type": "stream",
     "text": [
      "Enter number of students: 5\n",
      "Enter Student Name: rahul\n",
      "Enter % of Marks of Student: 50\n",
      "Enter Student Name: kunal\n",
      "Enter % of Marks of Student: 80\n",
      "Enter Student Name: ruhi\n",
      "Enter % of Marks of Student: 55\n",
      "Enter Student Name: Yogesh\n",
      "Enter % of Marks of Student: 85\n",
      "Enter Student Name: Preeti\n",
      "Enter % of Marks of Student: 90\n",
      "Name of Student \t % of marks\n",
      "\t rahul \t\t 50\n",
      "\t kunal \t\t 80\n",
      "\t ruhi \t\t 55\n",
      "\t Yogesh \t\t 85\n",
      "\t Preeti \t\t 90\n"
     ]
    }
   ],
   "source": [
    "rec={}\n",
    "n=int(input(\"Enter number of students: \"))\n",
    "i=1\n",
    "while i <=n:\n",
    "    name=input(\"Enter Student Name: \")\n",
    "    marks=input(\"Enter % of Marks of Student: \")\n",
    "    rec[name]=marks\n",
    "    i=i+1\n",
    "print(\"Name of Student\",\"\\t\",\"% of marks\")\n",
    "for x in rec:\n",
    "    print(\"\\t\",x,\"\\t\\t\",rec[x])"
   ]
  },
  {
   "cell_type": "code",
   "execution_count": 52,
   "id": "b8bd75f3",
   "metadata": {},
   "outputs": [
    {
     "name": "stdout",
     "output_type": "stream",
     "text": [
      "Enter num1:4\n",
      "Enter num2:3\n",
      "7\n"
     ]
    }
   ],
   "source": [
    "class add_num:\n",
    "    def __init__(self,num1,num2):\n",
    "        self.num1=num1\n",
    "        self.num2= num2\n",
    "        self.num3=num1+num2\n",
    "a = int(input(\"Enter num1:\"))\n",
    "b = int(input(\"Enter num2:\"))\n",
    "obj=add_num(a,b)\n",
    "print(obj.num3)"
   ]
  },
  {
   "cell_type": "code",
   "execution_count": 28,
   "id": "47b721f0",
   "metadata": {},
   "outputs": [
    {
     "name": "stdout",
     "output_type": "stream",
     "text": [
      "end\n"
     ]
    }
   ],
   "source": [
    "print(\"end\")"
   ]
  },
  {
   "cell_type": "code",
   "execution_count": 36,
   "id": "d5eadc23",
   "metadata": {},
   "outputs": [],
   "source": [
    "# return"
   ]
  },
  {
   "cell_type": "raw",
   "id": "01cce7e0",
   "metadata": {},
   "source": [
    "In Python, return is used in a function to exit the function and send a result or value back to the caller. When the return statement is executed, the function terminates, and the value (if provided) is returned to the code that called the function."
   ]
  },
  {
   "cell_type": "code",
   "execution_count": 37,
   "id": "03906484",
   "metadata": {},
   "outputs": [
    {
     "name": "stdout",
     "output_type": "stream",
     "text": [
      "8\n"
     ]
    }
   ],
   "source": [
    "def add_numbers(a, b):\n",
    "    result = a + b\n",
    "    return result  # Returning the sum of a and b\n",
    "\n",
    "sum_value = add_numbers(3, 5)  # Function call\n",
    "print(sum_value)  # This will print 8\n"
   ]
  },
  {
   "cell_type": "raw",
   "id": "0d6ea024",
   "metadata": {},
   "source": [
    "Key Points:\n",
    "Exits the function: Once return is executed, the function stops running further code.\n",
    "Returns a value: The value or expression after return gets sent back to the caller.\n",
    "Optional: You can use return with or without a value. If no value is provided, None is returned by default."
   ]
  },
  {
   "cell_type": "code",
   "execution_count": 38,
   "id": "e7794f08",
   "metadata": {},
   "outputs": [
    {
     "name": "stdout",
     "output_type": "stream",
     "text": [
      "Hello, Alice!\n"
     ]
    }
   ],
   "source": [
    "def greet(name):\n",
    "    print(f\"Hello, {name}!\")\n",
    "    # No return statement here, so it returns None by default.\n",
    "\n",
    "greet(\"Alice\")\n"
   ]
  },
  {
   "cell_type": "raw",
   "id": "ddc267ff",
   "metadata": {},
   "source": [
    "1. Returning Multiple Values:\n",
    "You can return multiple values from a function by separating them with commas. Python will return these as a tuple."
   ]
  },
  {
   "cell_type": "code",
   "execution_count": 40,
   "id": "333f9b12",
   "metadata": {},
   "outputs": [
    {
     "name": "stdout",
     "output_type": "stream",
     "text": [
      "(40.7128, -74.006)\n"
     ]
    }
   ],
   "source": [
    "def get_coordinates():\n",
    "    latitude = 40.7128\n",
    "    longitude = -74.0060\n",
    "    return latitude, longitude  # Returning multiple values\n",
    "\n",
    "coords = get_coordinates()  # This will return a tuple\n",
    "print(coords)  # Output: (40.7128, -74.0060)\n",
    "\n",
    "\n",
    "#In this case, the function returns two values (latitude and longitude), and they are automatically packed into a tuple."
   ]
  },
  {
   "cell_type": "raw",
   "id": "c78f5479",
   "metadata": {},
   "source": [
    "2. Returning No Value (Implicit None)\n",
    "If a function doesn't include a return statement, or if the return is used without a value, Python will return None by default."
   ]
  },
  {
   "cell_type": "code",
   "execution_count": 42,
   "id": "df6a756d",
   "metadata": {},
   "outputs": [
    {
     "name": "stdout",
     "output_type": "stream",
     "text": [
      "Hello!\n",
      "None\n"
     ]
    }
   ],
   "source": [
    "def print_message(message):\n",
    "    print(message)\n",
    "    # No return statement, so None is returned by default\n",
    "\n",
    "result = print_message(\"Hello!\")\n",
    "print(result)  # Output: None\n",
    "\n",
    "# Even though we print the message inside the function, there is no explicit return, so None is returned."
   ]
  },
  {
   "cell_type": "raw",
   "id": "50863fde",
   "metadata": {},
   "source": [
    "3. Returning Expressions\n",
    "You can return the result of an expression directly."
   ]
  },
  {
   "cell_type": "code",
   "execution_count": 44,
   "id": "16f080c9",
   "metadata": {},
   "outputs": [
    {
     "name": "stdout",
     "output_type": "stream",
     "text": [
      "16\n"
     ]
    }
   ],
   "source": [
    "def square(x):\n",
    "    return x ** 2  # Returning the square of x directly\n",
    "\n",
    "result = square(4)\n",
    "print(result)  # Output: 16\n",
    "\n",
    "\n",
    "# Instead of storing the result in a variable and returning it, we directly return the result of the expression x ** 2."
   ]
  },
  {
   "cell_type": "raw",
   "id": "72349f62",
   "metadata": {},
   "source": [
    "4. Returning from a Conditional Block\n",
    "You can use return within conditional statements to return different values depending on the conditions."
   ]
  },
  {
   "cell_type": "code",
   "execution_count": 57,
   "id": "754f4e06",
   "metadata": {},
   "outputs": [
    {
     "name": "stdout",
     "output_type": "stream",
     "text": [
      "Positive\n"
     ]
    }
   ],
   "source": [
    "def check_positive(num):\n",
    "    if num > 0:\n",
    "        return \"Positive\"\n",
    "    elif num < 0:\n",
    "        return \"Negative\"\n",
    "    else:\n",
    "        return \"Zero\"\n",
    "\n",
    "result = check_positive(10)\n",
    "print(result)  # Output: Positive\n",
    "\n",
    "# Here, the function checks if a number is positive, negative, or zero and returns the corresponding string."
   ]
  },
  {
   "cell_type": "raw",
   "id": "aa654951",
   "metadata": {},
   "source": [
    "5. Returning Early (Exiting the Function Early)\n",
    "You can use return at the beginning of a function to exit early under certain conditions. This can be useful for validation or handling special cases."
   ]
  },
  {
   "cell_type": "code",
   "execution_count": 47,
   "id": "085f59c1",
   "metadata": {},
   "outputs": [
    {
     "name": "stdout",
     "output_type": "stream",
     "text": [
      "5.0\n",
      "Error: Division by zero\n"
     ]
    }
   ],
   "source": [
    "def divide(a, b):\n",
    "    if b == 0:\n",
    "        return \"Error: Division by zero\"  # Early return if division by zero\n",
    "    return a / b\n",
    "\n",
    "result = divide(10, 2)\n",
    "print(result)  # Output: 5.0\n",
    "\n",
    "error_result = divide(10, 0)\n",
    "print(error_result)  # Output: Error: Division by zero\n",
    "\n",
    "#In this case, if b is zero, the function returns an error message and exits early, without performing the division."
   ]
  },
  {
   "cell_type": "raw",
   "id": "724b6ac3",
   "metadata": {},
   "source": [
    "6. Return with a Loop\n",
    "You can also use return inside a loop, which will exit the loop and the function at the same time."
   ]
  },
  {
   "cell_type": "code",
   "execution_count": 48,
   "id": "abb49968",
   "metadata": {},
   "outputs": [
    {
     "name": "stdout",
     "output_type": "stream",
     "text": [
      "8\n"
     ]
    }
   ],
   "source": [
    "def find_first_even(numbers):\n",
    "    for num in numbers:\n",
    "        if num % 2 == 0:\n",
    "            return num  # Return the first even number found\n",
    "    return None  # Return None if no even number is found\n",
    "\n",
    "result = find_first_even([1, 3, 5, 8, 10])\n",
    "print(result)  # Output: 8\n",
    "\n",
    "#In this example, the function returns as soon as it finds the first even number. If no even numbers are found, it returns None."
   ]
  },
  {
   "cell_type": "raw",
   "id": "5b8bbdd8",
   "metadata": {},
   "source": [
    "Summary:\n",
    "-return can return one or more values.\n",
    "-It immediately stops the function and sends back a result.\n",
    "-If no return is present, None is returned.\n",
    "-return is useful for exiting early or when you need to pass data from a --function to the caller."
   ]
  },
  {
   "cell_type": "code",
   "execution_count": 29,
   "id": "c9e73731",
   "metadata": {},
   "outputs": [],
   "source": [
    "# lambda Function"
   ]
  },
  {
   "cell_type": "raw",
   "id": "3208a618",
   "metadata": {},
   "source": [
    "A function without name is called anonymous function.It is used for instant purpose.We can implement anonymous function by using lambda keyword.\n",
    "\n",
    "Syntax\n",
    "lambda arguments:return one value/ expression"
   ]
  },
  {
   "cell_type": "code",
   "execution_count": 30,
   "id": "05f7bcc1",
   "metadata": {},
   "outputs": [],
   "source": [
    "# WAP to input two numbers & print their sum by using lambda function."
   ]
  },
  {
   "cell_type": "code",
   "execution_count": 32,
   "id": "6c8a558d",
   "metadata": {},
   "outputs": [
    {
     "name": "stdout",
     "output_type": "stream",
     "text": [
      "The Sum 30\n"
     ]
    }
   ],
   "source": [
    "s=lambda a,b:(a+b) \n",
    "print('The Sum',s(10,20))"
   ]
  },
  {
   "cell_type": "code",
   "execution_count": 33,
   "id": "e3ed9bd3",
   "metadata": {},
   "outputs": [
    {
     "name": "stdout",
     "output_type": "stream",
     "text": [
      "The Sub -10\n"
     ]
    }
   ],
   "source": [
    "tiwari=lambda a,b:a-b \n",
    "print('The Sub',tiwari(10,20))"
   ]
  },
  {
   "cell_type": "raw",
   "id": "735fc6b0",
   "metadata": {},
   "source": [
    "Q- Difference between normal function & anonymous function."
   ]
  },
  {
   "cell_type": "raw",
   "id": "969ff465",
   "metadata": {},
   "source": [
    "Normal function:  \n",
    "define by def keyword.\n",
    "return multiple value. \n",
    "it has some name.\n",
    "\n",
    "Anonymous Function:\n",
    "define by lmbda keyword.\n",
    "return only one value/expression \n",
    "it is nameless"
   ]
  },
  {
   "cell_type": "code",
   "execution_count": 49,
   "id": "1ca5b28e",
   "metadata": {},
   "outputs": [],
   "source": [
    "# W.A.P to input a number a print its factorial? using lambda"
   ]
  },
  {
   "cell_type": "code",
   "execution_count": 55,
   "id": "88fbcc83",
   "metadata": {},
   "outputs": [
    {
     "name": "stdout",
     "output_type": "stream",
     "text": [
      "Enter roll number: 1\n",
      "Enter std name: kunal\n",
      "Enter std age: 21\n",
      "Enter std contact number: 6399657263\n",
      "Enter marks for subject 1: 86\n",
      "Enter marks for subject 2: 87\n",
      "Enter marks for subject 3: 95\n",
      "Enter marks for subject 4: 96\n",
      "Enter marks for subject 5: 98\n",
      "\n",
      "Roll no: 1 \n",
      "Name: kunal \n",
      "Age: 21 \n",
      "Contact no: 6399657263 \n",
      "Label: excellent\n"
     ]
    }
   ],
   "source": [
    "class student:\n",
    "    def __init__(self, roll_number, std_name, std_age, std_contact_number,number_of_subjects,std_marks):\n",
    "        self.roll_number = roll_number\n",
    "        self.std_name = std_name\n",
    "        self.std_age = std_age\n",
    "        self.std_contact_number = std_contact_number\n",
    "        self.number_of_subjects = number_of_subjects\n",
    "        self.std_marks = std_marks\n",
    "    def calculate_total_marks(self):\n",
    "        total = 0\n",
    "        for i in self.std_marks:\n",
    "            total += i\n",
    "        result = total/5\n",
    "        return result\n",
    "    def set_label(self):\n",
    "        result = self.calculate_total_marks()\n",
    "        if result < 50:\n",
    "            return \"average\"\n",
    "        elif result >50 and result < 70:\n",
    "            return \"good\"\n",
    "        elif result > 70 and result < 100:\n",
    "            return \"excellent\"\n",
    "        \n",
    "roll_number = int(input(\"Enter roll number: \"))\n",
    "std_name = input(\"Enter std name: \")\n",
    "std_age = int(input(\"Enter std age: \"))\n",
    "std_contact_number = int(input(\"Enter std contact number: \"))\n",
    "number_of_subjects = 5\n",
    "std_marks = []\n",
    "for i in range(number_of_subjects):\n",
    "    std_marks.append(int(input(f\"Enter marks for subject {i+1}: \")))\n",
    "\n",
    "obj = student(roll_number, std_name, std_age, std_contact_number, number_of_subjects, std_marks)\n",
    "\n",
    "\n",
    "print(\"\\nRoll no:\", obj.roll_number, \"\\nName:\" , obj.std_name, \"\\nAge:\", obj.std_age, \n",
    "      \"\\nContact no:\", obj.std_contact_number, \"\\nLabel:\", obj.set_label())"
   ]
  },
  {
   "cell_type": "code",
   "execution_count": 58,
   "id": "944d5621",
   "metadata": {},
   "outputs": [
    {
     "name": "stdout",
     "output_type": "stream",
     "text": [
      "end\n"
     ]
    }
   ],
   "source": [
    "print(\"end\")"
   ]
  },
  {
   "cell_type": "markdown",
   "id": "f2bc6433",
   "metadata": {},
   "source": [
    "# Date: 15-02-2025: EEC Day 07"
   ]
  },
  {
   "cell_type": "raw",
   "id": "faa69173",
   "metadata": {},
   "source": [
    " Today Agenda:\n",
    "    File handling, Exception Handling, Inheritance, polymorphism"
   ]
  },
  {
   "cell_type": "code",
   "execution_count": 60,
   "id": "849cc7a2",
   "metadata": {},
   "outputs": [
    {
     "name": "stdout",
     "output_type": "stream",
     "text": [
      "_------------------Start----------------------_\n"
     ]
    }
   ],
   "source": [
    "print(\"_------------------Start----------------------_\")"
   ]
  },
  {
   "cell_type": "code",
   "execution_count": 61,
   "id": "5b2e0535",
   "metadata": {},
   "outputs": [],
   "source": [
    "# what is inheritance and types of inheritance"
   ]
  },
  {
   "cell_type": "code",
   "execution_count": null,
   "id": "a0cc4c45",
   "metadata": {},
   "outputs": [],
   "source": [
    "# What is polymorphism and types of polymorphism?"
   ]
  }
 ],
 "metadata": {
  "kernelspec": {
   "display_name": "Python 3 (ipykernel)",
   "language": "python",
   "name": "python3"
  },
  "language_info": {
   "codemirror_mode": {
    "name": "ipython",
    "version": 3
   },
   "file_extension": ".py",
   "mimetype": "text/x-python",
   "name": "python",
   "nbconvert_exporter": "python",
   "pygments_lexer": "ipython3",
   "version": "3.9.7"
  }
 },
 "nbformat": 4,
 "nbformat_minor": 5
}
