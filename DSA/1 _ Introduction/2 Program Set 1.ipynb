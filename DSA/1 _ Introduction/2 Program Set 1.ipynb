{
 "cells": [
  {
   "cell_type": "code",
   "execution_count": 12,
   "id": "94058930-ea43-403f-a9e3-a0c8d31ce62a",
   "metadata": {},
   "outputs": [
    {
     "name": "stdin",
     "output_type": "stream",
     "text": [
      "Enter :  radara\n"
     ]
    },
    {
     "name": "stdout",
     "output_type": "stream",
     "text": [
      "Not\n"
     ]
    }
   ],
   "source": [
    "#Palindrome\n",
    "a = input(\"Enter : \")\n",
    "c = len(a)\n",
    "b = True\n",
    "for i in range(c//2):\n",
    "    if a[i] != a[c-i-1]:\n",
    "        b = False\n",
    "        break\n",
    "if b:\n",
    "    print(\"Palindrome\")\n",
    "else:\n",
    "    print(\"Not\")"
   ]
  },
  {
   "cell_type": "code",
   "execution_count": 15,
   "id": "beb776d1-e718-4de0-afef-0ffa0d0d290e",
   "metadata": {},
   "outputs": [
    {
     "name": "stdin",
     "output_type": "stream",
     "text": [
      "Enter :  radar\n"
     ]
    },
    {
     "name": "stdout",
     "output_type": "stream",
     "text": [
      "Yes\n"
     ]
    }
   ],
   "source": [
    "a = input(\"Enter : \")\n",
    "print(\"Yes\") if a==a[::-1] else print(\"No\")"
   ]
  },
  {
   "cell_type": "code",
   "execution_count": 50,
   "id": "92f77eb7-67a9-4d86-b417-ed0ce3192ff7",
   "metadata": {},
   "outputs": [
    {
     "name": "stdout",
     "output_type": "stream",
     "text": [
      "J a t i n S h a r m a i s G o d .\n",
      ". d o G s i a m r a h S n i t a J\n"
     ]
    }
   ],
   "source": [
    "# Method 1\n",
    "a = \"Jatin Sharma is God.\"\n",
    "b = ''\n",
    "for i in a:\n",
    "    if i == ' ':\n",
    "        continue\n",
    "    b = b + i + ' '\n",
    "a = b[:-1]\n",
    "del b\n",
    "print(a) #Forward\n",
    "print(a[::-1]) # Backward"
   ]
  },
  {
   "cell_type": "code",
   "execution_count": 24,
   "id": "589a1a2d-ca21-40b2-a0c6-92c902bc0c66",
   "metadata": {},
   "outputs": [
    {
     "name": "stdout",
     "output_type": "stream",
     "text": [
      "J a t i n S h a r m a i s G o d . \n",
      ". d o G s i a m r a h S n i t a J "
     ]
    }
   ],
   "source": [
    "# Method 2\n",
    "a = \"Jatin Sharma is God.\"\n",
    "for i in a:\n",
    "    if i == \" \":\n",
    "        continue\n",
    "    print(i, end=\" \") #Forward\n",
    "print()\n",
    "for i in a[::-1]:\n",
    "    if i == \" \":\n",
    "        continue\n",
    "    print(i, end=\" \") #Backward    "
   ]
  },
  {
   "cell_type": "code",
   "execution_count": 37,
   "id": "dd970bfd-6b1f-4404-99a8-582b43076a0b",
   "metadata": {},
   "outputs": [
    {
     "name": "stdout",
     "output_type": "stream",
     "text": [
      "Jatin Sharma is God.\n"
     ]
    }
   ],
   "source": [
    "a = \"Jatin Sharma is God.\"\n",
    "\n",
    "a.upper()\n",
    "a.lower()\n",
    "a.capitalize()\n",
    "a.title()"
   ]
  },
  {
   "cell_type": "code",
   "execution_count": 45,
   "id": "a36bc2ff-69d0-464d-a5c0-58c07e1db8e1",
   "metadata": {},
   "outputs": [
    {
     "name": "stdout",
     "output_type": "stream",
     "text": [
      "jatin Sharma Is god.\n"
     ]
    }
   ],
   "source": [
    "# Capitalize expect 1st & last\n",
    "a = \"jatin sharma is god.\"\n",
    "a = a.split()\n",
    "for i in range(len(a)):\n",
    "    if i==0 or i==len(a)-1:\n",
    "        continue\n",
    "    a[i] = a[i].title()\n",
    "a = ' '.join(a)\n",
    "print(a)"
   ]
  },
  {
   "cell_type": "code",
   "execution_count": 49,
   "id": "da9f1c6b-1db1-4f9e-85e0-97c278628ff7",
   "metadata": {},
   "outputs": [
    {
     "name": "stdout",
     "output_type": "stream",
     "text": [
      "jatin Sharma Is god.\n"
     ]
    }
   ],
   "source": [
    "a = \"jatin sharma is god.\"\n",
    "a = a.split()\n",
    "a[1] = a[1].title()\n",
    "a[2] = a[2].title()\n",
    "a = ' '.join(a)\n",
    "print(a)"
   ]
  },
  {
   "cell_type": "code",
   "execution_count": null,
   "id": "848214a9-baa3-4f27-b1b3-8408f2a756df",
   "metadata": {},
   "outputs": [],
   "source": []
  }
 ],
 "metadata": {
  "kernelspec": {
   "display_name": "Python 3 (ipykernel)",
   "language": "python",
   "name": "python3"
  },
  "language_info": {
   "codemirror_mode": {
    "name": "ipython",
    "version": 3
   },
   "file_extension": ".py",
   "mimetype": "text/x-python",
   "name": "python",
   "nbconvert_exporter": "python",
   "pygments_lexer": "ipython3",
   "version": "3.12.4"
  }
 },
 "nbformat": 4,
 "nbformat_minor": 5
}
