{
 "cells": [
  {
   "cell_type": "code",
   "execution_count": 24,
   "id": "c3822a9f-2b1a-4c2b-bdda-9f99a6d08526",
   "metadata": {},
   "outputs": [
    {
     "name": "stdin",
     "output_type": "stream",
     "text": [
      "Enter A :  wr\n"
     ]
    },
    {
     "name": "stdout",
     "output_type": "stream",
     "text": [
      "Please Enter Integer or Float Only\n"
     ]
    }
   ],
   "source": [
    "try:\n",
    "    a = float(input(\"Enter A : \"))\n",
    "    b = float(input(\"Enter B : \"))\n",
    "    if a-int(a) == 0.0 and b-int(b) == 0.0:\n",
    "        print(f\"Answer : {int(a+b)}\")\n",
    "    else:\n",
    "        print(f\"Answer : {a+b}\")\n",
    "except:\n",
    "    print(\"Please Enter Integer or Float Only\")"
   ]
  },
  {
   "cell_type": "code",
   "execution_count": 8,
   "id": "bbce003a-0ed2-4120-a5c9-8be9c8e75089",
   "metadata": {},
   "outputs": [
    {
     "name": "stdout",
     "output_type": "stream",
     "text": [
      "(6+4j)\n"
     ]
    }
   ],
   "source": [
    "a = 5+4j\n",
    "b = True\n",
    "print(a+b)"
   ]
  },
  {
   "cell_type": "code",
   "execution_count": 16,
   "id": "4f32d204-10f6-4c16-bcc5-aac54cd0b1c4",
   "metadata": {},
   "outputs": [
    {
     "name": "stdout",
     "output_type": "stream",
     "text": [
      "140711377255128\n",
      "140711377255128\n"
     ]
    }
   ],
   "source": [
    "x = 10\n",
    "y = 10\n",
    "print(id(x))\n",
    "print(id(y))"
   ]
  },
  {
   "cell_type": "code",
   "execution_count": 17,
   "id": "c5609dd4-3a53-4c9f-88de-b824c091908e",
   "metadata": {},
   "outputs": [
    {
     "name": "stdout",
     "output_type": "stream",
     "text": [
      "True\n"
     ]
    }
   ],
   "source": [
    "print(x is y)"
   ]
  },
  {
   "cell_type": "code",
   "execution_count": null,
   "id": "abc7fcf5-3120-4b66-ac46-787643b913f5",
   "metadata": {},
   "outputs": [],
   "source": []
  }
 ],
 "metadata": {
  "kernelspec": {
   "display_name": "Python 3 (ipykernel)",
   "language": "python",
   "name": "python3"
  },
  "language_info": {
   "codemirror_mode": {
    "name": "ipython",
    "version": 3
   },
   "file_extension": ".py",
   "mimetype": "text/x-python",
   "name": "python",
   "nbconvert_exporter": "python",
   "pygments_lexer": "ipython3",
   "version": "3.12.4"
  }
 },
 "nbformat": 4,
 "nbformat_minor": 5
}
