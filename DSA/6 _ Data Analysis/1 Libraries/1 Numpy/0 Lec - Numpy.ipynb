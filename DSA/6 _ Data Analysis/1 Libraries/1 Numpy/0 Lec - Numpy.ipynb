{
 "cells": [
  {
   "cell_type": "markdown",
   "metadata": {},
   "source": [
    "# numpy "
   ]
  },
  {
   "cell_type": "raw",
   "metadata": {},
   "source": [
    "numpy is specielly used for array purpose. and numpy is purpose array\n",
    "processing package.\n",
    "it provides a high performance dimension array\n",
    "in numpy we can perform mathematical formula.\n",
    "like:\n",
    "linear algebra\n",
    "fourier transform\n",
    "random number capablities"
   ]
  },
  {
   "cell_type": "code",
   "execution_count": 1,
   "metadata": {},
   "outputs": [
    {
     "name": "stdout",
     "output_type": "stream",
     "text": [
      "Array\n",
      " [[1 2 3]\n",
      " [4 5 6]]\n"
     ]
    }
   ],
   "source": [
    "# how to create array\n",
    "import numpy as np\n",
    "arr=np.array([[1,2,3],\n",
    "              [4,5,6]\n",
    "    \n",
    "])\n",
    "print(\"Array\\n\",arr)"
   ]
  },
  {
   "cell_type": "code",
   "execution_count": 2,
   "metadata": {},
   "outputs": [
    {
     "name": "stdout",
     "output_type": "stream",
     "text": [
      "[[1 2 3]\n",
      " [4 5 6]\n",
      " [7 8 9]]\n"
     ]
    }
   ],
   "source": [
    "import numpy as np\n",
    "arr=np.array([[1,2,3],\n",
    "             [4,5,6],\n",
    "             [7,8,9]])\n",
    "print(arr)"
   ]
  },
  {
   "cell_type": "raw",
   "metadata": {},
   "source": [
    "types of array :-\n",
    "    1- one dimensional\n",
    "    2- two dimensional\n",
    "    3- multi dimensional"
   ]
  },
  {
   "cell_type": "code",
   "execution_count": 3,
   "metadata": {},
   "outputs": [
    {
     "name": "stdout",
     "output_type": "stream",
     "text": [
      "[[10 20 30]\n",
      " [40 50 60]\n",
      " [70 80 90]]\n"
     ]
    }
   ],
   "source": [
    "import numpy as np\n",
    "arr=np.array([[10,20,30],\n",
    "             [40,50,60],\n",
    "             [70,80,90]])\n",
    "print(arr)"
   ]
  },
  {
   "cell_type": "code",
   "execution_count": 4,
   "metadata": {},
   "outputs": [
    {
     "data": {
      "text/plain": [
       "numpy.ndarray"
      ]
     },
     "execution_count": 4,
     "metadata": {},
     "output_type": "execute_result"
    }
   ],
   "source": [
    "type(arr)"
   ]
  },
  {
   "cell_type": "code",
   "execution_count": 5,
   "metadata": {},
   "outputs": [
    {
     "data": {
      "text/plain": [
       "(3, 3)"
      ]
     },
     "execution_count": 5,
     "metadata": {},
     "output_type": "execute_result"
    }
   ],
   "source": [
    "arr.shape"
   ]
  },
  {
   "cell_type": "code",
   "execution_count": 6,
   "metadata": {},
   "outputs": [
    {
     "data": {
      "text/plain": [
       "9"
      ]
     },
     "execution_count": 6,
     "metadata": {},
     "output_type": "execute_result"
    }
   ],
   "source": [
    "arr.size"
   ]
  },
  {
   "cell_type": "code",
   "execution_count": 7,
   "metadata": {},
   "outputs": [
    {
     "data": {
      "text/plain": [
       "2"
      ]
     },
     "execution_count": 7,
     "metadata": {},
     "output_type": "execute_result"
    }
   ],
   "source": [
    "arr.ndim"
   ]
  },
  {
   "cell_type": "code",
   "execution_count": 8,
   "metadata": {},
   "outputs": [
    {
     "data": {
      "text/plain": [
       "2"
      ]
     },
     "execution_count": 8,
     "metadata": {},
     "output_type": "execute_result"
    }
   ],
   "source": [
    "arr.ndim"
   ]
  },
  {
   "cell_type": "code",
   "execution_count": 9,
   "metadata": {},
   "outputs": [
    {
     "name": "stdout",
     "output_type": "stream",
     "text": [
      "[[ 10  20  30  40]\n",
      " [ 40  50  60  50]\n",
      " [ 70  80  90  60]\n",
      " [100 120 130  70]\n",
      " [ 15 150 125  80]]\n",
      "(5, 4)\n",
      "2\n"
     ]
    }
   ],
   "source": [
    "import numpy as np\n",
    "arr=np.array([[10,20,30,40],\n",
    "             [40,50,60,50],\n",
    "             [70,80,90,60],\n",
    "             [100,120,130,70],\n",
    "             [15,150,125,80]])\n",
    "print(arr)\n",
    "print(arr.shape)\n",
    "print(arr.ndim)"
   ]
  },
  {
   "cell_type": "code",
   "execution_count": 10,
   "metadata": {},
   "outputs": [
    {
     "name": "stdout",
     "output_type": "stream",
     "text": [
      "[ 0  1  2  3  4  5  6  7  8  9 10 11 12 13 14 15 16 17 18 19 20 21 22 23]\n",
      "[[[ 0  1  2]\n",
      "  [ 3  4  5]\n",
      "  [ 6  7  8]\n",
      "  [ 9 10 11]]\n",
      "\n",
      " [[12 13 14]\n",
      "  [15 16 17]\n",
      "  [18 19 20]\n",
      "  [21 22 23]]]\n",
      "3\n"
     ]
    }
   ],
   "source": [
    "# this is one dimensional array \n",
    "import numpy as np \n",
    "a = np.arange(24) \n",
    "print(a)\n",
    "a.ndim  \n",
    "\n",
    "# now reshape it \n",
    "b = a.reshape(2,4,3)\n",
    "\n",
    "print(b)\n",
    "print(b.ndim)"
   ]
  },
  {
   "cell_type": "code",
   "execution_count": 11,
   "metadata": {},
   "outputs": [
    {
     "name": "stdout",
     "output_type": "stream",
     "text": [
      "[[1 2 3]\n",
      " [4 5 6]]\n"
     ]
    }
   ],
   "source": [
    "# second example:-\n",
    "import numpy as np\n",
    "a=np.array([[1,2,3,],[4,5,6]],dtype='int')\n",
    "b=np.array([1,3,5])  \n",
    "c=np.zeros((3,4)) # row,column\n",
    "d=np.full((3,3),4,dtype='int')\n",
    "e=np.random.random((2,2))\n",
    "f=np.linspace(0,5,9)\n",
    "h=np.arange(0,30,2)\n",
    "print(a)\n"
   ]
  },
  {
   "cell_type": "code",
   "execution_count": 12,
   "metadata": {},
   "outputs": [
    {
     "name": "stdout",
     "output_type": "stream",
     "text": [
      "[1 3 5]\n"
     ]
    }
   ],
   "source": [
    "print(b)"
   ]
  },
  {
   "cell_type": "code",
   "execution_count": 13,
   "metadata": {},
   "outputs": [
    {
     "name": "stdout",
     "output_type": "stream",
     "text": [
      "[[0. 0. 0. 0.]\n",
      " [0. 0. 0. 0.]\n",
      " [0. 0. 0. 0.]]\n"
     ]
    }
   ],
   "source": [
    "print(c)"
   ]
  },
  {
   "cell_type": "code",
   "execution_count": 14,
   "metadata": {},
   "outputs": [
    {
     "name": "stdout",
     "output_type": "stream",
     "text": [
      "[[4 4 4]\n",
      " [4 4 4]\n",
      " [4 4 4]]\n"
     ]
    }
   ],
   "source": [
    "print(d)"
   ]
  },
  {
   "cell_type": "code",
   "execution_count": 15,
   "metadata": {},
   "outputs": [
    {
     "name": "stdout",
     "output_type": "stream",
     "text": [
      "[[0.41586046 0.0838525 ]\n",
      " [0.24326022 0.72127908]]\n"
     ]
    }
   ],
   "source": [
    "print(e)"
   ]
  },
  {
   "cell_type": "code",
   "execution_count": 16,
   "metadata": {},
   "outputs": [
    {
     "name": "stdout",
     "output_type": "stream",
     "text": [
      "[0.    0.625 1.25  1.875 2.5   3.125 3.75  4.375 5.   ]\n"
     ]
    }
   ],
   "source": [
    "print(f)"
   ]
  },
  {
   "cell_type": "code",
   "execution_count": 17,
   "metadata": {},
   "outputs": [
    {
     "name": "stdout",
     "output_type": "stream",
     "text": [
      "[ 0  2  4  6  8 10 12 14 16 18 20 22 24 26 28]\n"
     ]
    }
   ],
   "source": [
    "print(h)"
   ]
  },
  {
   "cell_type": "code",
   "execution_count": 18,
   "metadata": {},
   "outputs": [
    {
     "name": "stdout",
     "output_type": "stream",
     "text": [
      "[[1 2 3 8]\n",
      " [4 5 6 7]\n",
      " [7 8 9 5]]\n",
      "(3, 4)\n",
      "\n",
      "\n",
      "[[[1 2]\n",
      "  [3 8]\n",
      "  [4 5]]\n",
      "\n",
      " [[6 7]\n",
      "  [7 8]\n",
      "  [9 5]]]\n",
      "(2, 3, 2)\n"
     ]
    }
   ],
   "source": [
    "arr=np.array([[1,2,3,8],\n",
    "             [4,5,6,7],\n",
    "             [7,8,9,5]])\n",
    "print(arr)\n",
    "print(arr.shape)\n",
    "print(\"\\n\")\n",
    "newarr=arr.reshape(2,3,2)\n",
    "print(newarr)\n",
    "print(newarr.shape)"
   ]
  },
  {
   "cell_type": "code",
   "execution_count": 19,
   "metadata": {},
   "outputs": [
    {
     "data": {
      "text/plain": [
       "array([1, 2, 3, 4, 5, 6])"
      ]
     },
     "execution_count": 19,
     "metadata": {},
     "output_type": "execute_result"
    }
   ],
   "source": [
    "arr=np.array([[1,2,3],[4,5,6]])\n",
    "f=arr.flatten()\n",
    "f"
   ]
  },
  {
   "cell_type": "code",
   "execution_count": 20,
   "metadata": {},
   "outputs": [],
   "source": [
    "# numpy 1000 page\n",
    "# pandas 2000 page\n",
    "# matplotlib  500 page "
   ]
  },
  {
   "cell_type": "markdown",
   "metadata": {},
   "source": [
    "# Second part"
   ]
  },
  {
   "cell_type": "markdown",
   "metadata": {},
   "source": [
    "# numpy"
   ]
  },
  {
   "cell_type": "code",
   "execution_count": 21,
   "metadata": {},
   "outputs": [
    {
     "name": "stdout",
     "output_type": "stream",
     "text": [
      "(4, 4)\n",
      "\n",
      " [[ 1  4]\n",
      " [ 5  8]\n",
      " [ 9 12]]\n"
     ]
    }
   ],
   "source": [
    "# indexing/ slicing in numpy\n",
    "import numpy as np\n",
    "arr=np.array([[1,2,3,4],\n",
    "             [5,6,7,8],\n",
    "             [9,10,11,12],\n",
    "             [13,14,15,16]])\n",
    "print(arr.shape)\n",
    "# slicing array\n",
    "temp=arr[:3,::3] # before coma work for row and after coma work for column\n",
    "print(\"\\n\",temp)\n",
    "\n",
    "\n",
    "temp=arr[1:3:1,1:2:2] # before coma work for row and after coma work for column\n",
    "print(\"\\n\",temp)"
   ]
  },
  {
   "cell_type": "code",
   "execution_count": null,
   "metadata": {},
   "outputs": [],
   "source": [
    "# indexing/ slicing in numpy\n",
    "import numpy as np\n",
    "arr=np.array([[1,2,3,4],\n",
    "             [5,6,7,8],\n",
    "             [9,10,11,12],\n",
    "             [13,14,15,16]])\n",
    "print(arr.shape)\n",
    "# slicing array\n",
    "temp=arr[1::3,::2] # before coma work for row and after coma work for column\n",
    "print(\"\\n\",temp)\n"
   ]
  },
  {
   "cell_type": "code",
   "execution_count": 22,
   "metadata": {},
   "outputs": [
    {
     "name": "stdout",
     "output_type": "stream",
     "text": [
      "abcedfghijklmnop\n",
      "\n"
     ]
    }
   ],
   "source": [
    "x=\"abcedfghijklmnop\"\n",
    "print(x[::1])\n",
    "print(x[10:2:2])"
   ]
  },
  {
   "cell_type": "code",
   "execution_count": 45,
   "metadata": {},
   "outputs": [
    {
     "name": "stdout",
     "output_type": "stream",
     "text": [
      "\n",
      "\n",
      "[[1 3]\n",
      " [5 7]]\n"
     ]
    }
   ],
   "source": [
    "import numpy as np\n",
    "arr1=np.array([[1,2,3,4],\n",
    "            [5,6,7,8],\n",
    "            [9,10,11,12],\n",
    "            [13,14,15,16]])\n",
    "\n",
    "print(\"\\n\")\n",
    "temp=arr1[:2,::2]\n",
    "print(temp)"
   ]
  },
  {
   "cell_type": "code",
   "execution_count": 46,
   "metadata": {},
   "outputs": [
    {
     "name": "stdout",
     "output_type": "stream",
     "text": [
      "\n",
      "\n",
      "[[5 7]]\n"
     ]
    }
   ],
   "source": [
    "import numpy as np\n",
    "arr=np.array([[1,2,3,4],\n",
    "            [5,6,7,8],\n",
    "            [9,10,11,12],\n",
    "            [13,14,15,16]])\n",
    "\n",
    "print(\"\\n\")\n",
    "temp=arr[1::3,::2]\n",
    "print(temp)"
   ]
  },
  {
   "cell_type": "raw",
   "metadata": {},
   "source": [
    "syntax:-\n",
    "    var_name(begin,end,step)"
   ]
  },
  {
   "cell_type": "raw",
   "metadata": {},
   "source": [
    "[[ 1  2  3  4]\n",
    " [ 5  6  7  8]\n",
    " [ 9 10 11 12]\n",
    " [13 14 15 16]]\n",
    "\n",
    "[::2,1:2:3]"
   ]
  },
  {
   "cell_type": "code",
   "execution_count": 47,
   "metadata": {},
   "outputs": [
    {
     "name": "stdout",
     "output_type": "stream",
     "text": [
      "element at indices (0,3),(1,2),(2,1),(3,0)\n",
      " [ 4  7 10 13]\n"
     ]
    }
   ],
   "source": [
    "# integer array indexing\n",
    "import numpy as np\n",
    "arr=np.array([[1,2,3,4],\n",
    "            [5,6,7,8],\n",
    "            [9,10,11,12],\n",
    "            [13,14,15,16]])\n",
    "\n",
    "temp=arr[[0,1,2,3],[3,2,1,0]]# row,column\n",
    "print(\"element at indices (0,3),(1,2),(2,1),(3,0)\\n\",temp)\n",
    "\n",
    "[1,3,2,1],[2,1,2,0]"
   ]
  },
  {
   "cell_type": "code",
   "execution_count": 26,
   "metadata": {},
   "outputs": [
    {
     "name": "stdout",
     "output_type": "stream",
     "text": [
      "elements greater than 5\n",
      " [ 6  7  8  9 10 11 12 13 14 15 16]\n"
     ]
    }
   ],
   "source": [
    "# boolean array indexing \n",
    "cond=arr>5 # cond is a boolean array\n",
    "temp=arr[cond]\n",
    "print(\"elements greater than 5\\n\",temp)"
   ]
  },
  {
   "cell_type": "code",
   "execution_count": 27,
   "metadata": {},
   "outputs": [
    {
     "name": "stdout",
     "output_type": "stream",
     "text": [
      "adding 1 value to every element [2 3 4 5]\n"
     ]
    }
   ],
   "source": [
    "# basic operations:-\n",
    "a=np.array([1,2,3,4])\n",
    "print(\"adding 1 value to every element\",a+1)"
   ]
  },
  {
   "cell_type": "code",
   "execution_count": 28,
   "metadata": {},
   "outputs": [
    {
     "name": "stdout",
     "output_type": "stream",
     "text": [
      "subtract 1 value to every element [0 1 2 3]\n"
     ]
    }
   ],
   "source": [
    "print(\"subtract 1 value to every element\",a-1)"
   ]
  },
  {
   "cell_type": "code",
   "execution_count": 29,
   "metadata": {},
   "outputs": [
    {
     "name": "stdout",
     "output_type": "stream",
     "text": [
      "multiply 1 value to every element [1 2 3 4]\n"
     ]
    }
   ],
   "source": [
    "print(\"multiply 1 value to every element\",a*1)"
   ]
  },
  {
   "cell_type": "code",
   "execution_count": 30,
   "metadata": {},
   "outputs": [
    {
     "name": "stdout",
     "output_type": "stream",
     "text": [
      "squaring 1 value to every element [ 1  4  9 16]\n"
     ]
    }
   ],
   "source": [
    "print(\"squaring 1 value to every element\",a**2)"
   ]
  },
  {
   "cell_type": "code",
   "execution_count": 31,
   "metadata": {},
   "outputs": [
    {
     "name": "stdout",
     "output_type": "stream",
     "text": [
      "doubled 1 value to every element [2 4 6 8]\n"
     ]
    }
   ],
   "source": [
    "a*=2\n",
    "print(\"doubled 1 value to every element\",a)"
   ]
  },
  {
   "cell_type": "code",
   "execution_count": 32,
   "metadata": {},
   "outputs": [
    {
     "name": "stdout",
     "output_type": "stream",
     "text": [
      "original array\n",
      " [[1 2 3]\n",
      " [3 4 5]\n",
      " [9 6 0]]\n"
     ]
    }
   ],
   "source": [
    "# transpose\n",
    "a=np.array([[1,2,3],[3,4,5],[9,6,0]])\n",
    "print(\"original array\\n\",a)"
   ]
  },
  {
   "cell_type": "code",
   "execution_count": 33,
   "metadata": {},
   "outputs": [
    {
     "name": "stdout",
     "output_type": "stream",
     "text": [
      "transpose of array\n",
      " [[1 3 9]\n",
      " [2 4 6]\n",
      " [3 5 0]]\n"
     ]
    }
   ],
   "source": [
    "print(\"transpose of array\\n\",a.T)"
   ]
  },
  {
   "cell_type": "code",
   "execution_count": 34,
   "metadata": {},
   "outputs": [
    {
     "name": "stdout",
     "output_type": "stream",
     "text": [
      "largest elements  9\n"
     ]
    }
   ],
   "source": [
    "# unary op\n",
    "a=np.array([[1,2,3],\n",
    "           [4,7,8],\n",
    "           [3,1,9]])\n",
    "print(\"largest elements \",a.max())"
   ]
  },
  {
   "cell_type": "code",
   "execution_count": 35,
   "metadata": {},
   "outputs": [
    {
     "name": "stdout",
     "output_type": "stream",
     "text": [
      "row wise max elements [3 8 9]\n"
     ]
    }
   ],
   "source": [
    "print(\"row wise max elements\",a.max(axis=1))# value check for every row"
   ]
  },
  {
   "cell_type": "code",
   "execution_count": 36,
   "metadata": {},
   "outputs": [
    {
     "name": "stdout",
     "output_type": "stream",
     "text": [
      "column wise minimum [1 1 3]\n"
     ]
    }
   ],
   "source": [
    "print(\"column wise minimum\",a.min(axis=0))# value check for every column"
   ]
  },
  {
   "cell_type": "code",
   "execution_count": 37,
   "metadata": {},
   "outputs": [
    {
     "name": "stdout",
     "output_type": "stream",
     "text": [
      "sum of all array 38\n"
     ]
    }
   ],
   "source": [
    "print(\"sum of all array\",a.sum())"
   ]
  },
  {
   "cell_type": "raw",
   "metadata": {},
   "source": [
    "[[1,2,3],\n",
    "[4,7,8],\n",
    "[3,1,9]]"
   ]
  },
  {
   "cell_type": "code",
   "execution_count": 38,
   "metadata": {},
   "outputs": [
    {
     "name": "stdout",
     "output_type": "stream",
     "text": [
      "cumulative sum along each row \n",
      " [[ 1  3  6]\n",
      " [ 4 11 19]\n",
      " [ 3  4 13]]\n"
     ]
    }
   ],
   "source": [
    "print(\"cumulative sum along each row \\n\",a.cumsum(axis=1))\n"
   ]
  },
  {
   "cell_type": "code",
   "execution_count": 39,
   "metadata": {},
   "outputs": [
    {
     "name": "stdout",
     "output_type": "stream",
     "text": [
      "cumulative sum along each row \n",
      " [[ 1  2  3]\n",
      " [ 5  9 11]\n",
      " [ 8 10 20]]\n"
     ]
    }
   ],
   "source": [
    "print(\"cumulative sum along each row \\n\",a.cumsum(axis=0))\n"
   ]
  },
  {
   "cell_type": "code",
   "execution_count": 40,
   "metadata": {},
   "outputs": [
    {
     "name": "stdout",
     "output_type": "stream",
     "text": [
      "end numpy for Machine learning.\n"
     ]
    }
   ],
   "source": [
    "print(\"end numpy for Machine learning.\")"
   ]
  },
  {
   "cell_type": "raw",
   "metadata": {},
   "source": [
    "[[10,20,30],\n",
    "[40,50,60],\n",
    "[70,80,90],\n",
    "[101,102,103]]\n",
    "\n",
    "x=[::-1,1::2]\n",
    "x=[1::1,::2]\n",
    "x=[1::3,::4]\n",
    "\n",
    "Output?\n",
    "\n",
    "indexing:\n",
    "    \n",
    "    [[0,1,2,3],[1,2,3,4]]\n",
    "    \n",
    "    Output?\n",
    "    \n",
    "    "
   ]
  },
  {
   "cell_type": "code",
   "execution_count": null,
   "metadata": {},
   "outputs": [],
   "source": []
  }
 ],
 "metadata": {
  "kernelspec": {
   "display_name": "Python 3 (ipykernel)",
   "language": "python",
   "name": "python3"
  },
  "language_info": {
   "codemirror_mode": {
    "name": "ipython",
    "version": 3
   },
   "file_extension": ".py",
   "mimetype": "text/x-python",
   "name": "python",
   "nbconvert_exporter": "python",
   "pygments_lexer": "ipython3",
   "version": "3.9.7"
  }
 },
 "nbformat": 4,
 "nbformat_minor": 2
}
