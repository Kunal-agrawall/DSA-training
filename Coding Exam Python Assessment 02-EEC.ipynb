{
 "cells": [
  {
   "cell_type": "markdown",
   "id": "5ca3af16",
   "metadata": {},
   "source": [
    "# Terms & Conditions"
   ]
  },
  {
   "cell_type": "markdown",
   "id": "42e820be",
   "metadata": {},
   "source": [
    "1- Once you open the exam URL, do not refresh the page. If you refresh, your exam will be automatically canceled, and you will be marked as failed. No re-attempts are allowed.\n",
    "\n",
    "2- Total Questions: 10 | Total Marks: 30 (Each question carries 3 mark).\n",
    "\n",
    "3- You should try to solve the questions without using predefined methods as much as possible. This will reduce the complexity of the problems and make it easier to solve them quickly.\n",
    "\n",
    "4- Before starting the exam, you must enter your name and roll number. If anyone fails to enter these details, their answers will not be considered, and they will be marked as fail, with the result being automatically submitted."
   ]
  },
  {
   "cell_type": "code",
   "execution_count": 9,
   "id": "db4477d3",
   "metadata": {},
   "outputs": [
    {
     "name": "stdout",
     "output_type": "stream",
     "text": [
      "Enter student name:Test\n",
      "Enter roll number for Test: 12345\n",
      "*Student Name*: Test *Roll Number*: 12345\n"
     ]
    }
   ],
   "source": [
    "name = input(\"Enter student name:\")\n",
    "roll_number = input(f\"Enter roll number for {name}: \")\n",
    "print(\"*Student Name*:\",name, \"*Roll Number*:\",roll_number)"
   ]
  },
  {
   "cell_type": "code",
   "execution_count": 10,
   "id": "5aba8fc0",
   "metadata": {},
   "outputs": [
    {
     "name": "stdout",
     "output_type": "stream",
     "text": [
      "--------------------Start Exam-----------------------\n"
     ]
    }
   ],
   "source": [
    "print(\"--------------------Start Exam-----------------------\")"
   ]
  },
  {
   "cell_type": "markdown",
   "id": "0a401686",
   "metadata": {},
   "source": [
    "# 1. Control Flow - Palindrome Partitioning"
   ]
  },
  {
   "cell_type": "markdown",
   "id": "70e95a19",
   "metadata": {},
   "source": [
    "\n",
    "Write a Python function min_cut_palindrome_partition(s) that takes a string s and returns the minimum number of cuts needed to partition the string into palindromes. A palindrome is a string that reads the same forwards and backwards.\n",
    "\n",
    "Example:\n",
    "\n",
    "min_cut_palindrome_partition(\"aab\") # Output: 1"
   ]
  },
  {
   "cell_type": "code",
   "execution_count": 12,
   "id": "465e8521",
   "metadata": {},
   "outputs": [
    {
     "name": "stdout",
     "output_type": "stream",
     "text": [
      "1\n"
     ]
    }
   ],
   "source": [
    "def min_cut_palindrome_partition(s):\n",
    "    n = len(s)\n",
    "    if n == 0:\n",
    "        return 0\n",
    "    \n",
    "    # Helper function to check if a substring is a palindrome\n",
    "    def is_palindrome(start, end):\n",
    "        while start < end:\n",
    "            if s[start] != s[end]:\n",
    "                return False\n",
    "            start += 1\n",
    "            end -= 1\n",
    "        return True\n",
    "    \n",
    "    # dp[i] stores the minimum cuts needed for s[0:i+1]\n",
    "    dp = [float('inf')] * n\n",
    "    \n",
    "    for i in range(n):\n",
    "        if is_palindrome(0, i):\n",
    "            dp[i] = 0  # No cut needed if s[0:i+1] is a palindrome\n",
    "        else:\n",
    "            for j in range(i):\n",
    "                if is_palindrome(j + 1, i):\n",
    "                    dp[i] = min(dp[i], dp[j] + 1)\n",
    "    \n",
    "    return dp[-1]\n",
    "\n",
    "# Example usage\n",
    "print(min_cut_palindrome_partition(\"aab\"))  # Output: 1\n"
   ]
  },
  {
   "cell_type": "markdown",
   "id": "5e2abc8e",
   "metadata": {},
   "source": [
    "# 2. Lists - Find Missing Numbers"
   ]
  },
  {
   "cell_type": "markdown",
   "id": "68156ad4",
   "metadata": {},
   "source": [
    "Write a function find_missing_numbers(lst) that takes a list of integers from 1 to n (but not necessarily in order) and returns the missing numbers as a list.\n",
    "\n",
    "Example:\n",
    "\n",
    "find_missing_numbers([1, 2, 4, 6, 3, 7, 8]) # Output: [5]"
   ]
  },
  {
   "cell_type": "code",
   "execution_count": 13,
   "id": "6230705a",
   "metadata": {},
   "outputs": [
    {
     "name": "stdout",
     "output_type": "stream",
     "text": [
      "[5]\n"
     ]
    }
   ],
   "source": [
    "def find_missing_numbers(lst):\n",
    "    n = max(lst)  # Find the maximum number in the list\n",
    "    full_set = set(range(1, n + 1))  # Create a set of numbers from 1 to n\n",
    "    given_set = set(lst)  # Convert the given list to a set\n",
    "    return sorted(list(full_set - given_set))  # Find the missing numbers and return them sorted\n",
    "\n",
    "# Example usage\n",
    "print(find_missing_numbers([1, 2, 4, 6, 3, 7, 8]))  # Output: [5]\n"
   ]
  },
  {
   "cell_type": "markdown",
   "id": "67b3f596",
   "metadata": {},
   "source": [
    "# 3. Tuples - Tuple Sorting by Multiple Criteria"
   ]
  },
  {
   "cell_type": "markdown",
   "id": "917d7cb6",
   "metadata": {},
   "source": [
    "\n",
    "Create a function sort_by_multiple_criteria(tuples) that takes a list of tuples, where each tuple contains a name and a score, and sorts them first by score in descending order, and then by name in ascending order if the scores are the same.\n",
    "\n",
    "Example:\n",
    "\n",
    "sort_by_multiple_criteria([(\"Alice\", 90), (\"Bob\", 85), (\"Charlie\", 90), (\"David\", 80)]) # Output: [(\"Alice\", 90), (\"Charlie\", 90), (\"Bob\", 85), (\"David\", 80)]"
   ]
  },
  {
   "cell_type": "code",
   "execution_count": 14,
   "id": "98b250aa",
   "metadata": {},
   "outputs": [
    {
     "name": "stdout",
     "output_type": "stream",
     "text": [
      "[('Alice', 90), ('Charlie', 90), ('Bob', 85), ('David', 80)]\n"
     ]
    }
   ],
   "source": [
    "def sort_by_multiple_criteria(tuples):\n",
    "    return sorted(tuples, key=lambda x: (-x[1], x[0]))\n",
    "\n",
    "# Example usage\n",
    "print(sort_by_multiple_criteria([(\"Alice\", 90), (\"Bob\", 85), (\"Charlie\", 90), (\"David\", 80)]))\n"
   ]
  },
  {
   "cell_type": "markdown",
   "id": "9ed080c9",
   "metadata": {},
   "source": [
    "# 4. Sets - Set Operations with Multiple Sets"
   ]
  },
  {
   "cell_type": "markdown",
   "id": "81cdcde6",
   "metadata": {},
   "source": [
    "Write a function union_intersection_difference(sets) that takes a list of sets and returns the union, intersection, and difference of all the sets in the list.\n",
    "\n",
    "Example:\n",
    "\n",
    "union_intersection_difference([{1, 2, 3}, {2, 3, 4}, {3, 4, 5}])\n",
    "#Output: \n",
    "\n",
    "Union: {1, 2, 3, 4, 5}\n",
    "Intersection: {3}\n",
    "Difference: {1, 2, 4, 5}"
   ]
  },
  {
   "cell_type": "code",
   "execution_count": 15,
   "id": "2361d55d",
   "metadata": {},
   "outputs": [
    {
     "name": "stdout",
     "output_type": "stream",
     "text": [
      "Union: {1, 2, 3, 4, 5}\n",
      "Intersection: {3}\n",
      "Difference: {1, 2, 4, 5}\n"
     ]
    }
   ],
   "source": [
    "def union_intersection_difference(sets):\n",
    "    if not sets:\n",
    "        return set(), set(), set()\n",
    "    \n",
    "    union_set = set.union(*sets)\n",
    "    intersection_set = set.intersection(*sets)\n",
    "    difference_set = union_set - intersection_set\n",
    "    \n",
    "    return union_set, intersection_set, difference_set\n",
    "\n",
    "# Example usage:\n",
    "sets = [{1, 2, 3}, {2, 3, 4}, {3, 4, 5}]\n",
    "union, intersection, difference = union_intersection_difference(sets)\n",
    "print(\"Union:\", union)\n",
    "print(\"Intersection:\", intersection)\n",
    "print(\"Difference:\", difference)\n"
   ]
  },
  {
   "cell_type": "markdown",
   "id": "45dc3608",
   "metadata": {},
   "source": [
    "# 5. Dictionaries - Frequency of Characters"
   ]
  },
  {
   "cell_type": "markdown",
   "id": "0d56f4d5",
   "metadata": {},
   "source": [
    "Write a function char_frequency(s) that takes a string s and returns a dictionary where the keys are the characters, and the values are the number of times each character appears in the string.\n",
    "\n",
    "Example:\n",
    "\n",
    "char_frequency(\"hello\") # Output: {'h': 1, 'e': 1, 'l': 2, 'o': 1}"
   ]
  },
  {
   "cell_type": "code",
   "execution_count": 16,
   "id": "4e5ae129",
   "metadata": {},
   "outputs": [
    {
     "name": "stdout",
     "output_type": "stream",
     "text": [
      "{'h': 1, 'e': 1, 'l': 2, 'o': 1}\n"
     ]
    }
   ],
   "source": [
    "def char_frequency(s):\n",
    "    freq_dict = {}\n",
    "    for char in s:\n",
    "        freq_dict[char] = freq_dict.get(char, 0) + 1\n",
    "    return freq_dict\n",
    "\n",
    "# Example usage:\n",
    "print(char_frequency(\"hello\"))  # Output: {'h': 1, 'e': 1, 'l': 2, 'o': 1}\n"
   ]
  },
  {
   "cell_type": "markdown",
   "id": "10d438a6",
   "metadata": {},
   "source": [
    "# 6. Functions - Fibonacci Sequence with Memoization"
   ]
  },
  {
   "cell_type": "markdown",
   "id": "d98ddbbb",
   "metadata": {},
   "source": [
    "Write a function fibonacci_memo(n) that computes the nth Fibonacci number using memoization to optimize performance.\n",
    "\n",
    "Example:\n",
    "\n",
    "fibonacci_memo(10) # Output: 55"
   ]
  },
  {
   "cell_type": "code",
   "execution_count": 17,
   "id": "c95286fd",
   "metadata": {},
   "outputs": [
    {
     "name": "stdout",
     "output_type": "stream",
     "text": [
      "55\n"
     ]
    }
   ],
   "source": [
    "def fibonacci_memo(n, memo={}):\n",
    "    if n in memo:\n",
    "        return memo[n]\n",
    "    if n <= 1:\n",
    "        return n\n",
    "    memo[n] = fibonacci_memo(n - 1, memo) + fibonacci_memo(n - 2, memo)\n",
    "    return memo[n]\n",
    "\n",
    "# Example usage:\n",
    "print(fibonacci_memo(10))  # Output: 55\n"
   ]
  },
  {
   "cell_type": "markdown",
   "id": "5e0fbb77",
   "metadata": {},
   "source": [
    "# 7. Classes and Objects - Employee Salary Management"
   ]
  },
  {
   "cell_type": "markdown",
   "id": "135dbced",
   "metadata": {},
   "source": [
    "Create a class Employee with the following functionality:\n",
    "\n",
    "A constructor that takes the employee's name, ID, and salary.\n",
    "A method to increase the salary by a percentage.\n",
    "A method to display the employee's details.\n",
    "Example:\n",
    "\n",
    "\n",
    "emp = Employee(\"Alice\", 101, 50000)\n",
    "emp.increase_salary(10)  # Increases salary by 10%\n",
    "emp.display_details()"
   ]
  },
  {
   "cell_type": "code",
   "execution_count": 18,
   "id": "59771011",
   "metadata": {},
   "outputs": [
    {
     "name": "stdout",
     "output_type": "stream",
     "text": [
      "Employee ID: 101\n",
      "Name: Alice\n",
      "Salary: 55000.00\n"
     ]
    }
   ],
   "source": [
    "class Employee:\n",
    "    def __init__(self, name, emp_id, salary):\n",
    "        self.name = name\n",
    "        self.emp_id = emp_id\n",
    "        self.salary = salary\n",
    "\n",
    "    def increase_salary(self, percentage):\n",
    "        self.salary += self.salary * (percentage / 100)\n",
    "\n",
    "    def display_details(self):\n",
    "        print(f\"Employee ID: {self.emp_id}\")\n",
    "        print(f\"Name: {self.name}\")\n",
    "        print(f\"Salary: {self.salary:.2f}\")\n",
    "\n",
    "# Example usage\n",
    "emp = Employee(\"Alice\", 101, 50000)\n",
    "emp.increase_salary(10)  # Increases salary by 10%\n",
    "emp.display_details()\n"
   ]
  },
  {
   "cell_type": "markdown",
   "id": "e9434b69",
   "metadata": {},
   "source": [
    "# 8. String Handling - Anagram Check"
   ]
  },
  {
   "cell_type": "markdown",
   "id": "6a6551ce",
   "metadata": {},
   "source": [
    "Write a function are_anagrams(s1, s2) that checks whether two strings s1 and s2 are anagrams of each other (i.e., they contain the same characters in any order).\n",
    "\n",
    "Example:\n",
    "\n",
    "are_anagrams(\"listen\", \"silent\") # Output: True\n",
    "are_anagrams(\"hello\", \"world\")   # Output: False"
   ]
  },
  {
   "cell_type": "code",
   "execution_count": 19,
   "id": "4f494337",
   "metadata": {},
   "outputs": [
    {
     "name": "stdout",
     "output_type": "stream",
     "text": [
      "True\n",
      "False\n"
     ]
    }
   ],
   "source": [
    "def are_anagrams(s1, s2):\n",
    "    return sorted(s1) == sorted(s2)\n",
    "\n",
    "# Example usage:\n",
    "print(are_anagrams(\"listen\", \"silent\"))  # Output: True\n",
    "print(are_anagrams(\"hello\", \"world\"))    # Output: False\n"
   ]
  },
  {
   "cell_type": "markdown",
   "id": "e0f891c8",
   "metadata": {},
   "source": [
    "# 9. List and Dictionary Combination - Grouping by Criteria"
   ]
  },
  {
   "cell_type": "markdown",
   "id": "fa42a385",
   "metadata": {},
   "source": [
    "Write a function group_by_criteria(lst) that takes a list of dictionaries, where each dictionary has a \"category\" and a \"value\". Group the dictionaries by their category and return a dictionary where the keys are the categories, and the values are lists of dictionaries that belong to those categories.\n",
    "\n",
    "Example:\n",
    "\n",
    "lst = [{\"category\": \"A\", \"value\": 10}, {\"category\": \"B\", \"value\": 20}, {\"category\": \"A\", \"value\": 30}]\n",
    "group_by_criteria(lst)\n",
    "\n",
    "#Output: {'A': [{'category': 'A', 'value': 10}, {'category': 'A', 'value': 30}], 'B': [{'category': 'B', 'value': 20}]}"
   ]
  },
  {
   "cell_type": "code",
   "execution_count": 20,
   "id": "f19a6804",
   "metadata": {},
   "outputs": [
    {
     "name": "stdout",
     "output_type": "stream",
     "text": [
      "{'A': [{'category': 'A', 'value': 10}, {'category': 'A', 'value': 30}], 'B': [{'category': 'B', 'value': 20}]}\n"
     ]
    }
   ],
   "source": [
    "from collections import defaultdict\n",
    "\n",
    "def group_by_criteria(lst):\n",
    "    grouped = defaultdict(list)  # Using defaultdict to initialize empty lists\n",
    "    \n",
    "    for item in lst:\n",
    "        category = item[\"category\"]\n",
    "        grouped[category].append(item)\n",
    "    \n",
    "    return dict(grouped)  # Convert defaultdict to a regular dictionary before returning\n",
    "\n",
    "# Example usage\n",
    "lst = [\n",
    "    {\"category\": \"A\", \"value\": 10},\n",
    "    {\"category\": \"B\", \"value\": 20},\n",
    "    {\"category\": \"A\", \"value\": 30}\n",
    "]\n",
    "\n",
    "print(group_by_criteria(lst))\n"
   ]
  },
  {
   "cell_type": "markdown",
   "id": "d47910b4",
   "metadata": {},
   "source": [
    "# 10. Advanced String Handling - Longest Substring Without Repeating Characters"
   ]
  },
  {
   "cell_type": "markdown",
   "id": "e6d7f068",
   "metadata": {},
   "source": [
    "Write a function longest_unique_substring(s) that takes a string s and returns the length of the longest substring that does not contain repeating characters.\n",
    "\n",
    "Example:\n",
    "\n",
    "longest_unique_substring(\"abcabcbb\") # Output: 3 (substring \"abc\")\n",
    "longest_unique_substring(\"bbbbb\")    # Output: 1\n"
   ]
  },
  {
   "cell_type": "code",
   "execution_count": 21,
   "id": "1b364039",
   "metadata": {},
   "outputs": [
    {
     "name": "stdout",
     "output_type": "stream",
     "text": [
      "3\n",
      "1\n",
      "3\n"
     ]
    }
   ],
   "source": [
    "def longest_unique_substring(s: str) -> int:\n",
    "    char_index = {}\n",
    "    max_length = 0\n",
    "    start = 0\n",
    "\n",
    "    for end, char in enumerate(s):\n",
    "        if char in char_index and char_index[char] >= start:\n",
    "            start = char_index[char] + 1\n",
    "        char_index[char] = end\n",
    "        max_length = max(max_length, end - start + 1)\n",
    "\n",
    "    return max_length\n",
    "\n",
    "# Example usage\n",
    "print(longest_unique_substring(\"abcabcbb\"))  # Output: 3\n",
    "print(longest_unique_substring(\"bbbbb\"))     # Output: 1\n",
    "print(longest_unique_substring(\"pwwkew\"))    # Output: 3\n"
   ]
  },
  {
   "cell_type": "code",
   "execution_count": 11,
   "id": "a510425e",
   "metadata": {},
   "outputs": [
    {
     "name": "stdout",
     "output_type": "stream",
     "text": [
      "--------------------Exam Execution End-----------------------\n"
     ]
    }
   ],
   "source": [
    "print(\"--------------------Exam Execution End-----------------------\")"
   ]
  }
 ],
 "metadata": {
  "kernelspec": {
   "display_name": "Python 3 (ipykernel)",
   "language": "python",
   "name": "python3"
  },
  "language_info": {
   "codemirror_mode": {
    "name": "ipython",
    "version": 3
   },
   "file_extension": ".py",
   "mimetype": "text/x-python",
   "name": "python",
   "nbconvert_exporter": "python",
   "pygments_lexer": "ipython3",
   "version": "3.9.7"
  }
 },
 "nbformat": 4,
 "nbformat_minor": 5
}
