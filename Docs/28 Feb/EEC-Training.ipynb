{
 "cells": [
  {
   "cell_type": "code",
   "execution_count": 1,
   "id": "6ba9fc5c",
   "metadata": {},
   "outputs": [],
   "source": [
    "  # Control flow"
   ]
  },
  {
   "cell_type": "raw",
   "id": "9903a7d0",
   "metadata": {},
   "source": [
    "if \n",
    "else\n",
    "elif"
   ]
  },
  {
   "cell_type": "raw",
   "id": "6cf816b7",
   "metadata": {},
   "source": [
    "# if\n",
    "Syntax\n",
    "\n",
    "if condition:\n",
    "    statement\n",
    "    statement\n",
    "    statement\n",
    "    .\n",
    "    .\n",
    "    ..\n",
    "    n\n",
    "    \n",
    "    \n",
    "# if else\n",
    "\n",
    "Syntax:\n",
    "\n",
    "if condition:\n",
    "    statement\n",
    "else:\n",
    "    statement\n",
    "    statement\n",
    "    statement\n",
    "    .\n",
    "    .\n",
    "    ..\n",
    "\n",
    "    \n",
    "    \n",
    "# elif\n",
    "Syntax\n",
    "if condition:\n",
    "    statement\n",
    "elif condition:\n",
    "    statement\n",
    "    statement\n",
    "else:\n",
    "    statement"
   ]
  },
  {
   "cell_type": "code",
   "execution_count": 2,
   "id": "0788d944",
   "metadata": {},
   "outputs": [],
   "source": [
    "# WAP to check number is even ?"
   ]
  },
  {
   "cell_type": "code",
   "execution_count": 4,
   "id": "168df383",
   "metadata": {},
   "outputs": [
    {
     "name": "stdout",
     "output_type": "stream",
     "text": [
      "Enter the value of x:10\n",
      "Number is Even\n"
     ]
    }
   ],
   "source": [
    "x=int(input(\"Enter the value of x:\"))\n",
    "if x%2==0:\n",
    "    print(\"Number is Even\")"
   ]
  },
  {
   "cell_type": "code",
   "execution_count": 5,
   "id": "9f9de836",
   "metadata": {},
   "outputs": [
    {
     "name": "stdout",
     "output_type": "stream",
     "text": [
      "Enter the value of x:10\n",
      "Number is Even 10\n"
     ]
    }
   ],
   "source": [
    "x=int(input(\"Enter the value of x:\"))\n",
    "if x%2==0:\n",
    "    print(\"Number is Even\",x)"
   ]
  },
  {
   "cell_type": "code",
   "execution_count": null,
   "id": "5b42c15b",
   "metadata": {},
   "outputs": [],
   "source": [
    "# WAP to check number is Negative ?"
   ]
  },
  {
   "cell_type": "code",
   "execution_count": 6,
   "id": "90954b1a",
   "metadata": {},
   "outputs": [],
   "source": [
    "# else"
   ]
  },
  {
   "cell_type": "code",
   "execution_count": 7,
   "id": "276cec1b",
   "metadata": {},
   "outputs": [],
   "source": [
    "# WAP to check number is even or odd?"
   ]
  },
  {
   "cell_type": "code",
   "execution_count": 8,
   "id": "4746a4e9",
   "metadata": {},
   "outputs": [
    {
     "name": "stdout",
     "output_type": "stream",
     "text": [
      "Enter the value of x:11\n",
      "Number is Odd 11\n"
     ]
    }
   ],
   "source": [
    "x=int(input(\"Enter the value of x:\"))\n",
    "if x%2==0:\n",
    "    print(\"Number is Even\",x)\n",
    "else:\n",
    "    print(\"Number is Odd\",x)"
   ]
  },
  {
   "cell_type": "code",
   "execution_count": null,
   "id": "7ee5c1f4",
   "metadata": {},
   "outputs": [],
   "source": [
    "# WAP to check number is Negative or positive ?"
   ]
  },
  {
   "cell_type": "code",
   "execution_count": null,
   "id": "7e52b44f",
   "metadata": {},
   "outputs": [],
   "source": [
    "# WAP to check number is greater or smaller and equal?     "
   ]
  },
  {
   "cell_type": "code",
   "execution_count": 10,
   "id": "04c521c5",
   "metadata": {},
   "outputs": [
    {
     "name": "stdout",
     "output_type": "stream",
     "text": [
      "Enter the value of x:-1\n",
      "Enter the value of y:-1\n",
      "Enter the value of z:-2\n",
      "z is smaller -2\n"
     ]
    }
   ],
   "source": [
    "x=int(input(\"Enter the value of x:\"))\n",
    "y=int(input(\"Enter the value of y:\"))\n",
    "z=int(input(\"Enter the value of z:\"))\n",
    "\n",
    "if x>y and x>z:\n",
    "    print(\"x is greater\",x)\n",
    "elif y>x and y>z:\n",
    "    print(\"y is greater\",y)\n",
    "elif z>y and y>z:\n",
    "    print(\"z is greater\",z)\n",
    "elif x<y and x<z:\n",
    "    print(\"x is smaller\",x)\n",
    "elif y<x and y<z:\n",
    "    print(\"y is smaller\",y)\n",
    "elif z<y and z<x:\n",
    "    print(\"z is smaller\",z)\n",
    "else:\n",
    "    print(\"all are equal\")\n",
    "    \n",
    "    "
   ]
  },
  {
   "cell_type": "code",
   "execution_count": 17,
   "id": "7aca807d",
   "metadata": {},
   "outputs": [
    {
     "name": "stdout",
     "output_type": "stream",
     "text": [
      "Enter a year1900\n",
      "not a leap year\n"
     ]
    }
   ],
   "source": [
    "#WAP to check year is leap?5\n",
    "x = int(input(\"Enter a year\"))\n",
    "if (x%4==0 and x%100!=0) or x%400==0:\n",
    "    print(\"leap year\")\n",
    "else:\n",
    "    print(\"not a leap year\")"
   ]
  },
  {
   "cell_type": "code",
   "execution_count": null,
   "id": "03da56d7",
   "metadata": {},
   "outputs": [],
   "source": [
    "# for loop\n",
    "\n",
    " syntax:\n",
    "    \n",
    "    for var_name in sequence or conditions:\n",
    "        statement\n",
    "        \n",
    "        \n",
    "        range:\n",
    "            \n",
    "            syntax:\n",
    "                range(begin,end,step)"
   ]
  },
  {
   "cell_type": "code",
   "execution_count": 19,
   "id": "c4014b22",
   "metadata": {},
   "outputs": [
    {
     "name": "stdout",
     "output_type": "stream",
     "text": [
      "odd number 1\n",
      "even number 2\n",
      "odd number 3\n",
      "even number 4\n",
      "odd number 5\n",
      "even number 6\n",
      "odd number 7\n",
      "even number 8\n",
      "odd number 9\n"
     ]
    }
   ],
   "source": [
    "# WAP to check number is even or odd from range? using for loop\n",
    "for i in range(1,10):\n",
    "    if i%2 == 0:\n",
    "        print(\"even number\",i)\n",
    "    else:\n",
    "        print(\"odd number\",i)"
   ]
  },
  {
   "cell_type": "code",
   "execution_count": 20,
   "id": "a1f728c4",
   "metadata": {},
   "outputs": [
    {
     "ename": "SyntaxError",
     "evalue": "invalid syntax (Temp/ipykernel_4056/1633575047.py, line 3)",
     "output_type": "error",
     "traceback": [
      "\u001b[1;36m  File \u001b[1;32m\"C:\\Users\\HP\\AppData\\Local\\Temp/ipykernel_4056/1633575047.py\"\u001b[1;36m, line \u001b[1;32m3\u001b[0m\n\u001b[1;33m    output:\u001b[0m\n\u001b[1;37m           ^\u001b[0m\n\u001b[1;31mSyntaxError\u001b[0m\u001b[1;31m:\u001b[0m invalid syntax\n"
     ]
    }
   ],
   "source": [
    "# WAP to print table of 2?\n",
    "input= 2\n",
    "output:\n",
    "    2X1=2\n",
    "    2X2=4\n",
    "    .\n",
    "    .\n",
    "    .\n",
    "    .\n",
    "    2X10=20 "
   ]
  },
  {
   "cell_type": "code",
   "execution_count": 22,
   "id": "69096a67",
   "metadata": {},
   "outputs": [
    {
     "name": "stdout",
     "output_type": "stream",
     "text": [
      "2 x 1 = 2\n",
      "2 x 2 = 4\n",
      "2 x 3 = 6\n",
      "2 x 4 = 8\n",
      "2 x 5 = 10\n",
      "2 x 6 = 12\n",
      "2 x 7 = 14\n",
      "2 x 8 = 16\n",
      "2 x 9 = 18\n",
      "2 x 10 = 20\n"
     ]
    }
   ],
   "source": [
    "n = 2\n",
    "for i in range(1,11):\n",
    "    print(n,'x',i,'=',n*i)"
   ]
  },
  {
   "cell_type": "code",
   "execution_count": null,
   "id": "a5a85944",
   "metadata": {},
   "outputs": [],
   "source": []
  },
  {
   "cell_type": "code",
   "execution_count": 28,
   "id": "94a7ca88",
   "metadata": {},
   "outputs": [
    {
     "name": "stdout",
     "output_type": "stream",
     "text": [
      "table of :  1\n",
      "1 * 1 = 1\n",
      "1 * 2 = 2\n",
      "1 * 3 = 3\n",
      "1 * 4 = 4\n",
      "1 * 5 = 5\n",
      "1 * 6 = 6\n",
      "1 * 7 = 7\n",
      "1 * 8 = 8\n",
      "1 * 9 = 9\n",
      "1 * 10 = 10\n",
      "table of :  2\n",
      "2 * 1 = 2\n",
      "2 * 2 = 4\n",
      "2 * 3 = 6\n",
      "2 * 4 = 8\n",
      "2 * 5 = 10\n",
      "2 * 6 = 12\n",
      "2 * 7 = 14\n",
      "2 * 8 = 16\n",
      "2 * 9 = 18\n",
      "2 * 10 = 20\n",
      "table of :  3\n",
      "3 * 1 = 3\n",
      "3 * 2 = 6\n",
      "3 * 3 = 9\n",
      "3 * 4 = 12\n",
      "3 * 5 = 15\n",
      "3 * 6 = 18\n",
      "3 * 7 = 21\n",
      "3 * 8 = 24\n",
      "3 * 9 = 27\n",
      "3 * 10 = 30\n",
      "table of :  4\n",
      "4 * 1 = 4\n",
      "4 * 2 = 8\n",
      "4 * 3 = 12\n",
      "4 * 4 = 16\n",
      "4 * 5 = 20\n",
      "4 * 6 = 24\n",
      "4 * 7 = 28\n",
      "4 * 8 = 32\n",
      "4 * 9 = 36\n",
      "4 * 10 = 40\n",
      "table of :  5\n",
      "5 * 1 = 5\n",
      "5 * 2 = 10\n",
      "5 * 3 = 15\n",
      "5 * 4 = 20\n",
      "5 * 5 = 25\n",
      "5 * 6 = 30\n",
      "5 * 7 = 35\n",
      "5 * 8 = 40\n",
      "5 * 9 = 45\n",
      "5 * 10 = 50\n",
      "table of :  6\n",
      "6 * 1 = 6\n",
      "6 * 2 = 12\n",
      "6 * 3 = 18\n",
      "6 * 4 = 24\n",
      "6 * 5 = 30\n",
      "6 * 6 = 36\n",
      "6 * 7 = 42\n",
      "6 * 8 = 48\n",
      "6 * 9 = 54\n",
      "6 * 10 = 60\n",
      "table of :  7\n",
      "7 * 1 = 7\n",
      "7 * 2 = 14\n",
      "7 * 3 = 21\n",
      "7 * 4 = 28\n",
      "7 * 5 = 35\n",
      "7 * 6 = 42\n",
      "7 * 7 = 49\n",
      "7 * 8 = 56\n",
      "7 * 9 = 63\n",
      "7 * 10 = 70\n",
      "table of :  8\n",
      "8 * 1 = 8\n",
      "8 * 2 = 16\n",
      "8 * 3 = 24\n",
      "8 * 4 = 32\n",
      "8 * 5 = 40\n",
      "8 * 6 = 48\n",
      "8 * 7 = 56\n",
      "8 * 8 = 64\n",
      "8 * 9 = 72\n",
      "8 * 10 = 80\n",
      "table of :  9\n",
      "9 * 1 = 9\n",
      "9 * 2 = 18\n",
      "9 * 3 = 27\n",
      "9 * 4 = 36\n",
      "9 * 5 = 45\n",
      "9 * 6 = 54\n",
      "9 * 7 = 63\n",
      "9 * 8 = 72\n",
      "9 * 9 = 81\n",
      "9 * 10 = 90\n",
      "table of :  10\n",
      "10 * 1 = 10\n",
      "10 * 2 = 20\n",
      "10 * 3 = 30\n",
      "10 * 4 = 40\n",
      "10 * 5 = 50\n",
      "10 * 6 = 60\n",
      "10 * 7 = 70\n",
      "10 * 8 = 80\n",
      "10 * 9 = 90\n",
      "10 * 10 = 100\n",
      "table of :  11\n",
      "11 * 1 = 11\n",
      "11 * 2 = 22\n",
      "11 * 3 = 33\n",
      "11 * 4 = 44\n",
      "11 * 5 = 55\n",
      "11 * 6 = 66\n",
      "11 * 7 = 77\n",
      "11 * 8 = 88\n",
      "11 * 9 = 99\n",
      "11 * 10 = 110\n",
      "table of :  12\n",
      "12 * 1 = 12\n",
      "12 * 2 = 24\n",
      "12 * 3 = 36\n",
      "12 * 4 = 48\n",
      "12 * 5 = 60\n",
      "12 * 6 = 72\n",
      "12 * 7 = 84\n",
      "12 * 8 = 96\n",
      "12 * 9 = 108\n",
      "12 * 10 = 120\n",
      "table of :  13\n",
      "13 * 1 = 13\n",
      "13 * 2 = 26\n",
      "13 * 3 = 39\n",
      "13 * 4 = 52\n",
      "13 * 5 = 65\n",
      "13 * 6 = 78\n",
      "13 * 7 = 91\n",
      "13 * 8 = 104\n",
      "13 * 9 = 117\n",
      "13 * 10 = 130\n",
      "table of :  14\n",
      "14 * 1 = 14\n",
      "14 * 2 = 28\n",
      "14 * 3 = 42\n",
      "14 * 4 = 56\n",
      "14 * 5 = 70\n",
      "14 * 6 = 84\n",
      "14 * 7 = 98\n",
      "14 * 8 = 112\n",
      "14 * 9 = 126\n",
      "14 * 10 = 140\n",
      "table of :  15\n",
      "15 * 1 = 15\n",
      "15 * 2 = 30\n",
      "15 * 3 = 45\n",
      "15 * 4 = 60\n",
      "15 * 5 = 75\n",
      "15 * 6 = 90\n",
      "15 * 7 = 105\n",
      "15 * 8 = 120\n",
      "15 * 9 = 135\n",
      "15 * 10 = 150\n",
      "table of :  16\n",
      "16 * 1 = 16\n",
      "16 * 2 = 32\n",
      "16 * 3 = 48\n",
      "16 * 4 = 64\n",
      "16 * 5 = 80\n",
      "16 * 6 = 96\n",
      "16 * 7 = 112\n",
      "16 * 8 = 128\n",
      "16 * 9 = 144\n",
      "16 * 10 = 160\n",
      "table of :  17\n",
      "17 * 1 = 17\n",
      "17 * 2 = 34\n",
      "17 * 3 = 51\n",
      "17 * 4 = 68\n",
      "17 * 5 = 85\n",
      "17 * 6 = 102\n",
      "17 * 7 = 119\n",
      "17 * 8 = 136\n",
      "17 * 9 = 153\n",
      "17 * 10 = 170\n",
      "table of :  18\n",
      "18 * 1 = 18\n",
      "18 * 2 = 36\n",
      "18 * 3 = 54\n",
      "18 * 4 = 72\n",
      "18 * 5 = 90\n",
      "18 * 6 = 108\n",
      "18 * 7 = 126\n",
      "18 * 8 = 144\n",
      "18 * 9 = 162\n",
      "18 * 10 = 180\n",
      "table of :  19\n",
      "19 * 1 = 19\n",
      "19 * 2 = 38\n",
      "19 * 3 = 57\n",
      "19 * 4 = 76\n",
      "19 * 5 = 95\n",
      "19 * 6 = 114\n",
      "19 * 7 = 133\n",
      "19 * 8 = 152\n",
      "19 * 9 = 171\n",
      "19 * 10 = 190\n",
      "table of :  20\n",
      "20 * 1 = 20\n",
      "20 * 2 = 40\n",
      "20 * 3 = 60\n",
      "20 * 4 = 80\n",
      "20 * 5 = 100\n",
      "20 * 6 = 120\n",
      "20 * 7 = 140\n",
      "20 * 8 = 160\n",
      "20 * 9 = 180\n",
      "20 * 10 = 200\n"
     ]
    }
   ],
   "source": [
    "for i in range(1,21):\n",
    "    print(\"table of : \", i)\n",
    "    for j in range(1,11):\n",
    "        print(i, \"*\",j,'=',i*j)"
   ]
  },
  {
   "cell_type": "raw",
   "id": "8e9e3ddc",
   "metadata": {},
   "source": [
    "# While loop\n",
    "\n",
    "# syntax:\n",
    "\n",
    "while conditions:\n",
    "    statement\n",
    "    statement"
   ]
  },
  {
   "cell_type": "code",
   "execution_count": 29,
   "id": "31587ffb",
   "metadata": {},
   "outputs": [],
   "source": [
    "# WAP to print 100-1 using while loop?"
   ]
  },
  {
   "cell_type": "code",
   "execution_count": 34,
   "id": "ee06b5bd",
   "metadata": {},
   "outputs": [
    {
     "name": "stdout",
     "output_type": "stream",
     "text": [
      "100, 99, 98, 97, 96, 95, 94, 93, 92, 91, 90, 89, 88, 87, 86, 85, 84, 83, 82, 81, 80, 79, 78, 77, 76, 75, 74, 73, 72, 71, 70, 69, 68, 67, 66, 65, 64, 63, 62, 61, 60, 59, 58, 57, 56, 55, 54, 53, 52, 51, 50, 49, 48, 47, 46, 45, 44, 43, 42, 41, 40, 39, 38, 37, 36, 35, 34, 33, 32, 31, 30, 29, 28, 27, 26, 25, 24, 23, 22, 21, 20, 19, 18, 17, 16, 15, 14, 13, 12, 11, 10, 9, 8, 7, 6, 5, 4, 3, 2, 1, "
     ]
    }
   ],
   "source": [
    "a = 100\n",
    "while a >0:\n",
    "    print(a,end= \", \")\n",
    "    a = a-1"
   ]
  },
  {
   "cell_type": "raw",
   "id": "f6c52bf2",
   "metadata": {},
   "source": [
    "# WAP to input a number and print their digit of sum?\n",
    "input=187\n",
    "output=16"
   ]
  },
  {
   "cell_type": "code",
   "execution_count": 35,
   "id": "81b4a201",
   "metadata": {},
   "outputs": [
    {
     "name": "stdout",
     "output_type": "stream",
     "text": [
      "enter the number123\n",
      "the sum of digit is 6\n"
     ]
    }
   ],
   "source": [
    "num = int(input(\"enter the number\"))\n",
    "sum = 0\n",
    "a = num\n",
    "while num>0:\n",
    "    digit = num%10\n",
    "    sum=sum+digit\n",
    "    num= num//10\n",
    "print(\"the sum of digit is\",sum)"
   ]
  },
  {
   "cell_type": "code",
   "execution_count": null,
   "id": "7df46bd0",
   "metadata": {},
   "outputs": [],
   "source": [
    "Transfer Statement:\n",
    "    break\n",
    "    pass\n",
    "    continue\n",
    "    "
   ]
  },
  {
   "cell_type": "code",
   "execution_count": 37,
   "id": "aaa261c4",
   "metadata": {},
   "outputs": [
    {
     "name": "stdout",
     "output_type": "stream",
     "text": [
      "1 2 3 4 5 6 7 8 9 10 11 12 13 14 15 16 17 18 19 "
     ]
    }
   ],
   "source": [
    "for i in range(1,20):\n",
    "    print(i,end=' ')"
   ]
  },
  {
   "cell_type": "code",
   "execution_count": 38,
   "id": "edcf6bcc",
   "metadata": {},
   "outputs": [],
   "source": [
    "# break"
   ]
  },
  {
   "cell_type": "code",
   "execution_count": 3,
   "id": "2f2a6c52",
   "metadata": {},
   "outputs": [
    {
     "name": "stdout",
     "output_type": "stream",
     "text": [
      "1 2 3 4 5 6 7 8 9 10 11 12 13 14 outside the loop\n"
     ]
    }
   ],
   "source": [
    "for i in range(1,20):\n",
    "    if i==15:\n",
    "        break\n",
    "    print(i,end=' ')\n",
    "print(\"outside the loop\")"
   ]
  },
  {
   "cell_type": "code",
   "execution_count": 4,
   "id": "e86f9e1e",
   "metadata": {},
   "outputs": [],
   "source": [
    "# continue"
   ]
  },
  {
   "cell_type": "code",
   "execution_count": 5,
   "id": "d88481fd",
   "metadata": {},
   "outputs": [
    {
     "name": "stdout",
     "output_type": "stream",
     "text": [
      "1 2 3 4 5 6 7 8 9 10 11 12 13 14 16 17 18 19 outside the loop\n"
     ]
    }
   ],
   "source": [
    "for i in range(1,20):\n",
    "    if i==15:\n",
    "         \n",
    "    print(i,end=' ')\n",
    "print(\"outside the loop\")"
   ]
  },
  {
   "cell_type": "code",
   "execution_count": 6,
   "id": "eee43ff8",
   "metadata": {},
   "outputs": [],
   "source": [
    "# pass"
   ]
  },
  {
   "cell_type": "code",
   "execution_count": 7,
   "id": "7444d59c",
   "metadata": {},
   "outputs": [
    {
     "name": "stdout",
     "output_type": "stream",
     "text": [
      "1 2 3 4 5 6 7 8 9 10 11 12 13 14 15 16 17 18 19 outside the loop\n"
     ]
    }
   ],
   "source": [
    "for i in range(1,20):\n",
    "    if i==15:\n",
    "        pass\n",
    "    print(i,end=' ')\n",
    "print(\"outside the loop\")"
   ]
  },
  {
   "cell_type": "markdown",
   "id": "7ab98443",
   "metadata": {},
   "source": [
    "# Day 05 - 13-02-2025- EEC Training"
   ]
  },
  {
   "cell_type": "raw",
   "id": "360b3af1",
   "metadata": {},
   "source": [
    "# List Tuple Set Dic"
   ]
  },
  {
   "cell_type": "code",
   "execution_count": 8,
   "id": "2925586e",
   "metadata": {},
   "outputs": [],
   "source": [
    "#List"
   ]
  },
  {
   "cell_type": "raw",
   "id": "1e861bbd",
   "metadata": {},
   "source": [
    "List is the collection of hetrogenious object where insertion order is preserved, list contains a duplicates values, it is mutable and we can perform CRUD operation.\n",
    "C- Create\n",
    "R- Read\n",
    "U= Update\n",
    "D= Delete"
   ]
  },
  {
   "cell_type": "code",
   "execution_count": 10,
   "id": "63ed539f",
   "metadata": {},
   "outputs": [
    {
     "name": "stdout",
     "output_type": "stream",
     "text": [
      "[10, 20, 30, True, 10, 20, 12.05, 'Python', (10+15j), 'ML']\n",
      "<class 'list'>\n"
     ]
    }
   ],
   "source": [
    "x=[10,20,30,True,10,20,12.05,\"Python\",10+15j,\"ML\"]\n",
    "print(x)\n",
    "print(type(x))"
   ]
  },
  {
   "cell_type": "raw",
   "id": "e658a4eb",
   "metadata": {},
   "source": [
    "method:\n",
    "    append\n",
    "    insert\n",
    "    pop\n",
    "    split\n",
    "    max\n",
    "    min\n",
    "    len\n",
    "    add\n",
    "    clear\n",
    "    sort\n",
    "    reverse\n",
    "    "
   ]
  },
  {
   "cell_type": "code",
   "execution_count": null,
   "id": "c892514a",
   "metadata": {},
   "outputs": [],
   "source": [
    "WAP to create a list with elements and apply list methods?\n",
    "x=[10,20,30,120,150,13.02,1589,1456]"
   ]
  },
  {
   "cell_type": "raw",
   "id": "cc717885",
   "metadata": {},
   "source": [
    "Wap to sum all the items in a list.\n",
    "\n",
    "WAP to get a list, sorted in increasing order by the last element in each tuple from a given list of non-empty tuples.\n",
    "Sample List : [(2, 5), (1, 2), (4, 4), (2, 3), (2, 1)]\n",
    "Expected Result : [(2, 1), (1, 2), (2, 3), (4, 4), (2, 5)]\n",
    "\n",
    "WAP that takes two lists and returns True if they have at least one common member."
   ]
  },
  {
   "cell_type": "code",
   "execution_count": 11,
   "id": "467d55d3",
   "metadata": {},
   "outputs": [
    {
     "name": "stdout",
     "output_type": "stream",
     "text": [
      "[(2, 1), (1, 2), (2, 3), (4, 4), (2, 5)]\n"
     ]
    }
   ],
   "source": [
    "a = [(2, 5), (1, 2), (4, 4), (2, 3), (2, 1)]\n",
    "def last(n):\n",
    "    return n[-1]\n",
    "def sorted_list(tuples):\n",
    "    return sorted(tuples, key = last)\n",
    "print(sorted_list(a))"
   ]
  },
  {
   "cell_type": "code",
   "execution_count": 13,
   "id": "b59598ad",
   "metadata": {},
   "outputs": [
    {
     "name": "stdout",
     "output_type": "stream",
     "text": [
      "(2, 1)\n"
     ]
    }
   ],
   "source": [
    "a = [(2, 5), (1, 2), (4, 4), (2, 3), (2, 1)]\n",
    "def last(n):\n",
    "    return n[-1]\n",
    "print(last(a))"
   ]
  },
  {
   "cell_type": "raw",
   "id": "9fdaa3e3",
   "metadata": {},
   "source": [
    "Write a Python program to sort a given list of non-empty tuples in increasing order by the sum of elements in each tuple.\n",
    "\n",
    "Sample List:\n",
    "\n",
    "[(2, 5), (1, 2), (4, 4), (2, 3), (2, 1)]\n",
    "\n",
    "Expected Result:\n",
    "\n",
    "[(2, 1), (1, 2), (2, 3), (2, 5), (4, 4)]"
   ]
  },
  {
   "cell_type": "code",
   "execution_count": 14,
   "id": "53271835",
   "metadata": {},
   "outputs": [],
   "source": [
    "# Tuple:"
   ]
  },
  {
   "cell_type": "raw",
   "id": "d927852e",
   "metadata": {},
   "source": [
    "Tuple is the collection of hetrogenious object where insertion order is preserved, tuple contains a duplicates values, it is immutable, represented By ()."
   ]
  },
  {
   "cell_type": "code",
   "execution_count": 15,
   "id": "e78b8f00",
   "metadata": {},
   "outputs": [
    {
     "name": "stdout",
     "output_type": "stream",
     "text": [
      "(10, 20, 30, True, 10, 20, 12.05, 'Python', (10+15j), 'ML')\n",
      "<class 'tuple'>\n"
     ]
    }
   ],
   "source": [
    "x=(10,20,30,True,10,20,12.05,\"Python\",10+15j,\"ML\")\n",
    "print(x)\n",
    "print(type(x))"
   ]
  },
  {
   "cell_type": "raw",
   "id": "f21878df",
   "metadata": {},
   "source": [
    "method:\n",
    "    append\n",
    "    insert\n",
    "    pop\n",
    "    split\n",
    "    max\n",
    "    min\n",
    "    len\n",
    "    add\n",
    "    clear\n",
    "    sort\n",
    "    reverse"
   ]
  },
  {
   "cell_type": "raw",
   "id": "460caad2",
   "metadata": {},
   "source": [
    "WAP to create a Tuple with elements and apply Tuple methods?\n",
    "x=(10,20,30,120,150,13.02,1589,1456)"
   ]
  },
  {
   "cell_type": "raw",
   "id": "0d45c636",
   "metadata": {},
   "source": [
    "Write a Python program to get the 4th element from the last element of a tuple.\n",
    "\n",
    "Write a Python program to replace the last value of tuples in a list.\n",
    "Sample list: [(10, 20, 40), (40, 50, 60), (70, 80, 90)]\n",
    "Expected Output: [(10, 20, 100), (40, 50, 100), (70, 80, 100)]\n",
    "\n",
    "\n",
    "Write a Python program to remove an empty tuple(s) from a list of tuples.\n",
    "Sample data: [(), (), ('',), ('a', 'b'), ('a', 'b', 'c'), ('d')]\n",
    "Expected output: [('',), ('a', 'b'), ('a', 'b', 'c'), 'd']"
   ]
  },
  {
   "cell_type": "code",
   "execution_count": 17,
   "id": "34fb0540",
   "metadata": {},
   "outputs": [
    {
     "name": "stdout",
     "output_type": "stream",
     "text": [
      "[('',), ('a', 'b'), ('a', 'b', 'c'), 'd']\n"
     ]
    }
   ],
   "source": [
    "lst = [(), (), ('',), ('a', 'b'), ('a', 'b', 'c'), ('d')]\n",
    "lst = [i for i in lst if i != ()]\n",
    "print(lst)"
   ]
  },
  {
   "cell_type": "code",
   "execution_count": 18,
   "id": "351316f8",
   "metadata": {},
   "outputs": [],
   "source": [
    "# set"
   ]
  },
  {
   "cell_type": "raw",
   "id": "5d18ba01",
   "metadata": {},
   "source": [
    "set is the collection of hetrogenious object where insertion order is not preserved , duplicates are not allowed, it is mutable and represented by {}."
   ]
  },
  {
   "cell_type": "code",
   "execution_count": 19,
   "id": "e79a798d",
   "metadata": {},
   "outputs": [
    {
     "name": "stdout",
     "output_type": "stream",
     "text": [
      "<class 'set'>\n",
      "{True, 10, 12.05, 'ML', 20, (10+15j), 'Python', 30}\n"
     ]
    }
   ],
   "source": [
    "x={10,20,30,True,10,20,12.05,\"Python\",10+15j,\"ML\"}\n",
    "print(type(x))\n",
    "print(x)"
   ]
  },
  {
   "cell_type": "raw",
   "id": "9c027524",
   "metadata": {},
   "source": [
    "WAP to create a set with elements and apply set methods?\n",
    "x={10,20,30,120,150,13.02,1589,1456}\n",
    "Union\n",
    "intersection\n",
    "difference"
   ]
  },
  {
   "cell_type": "raw",
   "id": "8f097cf3",
   "metadata": {},
   "source": [
    "Write a Python program to find all the unique words and count the frequency of occurrence from a given list of strings. Use Python set data type.\n",
    "input list: x=[\"black\",\"green\",\"black\",\"red\",\"red\",\"black\",\"white\",\"yellow\",\"green\",\"white\"]\n",
    "\n",
    "Write a Python program to find the two numbers whose product is maximum among all the pairs in a given list of numbers. Use the Python set.\n",
    "input list:\n",
    "x=[1,2,3,4,5,6,7,8,9]\n",
    "x=[1,2,-1,-2,5,-8,8,10,7,20]\n",
    "\n",
    "Write a Python program to find all the unique combinations of 3 numbers from a given list of numbers, adding up to a target number.\n",
    "input list:\n",
    "x=[1,2,3,4,5,6,7,8,9]"
   ]
  },
  {
   "cell_type": "code",
   "execution_count": 20,
   "id": "b3b0d46e",
   "metadata": {},
   "outputs": [
    {
     "name": "stdout",
     "output_type": "stream",
     "text": [
      "end\n"
     ]
    }
   ],
   "source": [
    "print(\"end\")"
   ]
  },
  {
   "cell_type": "markdown",
   "id": "e866da9a",
   "metadata": {},
   "source": [
    "# Day 06 14-02-2025-EEC"
   ]
  },
  {
   "cell_type": "markdown",
   "id": "5cf292ea",
   "metadata": {},
   "source": [
    "# Class and Object "
   ]
  },
  {
   "cell_type": "raw",
   "id": "2a2c83ef",
   "metadata": {},
   "source": [
    "Python is an object oriented programming language.\n",
    "\n",
    "Almost everything in Python is an object, with its properties and methods.\n",
    "\n",
    "A Class is like an object constructor, or a \"blueprint\" for creating objects."
   ]
  },
  {
   "cell_type": "markdown",
   "id": "69a18d99",
   "metadata": {},
   "source": [
    "# The init Func"
   ]
  },
  {
   "cell_type": "raw",
   "id": "ddee8c6a",
   "metadata": {},
   "source": [
    "The examples above are classes and objects in their simplest form, and are not really useful in real life applications.\n",
    "\n",
    "To understand the meaning of classes we have to understand the built-in __init__() function.\n",
    "\n",
    "All classes have a function called __init__(), which is always executed when the class is being initiated.\n",
    "\n",
    "Use the __init__() function to assign values to object properties, or other operations that are necessary to do when the object is being created:"
   ]
  },
  {
   "cell_type": "markdown",
   "id": "f96b27b1",
   "metadata": {},
   "source": [
    "# Self keyword"
   ]
  },
  {
   "cell_type": "raw",
   "id": "897cf107",
   "metadata": {},
   "source": [
    "The self parameter is a reference to the current instance of the class, and is used to access variables that belongs to the class.\n",
    "\n",
    "It does not have to be named self , you can call it whatever you like, but it has to be the first parameter of any function in the class:"
   ]
  },
  {
   "cell_type": "code",
   "execution_count": 22,
   "id": "db41f3b4",
   "metadata": {},
   "outputs": [],
   "source": [
    "# WAP to create a class with name person and store details of person ?"
   ]
  },
  {
   "cell_type": "code",
   "execution_count": 23,
   "id": "946c2d1c",
   "metadata": {},
   "outputs": [
    {
     "name": "stdout",
     "output_type": "stream",
     "text": [
      "Gaurav\n",
      "29yrs\n",
      "75kg\n",
      "170cm\n"
     ]
    }
   ],
   "source": [
    "class person:# create class with person name\n",
    "    def __init__(self,person_name,person_age,person_weight,person_height):# define constructor and class attributes.\n",
    "        # binding the class attributes with self keyword:\n",
    "        self.person_name=person_name\n",
    "        self.person_age=person_age\n",
    "        self.person_weight=person_weight\n",
    "        self.person_height=person_height\n",
    "        \n",
    "# Create class object.\n",
    "obj=person(\"Gaurav\",\"29yrs\",\"75kg\",\"170cm\")\n",
    "# calling class atrributes with the help of class object\n",
    "print(obj.person_name)\n",
    "print(obj.person_age)\n",
    "print(obj.person_weight)\n",
    "print(obj.person_height)"
   ]
  },
  {
   "cell_type": "code",
   "execution_count": 25,
   "id": "ad5822dc",
   "metadata": {},
   "outputs": [
    {
     "name": "stdout",
     "output_type": "stream",
     "text": [
      "Gaurav\n",
      "29yrs\n",
      "75kg\n",
      "170cm\n"
     ]
    }
   ],
   "source": [
    "class person:# create class with person name\n",
    "    def own_method(self,person_name,person_age,person_weight,person_height):# define constructor and class attributes.\n",
    "        # binding the class attributes with self keyword:\n",
    "        self.person_name=person_name\n",
    "        self.person_age=person_age\n",
    "        self.person_weight=person_weight\n",
    "        self.person_height=person_height\n",
    "        \n",
    "# Create class object.\n",
    "obj=person()\n",
    "obj.own_method(\"Gaurav\",\"29yrs\",\"75kg\",\"170cm\")\n",
    "# calling class atrributes with the help of class object\n",
    "print(obj.person_name)\n",
    "print(obj.person_age)\n",
    "print(obj.person_weight)\n",
    "print(obj.person_height)"
   ]
  },
  {
   "cell_type": "code",
   "execution_count": 26,
   "id": "d78288bb",
   "metadata": {},
   "outputs": [
    {
     "name": "stdout",
     "output_type": "stream",
     "text": [
      "Name: Gaurav , Age: 29yrs , Weight: 75kg , Height: 170cm\n"
     ]
    }
   ],
   "source": [
    "class person:# create class with person name\n",
    "    def __init__(self,person_name,person_age,person_weight,person_height):# define constructor and class attributes.\n",
    "        # binding the class attributes with self keyword:\n",
    "        self.person_name=person_name\n",
    "        self.person_age=person_age\n",
    "        self.person_weight=person_weight\n",
    "        self.person_height=person_height\n",
    "        \n",
    "# Create class object.\n",
    "obj=person(\"Gaurav\",\"29yrs\",\"75kg\",\"170cm\")\n",
    "# calling class atrributes with the help of class object\n",
    "print(\"Name:\",obj.person_name,\",\",\"Age:\",obj.person_age,\",\",\"Weight:\",obj.person_weight,\",\",\"Height:\",obj.person_height)"
   ]
  },
  {
   "cell_type": "code",
   "execution_count": 27,
   "id": "5ea2f4ad",
   "metadata": {},
   "outputs": [],
   "source": [
    "# WAP to sum of two number using class and object?"
   ]
  },
  {
   "cell_type": "raw",
   "id": "3798ab3e",
   "metadata": {},
   "source": [
    "WAP to create class and store students data and caclculte the total marks and set label accordingly, using class and object in python?\n",
    "\n",
    "STD data:\n",
    "    roll_number\n",
    "    std_name\n",
    "    std_age\n",
    "    std_contact_number\n",
    "    number of subject\n",
    "    std_marks per subject\n",
    "    std_knowledge(average, good, excellent)\n",
    "    label set:\n",
    "    below 50 its average\n",
    "    below 70 its good\n",
    "    above 90 its excellent"
   ]
  },
  {
   "cell_type": "code",
   "execution_count": 54,
   "id": "6aba4efc",
   "metadata": {},
   "outputs": [
    {
     "name": "stdout",
     "output_type": "stream",
     "text": [
      "Enter number of students: 5\n",
      "Enter Student Name: rahul\n",
      "Enter % of Marks of Student: 50\n",
      "Enter Student Name: kunal\n",
      "Enter % of Marks of Student: 80\n",
      "Enter Student Name: ruhi\n",
      "Enter % of Marks of Student: 55\n",
      "Enter Student Name: Yogesh\n",
      "Enter % of Marks of Student: 85\n",
      "Enter Student Name: Preeti\n",
      "Enter % of Marks of Student: 90\n",
      "Name of Student \t % of marks\n",
      "\t rahul \t\t 50\n",
      "\t kunal \t\t 80\n",
      "\t ruhi \t\t 55\n",
      "\t Yogesh \t\t 85\n",
      "\t Preeti \t\t 90\n"
     ]
    }
   ],
   "source": [
    "rec={}\n",
    "n=int(input(\"Enter number of students: \"))\n",
    "i=1\n",
    "while i <=n:\n",
    "    name=input(\"Enter Student Name: \")\n",
    "    marks=input(\"Enter % of Marks of Student: \")\n",
    "    rec[name]=marks\n",
    "    i=i+1\n",
    "print(\"Name of Student\",\"\\t\",\"% of marks\")\n",
    "for x in rec:\n",
    "    print(\"\\t\",x,\"\\t\\t\",rec[x])"
   ]
  },
  {
   "cell_type": "code",
   "execution_count": 52,
   "id": "5075638d",
   "metadata": {},
   "outputs": [
    {
     "name": "stdout",
     "output_type": "stream",
     "text": [
      "Enter num1:4\n",
      "Enter num2:3\n",
      "7\n"
     ]
    }
   ],
   "source": [
    "class add_num:\n",
    "    def __init__(self,num1,num2):\n",
    "        self.num1=num1\n",
    "        self.num2= num2\n",
    "        self.num3=num1+num2\n",
    "a = int(input(\"Enter num1:\"))\n",
    "b = int(input(\"Enter num2:\"))\n",
    "obj=add_num(a,b)\n",
    "print(obj.num3)"
   ]
  },
  {
   "cell_type": "code",
   "execution_count": 28,
   "id": "da3b1bfd",
   "metadata": {},
   "outputs": [
    {
     "name": "stdout",
     "output_type": "stream",
     "text": [
      "end\n"
     ]
    }
   ],
   "source": [
    "print(\"end\")"
   ]
  },
  {
   "cell_type": "code",
   "execution_count": 36,
   "id": "b51f23b6",
   "metadata": {},
   "outputs": [],
   "source": [
    "# return"
   ]
  },
  {
   "cell_type": "raw",
   "id": "d57dec44",
   "metadata": {},
   "source": [
    "In Python, return is used in a function to exit the function and send a result or value back to the caller. When the return statement is executed, the function terminates, and the value (if provided) is returned to the code that called the function."
   ]
  },
  {
   "cell_type": "code",
   "execution_count": 37,
   "id": "8a2dad97",
   "metadata": {},
   "outputs": [
    {
     "name": "stdout",
     "output_type": "stream",
     "text": [
      "8\n"
     ]
    }
   ],
   "source": [
    "def add_numbers(a, b):\n",
    "    result = a + b\n",
    "    return result  # Returning the sum of a and b\n",
    "\n",
    "sum_value = add_numbers(3, 5)  # Function call\n",
    "print(sum_value)  # This will print 8\n"
   ]
  },
  {
   "cell_type": "raw",
   "id": "853856f4",
   "metadata": {},
   "source": [
    "Key Points:\n",
    "Exits the function: Once return is executed, the function stops running further code.\n",
    "Returns a value: The value or expression after return gets sent back to the caller.\n",
    "Optional: You can use return with or without a value. If no value is provided, None is returned by default."
   ]
  },
  {
   "cell_type": "code",
   "execution_count": 38,
   "id": "8c287bfe",
   "metadata": {},
   "outputs": [
    {
     "name": "stdout",
     "output_type": "stream",
     "text": [
      "Hello, Alice!\n"
     ]
    }
   ],
   "source": [
    "def greet(name):\n",
    "    print(f\"Hello, {name}!\")\n",
    "    # No return statement here, so it returns None by default.\n",
    "\n",
    "greet(\"Alice\")\n"
   ]
  },
  {
   "cell_type": "raw",
   "id": "47d7b6bc",
   "metadata": {},
   "source": [
    "1. Returning Multiple Values:\n",
    "You can return multiple values from a function by separating them with commas. Python will return these as a tuple."
   ]
  },
  {
   "cell_type": "code",
   "execution_count": 40,
   "id": "63e52c85",
   "metadata": {},
   "outputs": [
    {
     "name": "stdout",
     "output_type": "stream",
     "text": [
      "(40.7128, -74.006)\n"
     ]
    }
   ],
   "source": [
    "def get_coordinates():\n",
    "    latitude = 40.7128\n",
    "    longitude = -74.0060\n",
    "    return latitude, longitude  # Returning multiple values\n",
    "\n",
    "coords = get_coordinates()  # This will return a tuple\n",
    "print(coords)  # Output: (40.7128, -74.0060)\n",
    "\n",
    "\n",
    "#In this case, the function returns two values (latitude and longitude), and they are automatically packed into a tuple."
   ]
  },
  {
   "cell_type": "raw",
   "id": "17b0fa94",
   "metadata": {},
   "source": [
    "2. Returning No Value (Implicit None)\n",
    "If a function doesn't include a return statement, or if the return is used without a value, Python will return None by default."
   ]
  },
  {
   "cell_type": "code",
   "execution_count": 42,
   "id": "dacfa94b",
   "metadata": {},
   "outputs": [
    {
     "name": "stdout",
     "output_type": "stream",
     "text": [
      "Hello!\n",
      "None\n"
     ]
    }
   ],
   "source": [
    "def print_message(message):\n",
    "    print(message)\n",
    "    # No return statement, so None is returned by default\n",
    "\n",
    "result = print_message(\"Hello!\")\n",
    "print(result)  # Output: None\n",
    "\n",
    "# Even though we print the message inside the function, there is no explicit return, so None is returned."
   ]
  },
  {
   "cell_type": "raw",
   "id": "03a37fdd",
   "metadata": {},
   "source": [
    "3. Returning Expressions\n",
    "You can return the result of an expression directly."
   ]
  },
  {
   "cell_type": "code",
   "execution_count": 44,
   "id": "3e0d2521",
   "metadata": {},
   "outputs": [
    {
     "name": "stdout",
     "output_type": "stream",
     "text": [
      "16\n"
     ]
    }
   ],
   "source": [
    "def square(x):\n",
    "    return x ** 2  # Returning the square of x directly\n",
    "\n",
    "result = square(4)\n",
    "print(result)  # Output: 16\n",
    "\n",
    "\n",
    "# Instead of storing the result in a variable and returning it, we directly return the result of the expression x ** 2."
   ]
  },
  {
   "cell_type": "raw",
   "id": "15ba6c98",
   "metadata": {},
   "source": [
    "4. Returning from a Conditional Block\n",
    "You can use return within conditional statements to return different values depending on the conditions."
   ]
  },
  {
   "cell_type": "code",
   "execution_count": 57,
   "id": "f4c57665",
   "metadata": {},
   "outputs": [
    {
     "name": "stdout",
     "output_type": "stream",
     "text": [
      "Positive\n"
     ]
    }
   ],
   "source": [
    "def check_positive(num):\n",
    "    if num > 0:\n",
    "        return \"Positive\"\n",
    "    elif num < 0:\n",
    "        return \"Negative\"\n",
    "    else:\n",
    "        return \"Zero\"\n",
    "\n",
    "result = check_positive(10)\n",
    "print(result)  # Output: Positive\n",
    "\n",
    "# Here, the function checks if a number is positive, negative, or zero and returns the corresponding string."
   ]
  },
  {
   "cell_type": "raw",
   "id": "5011e1cf",
   "metadata": {},
   "source": [
    "5. Returning Early (Exiting the Function Early)\n",
    "You can use return at the beginning of a function to exit early under certain conditions. This can be useful for validation or handling special cases."
   ]
  },
  {
   "cell_type": "code",
   "execution_count": 47,
   "id": "cf3cd85f",
   "metadata": {},
   "outputs": [
    {
     "name": "stdout",
     "output_type": "stream",
     "text": [
      "5.0\n",
      "Error: Division by zero\n"
     ]
    }
   ],
   "source": [
    "def divide(a, b):\n",
    "    if b == 0:\n",
    "        return \"Error: Division by zero\"  # Early return if division by zero\n",
    "    return a / b\n",
    "\n",
    "result = divide(10, 2)\n",
    "print(result)  # Output: 5.0\n",
    "\n",
    "error_result = divide(10, 0)\n",
    "print(error_result)  # Output: Error: Division by zero\n",
    "\n",
    "#In this case, if b is zero, the function returns an error message and exits early, without performing the division."
   ]
  },
  {
   "cell_type": "raw",
   "id": "6699322a",
   "metadata": {},
   "source": [
    "6. Return with a Loop\n",
    "You can also use return inside a loop, which will exit the loop and the function at the same time."
   ]
  },
  {
   "cell_type": "code",
   "execution_count": 48,
   "id": "b700f4a6",
   "metadata": {},
   "outputs": [
    {
     "name": "stdout",
     "output_type": "stream",
     "text": [
      "8\n"
     ]
    }
   ],
   "source": [
    "def find_first_even(numbers):\n",
    "    for num in numbers:\n",
    "        if num % 2 == 0:\n",
    "            return num  # Return the first even number found\n",
    "    return None  # Return None if no even number is found\n",
    "\n",
    "result = find_first_even([1, 3, 5, 8, 10])\n",
    "print(result)  # Output: 8\n",
    "\n",
    "#In this example, the function returns as soon as it finds the first even number. If no even numbers are found, it returns None."
   ]
  },
  {
   "cell_type": "raw",
   "id": "5a7b518a",
   "metadata": {},
   "source": [
    "Summary:\n",
    "-return can return one or more values.\n",
    "-It immediately stops the function and sends back a result.\n",
    "-If no return is present, None is returned.\n",
    "-return is useful for exiting early or when you need to pass data from a --function to the caller."
   ]
  },
  {
   "cell_type": "code",
   "execution_count": 29,
   "id": "9128cc81",
   "metadata": {},
   "outputs": [],
   "source": [
    "# lambda Function"
   ]
  },
  {
   "cell_type": "raw",
   "id": "d696381b",
   "metadata": {},
   "source": [
    "A function without name is called anonymous function.It is used for instant purpose.We can implement anonymous function by using lambda keyword.\n",
    "\n",
    "Syntax\n",
    "lambda arguments:return one value/ expression"
   ]
  },
  {
   "cell_type": "code",
   "execution_count": 30,
   "id": "0fa16013",
   "metadata": {},
   "outputs": [],
   "source": [
    "# WAP to input two numbers & print their sum by using lambda function."
   ]
  },
  {
   "cell_type": "code",
   "execution_count": 32,
   "id": "1006ff70",
   "metadata": {},
   "outputs": [
    {
     "name": "stdout",
     "output_type": "stream",
     "text": [
      "The Sum 30\n"
     ]
    }
   ],
   "source": [
    "s=lambda a,b:(a+b) \n",
    "print('The Sum',s(10,20))"
   ]
  },
  {
   "cell_type": "code",
   "execution_count": 33,
   "id": "6f863ab0",
   "metadata": {},
   "outputs": [
    {
     "name": "stdout",
     "output_type": "stream",
     "text": [
      "The Sub -10\n"
     ]
    }
   ],
   "source": [
    "tiwari=lambda a,b:a-b \n",
    "print('The Sub',tiwari(10,20))"
   ]
  },
  {
   "cell_type": "raw",
   "id": "948b7415",
   "metadata": {},
   "source": [
    "Q- Difference between normal function & anonymous function."
   ]
  },
  {
   "cell_type": "raw",
   "id": "39acda91",
   "metadata": {},
   "source": [
    "Normal function:  \n",
    "define by def keyword.\n",
    "return multiple value. \n",
    "it has some name.\n",
    "\n",
    "Anonymous Function:\n",
    "define by lmbda keyword.\n",
    "return only one value/expression \n",
    "it is nameless"
   ]
  },
  {
   "cell_type": "code",
   "execution_count": 49,
   "id": "a780b561",
   "metadata": {},
   "outputs": [],
   "source": [
    "# W.A.P to input a number a print its factorial? using lambda"
   ]
  },
  {
   "cell_type": "code",
   "execution_count": 55,
   "id": "78a98c9f",
   "metadata": {},
   "outputs": [
    {
     "name": "stdout",
     "output_type": "stream",
     "text": [
      "Enter roll number: 1\n",
      "Enter std name: kunal\n",
      "Enter std age: 21\n",
      "Enter std contact number: 6399657263\n",
      "Enter marks for subject 1: 86\n",
      "Enter marks for subject 2: 87\n",
      "Enter marks for subject 3: 95\n",
      "Enter marks for subject 4: 96\n",
      "Enter marks for subject 5: 98\n",
      "\n",
      "Roll no: 1 \n",
      "Name: kunal \n",
      "Age: 21 \n",
      "Contact no: 6399657263 \n",
      "Label: excellent\n"
     ]
    }
   ],
   "source": [
    "class student:\n",
    "    def __init__(self, roll_number, std_name, std_age, std_contact_number,number_of_subjects,std_marks):\n",
    "        self.roll_number = roll_number\n",
    "        self.std_name = std_name\n",
    "        self.std_age = std_age\n",
    "        self.std_contact_number = std_contact_number\n",
    "        self.number_of_subjects = number_of_subjects\n",
    "        self.std_marks = std_marks\n",
    "    def calculate_total_marks(self):\n",
    "        total = 0\n",
    "        for i in self.std_marks:\n",
    "            total += i\n",
    "        result = total/5\n",
    "        return result\n",
    "    def set_label(self):\n",
    "        result = self.calculate_total_marks()\n",
    "        if result < 50:\n",
    "            return \"average\"\n",
    "        elif result >50 and result < 70:\n",
    "            return \"good\"\n",
    "        elif result > 70 and result < 100:\n",
    "            return \"excellent\"\n",
    "        \n",
    "roll_number = int(input(\"Enter roll number: \"))\n",
    "std_name = input(\"Enter std name: \")\n",
    "std_age = int(input(\"Enter std age: \"))\n",
    "std_contact_number = int(input(\"Enter std contact number: \"))\n",
    "number_of_subjects = 5\n",
    "std_marks = []\n",
    "for i in range(number_of_subjects):\n",
    "    std_marks.append(int(input(f\"Enter marks for subject {i+1}: \")))\n",
    "\n",
    "obj = student(roll_number, std_name, std_age, std_contact_number, number_of_subjects, std_marks)\n",
    "\n",
    "\n",
    "print(\"\\nRoll no:\", obj.roll_number, \"\\nName:\" , obj.std_name, \"\\nAge:\", obj.std_age, \n",
    "      \"\\nContact no:\", obj.std_contact_number, \"\\nLabel:\", obj.set_label())"
   ]
  },
  {
   "cell_type": "code",
   "execution_count": 58,
   "id": "7685a1f2",
   "metadata": {},
   "outputs": [
    {
     "name": "stdout",
     "output_type": "stream",
     "text": [
      "end\n"
     ]
    }
   ],
   "source": [
    "print(\"end\")"
   ]
  },
  {
   "cell_type": "markdown",
   "id": "bdccff61",
   "metadata": {},
   "source": [
    "# Date: 15-02-2025: EEC Day 07"
   ]
  },
  {
   "cell_type": "raw",
   "id": "e2dd73d6",
   "metadata": {},
   "source": [
    " Today Agenda:\n",
    "    File handling, Exception Handling, Inheritance, polymorphism"
   ]
  },
  {
   "cell_type": "code",
   "execution_count": 60,
   "id": "8a3cc9d4",
   "metadata": {},
   "outputs": [
    {
     "name": "stdout",
     "output_type": "stream",
     "text": [
      "_------------------Start----------------------_\n"
     ]
    }
   ],
   "source": [
    "print(\"_------------------Start----------------------_\")"
   ]
  },
  {
   "cell_type": "code",
   "execution_count": 61,
   "id": "0ba2ee50",
   "metadata": {},
   "outputs": [],
   "source": [
    "# what is inheritance and types of inheritance"
   ]
  },
  {
   "cell_type": "code",
   "execution_count": null,
   "id": "41145e85",
   "metadata": {},
   "outputs": [],
   "source": [
    "# What is polymorphism and types of polymorphism?    "
   ]
  },
  {
   "cell_type": "markdown",
   "id": "3dc11085",
   "metadata": {},
   "source": [
    "# Date: 17-02-2025: EEC Day 08"
   ]
  },
  {
   "cell_type": "raw",
   "id": "ebf1f586",
   "metadata": {},
   "source": [
    "Today Agenda\n",
    "Numpy\n",
    "Pandas"
   ]
  },
  {
   "cell_type": "raw",
   "id": "5d2fba76",
   "metadata": {},
   "source": [
    "What is Data Science?\n",
    "What is data anlytics?  \n",
    "What is Data? Types of Data?\n"
   ]
  },
  {
   "cell_type": "raw",
   "id": "cd1f3aa0",
   "metadata": {},
   "source": [
    "Write a NumPy program to convert a list of numeric values into a one-dimensional NumPy array.\n",
    "\n",
    "Expected Output:\n",
    "\n",
    "Original List: [12.23, 13.32, 100, 36.32]\n",
    "One-dimensional NumPy array: [ 12.23 13.32 100. 36.32]\n",
    "\n",
    "\n",
    "Write a NumPy program to create a 3x3 matrix with values ranging from 2 to 10.\n",
    "\n",
    "Expected Output:\n",
    "\n",
    "[[ 2 3 4]\n",
    "[ 5 6 7]\n",
    "[ 8 9 10]]\n",
    "\n",
    "\n",
    "Write a NumPy program to create a null vector of size 10 and update the sixth value to 11.\n",
    "\n",
    "[ 0. 0. 0. 0. 0. 0. 0. 0. 0. 0.]\n",
    "\n",
    "Update sixth value to 11\n",
    "[ 0. 0. 0. 0. 0. 0. 11. 0. 0. 0.]\n",
    "\n",
    "\n",
    "Write a NumPy program to reverse an array (the first element becomes the last).\n",
    "\n",
    "Original array:\n",
    "[12 13 14 15 16 17 18 19 20 21 22 23 24 25 26 27 28 29 30 31 32 33 34 35 36 37]\n",
    "Reverse array:\n",
    "[37 36 35 34 33 32 31 30 29 28 27 26 25 24 23 22 21 20 19 18 17 16 15 14 13 12]\n",
    "\n",
    "\n",
    "Write a NumPy program to convert an array to a floating type.\n",
    "\n",
    "Sample output:\n",
    "\n",
    "Original array\n",
    "[1, 2, 3, 4]\n",
    "\n",
    "Array converted to a float type:\n",
    "[ 1. 2. 3. 4.]\n",
    "\n",
    "\n",
    "Write a NumPy program to create a 2D array with 1 on the border and 0 inside.\n",
    "\n",
    "Expected Output:\n",
    "\n",
    "Original array:\n",
    "[[ 1. 1. 1. 1. 1.]\n",
    "...................\n",
    "[ 1. 1. 1. 1. 1.]]\n",
    "\n",
    "1 on the border and 0 inside in the array\n",
    "[[ 1. 1. 1. 1. 1.]\n",
    "...................\n",
    "[ 1. 1. 1. 1. 1.]]\n",
    "\n",
    "\n",
    "Write a NumPy program to add a border (filled with 0's) around an existing array.\n",
    "\n",
    "Expected Output:\n",
    "\n",
    "Original array:\n",
    "[[ 1. 1. 1.]\n",
    "[ 1. 1. 1.]\n",
    "[ 1. 1. 1.]]\n",
    "\n",
    "1 on the border and 0 inside in the array\n",
    "[[ 0. 0. 0. 0. 0.]\n",
    "...........\n",
    "[ 0. 0. 0. 0. 0.]]"
   ]
  },
  {
   "cell_type": "code",
   "execution_count": 66,
   "id": "f6d773d2",
   "metadata": {},
   "outputs": [
    {
     "name": "stdout",
     "output_type": "stream",
     "text": [
      "[1, 3, 5, 7, 9]\n"
     ]
    }
   ],
   "source": [
    "x=[1,2,3,4,5,6,7,8,9,10]\n",
    "print(x[::2])"
   ]
  },
  {
   "cell_type": "code",
   "execution_count": 67,
   "id": "dc33c06b",
   "metadata": {},
   "outputs": [
    {
     "name": "stdout",
     "output_type": "stream",
     "text": [
      "YTHON\n"
     ]
    }
   ],
   "source": [
    "x=\"PYTHON\"\n",
    "print(x[1:6:1])"
   ]
  },
  {
   "cell_type": "code",
   "execution_count": 68,
   "id": "f3ff060c",
   "metadata": {},
   "outputs": [
    {
     "name": "stdout",
     "output_type": "stream",
     "text": [
      "[2, 4, 6, 8]\n"
     ]
    }
   ],
   "source": [
    "x=[1,2,3,4,5,6,7,8,9,10]\n",
    "print(x[1:8:2])"
   ]
  },
  {
   "cell_type": "code",
   "execution_count": 69,
   "id": "c2648ddf",
   "metadata": {},
   "outputs": [
    {
     "name": "stdout",
     "output_type": "stream",
     "text": [
      "[4, 6, 8, 10]\n"
     ]
    }
   ],
   "source": [
    "x=[1,2,3,4,5,6,7,8,9,10]\n",
    "print(x[3::2])"
   ]
  },
  {
   "cell_type": "code",
   "execution_count": 70,
   "id": "8ca7e7e2",
   "metadata": {},
   "outputs": [
    {
     "name": "stdout",
     "output_type": "stream",
     "text": [
      "HN\n"
     ]
    }
   ],
   "source": [
    "x=\"PYTHON\"\n",
    "print(x[3::2])"
   ]
  },
  {
   "cell_type": "code",
   "execution_count": 71,
   "id": "3352cd35",
   "metadata": {},
   "outputs": [
    {
     "name": "stdout",
     "output_type": "stream",
     "text": [
      "Y\n"
     ]
    }
   ],
   "source": [
    "x=\"PYTHON\"\n",
    "print(x[1::-2])"
   ]
  },
  {
   "cell_type": "markdown",
   "id": "5721b8be",
   "metadata": {},
   "source": [
    "# Date: 18-02-2025: EEC Day 09"
   ]
  },
  {
   "cell_type": "raw",
   "id": "89ce38ce",
   "metadata": {},
   "source": [
    "Topics: \n",
    "    Numpy\n",
    "    Pandas"
   ]
  },
  {
   "cell_type": "raw",
   "id": "8c5745b3",
   "metadata": {},
   "source": [
    "  1- Write a NumPy program to convert a list and tuple into arrays.\n",
    "List to array:\n",
    "[1 2 3 4 5 6 7 8]\n",
    "Tuple to array:\n",
    "[[8 4 6]\n",
    "[1 2 3]]\n",
    "\n",
    "2- Write a NumPy program to create an empty and full array.\n",
    "Expected Output:\n",
    "\n",
    "[ 6.93270651e-310 1.59262180e-316 6.93270559e-310 6.93270665e-310]\n",
    "[ 6.93270667e-310 6.93270671e-310 6.93270668e-310 6.93270483e-310]\n",
    "[ 6.93270668e-310 6.93270671e-310 6.93270370e-310 6.93270488e-310]]\n",
    "[[6 6 6]\n",
    "[6 6 6]\n",
    "[6 6 6]]\n",
    "\n",
    "\n",
    "3- Write a NumPy program to find the real and imaginary parts of an array of complex numbers.\n",
    "Expected Output:\n",
    "Original array [ 1.00000000+0.j 0.70710678+0.70710678j]\n",
    "Real part of the array:\n",
    "[ 1. 0.70710678]\n",
    "Imaginary part of the array:\n",
    "[ 0. 0.70710678]\n",
    "\n",
    "4- Write a NumPy program to find the number of elements in an array. It also finds the length of one array element in bytes and the total bytes consumed by the elements.\n",
    "Expected Output:\n",
    "Size of the array: 3\n",
    "Length of one array element in bytes: 8\n",
    "Total bytes consumed by the elements of the array: 24\n",
    "    \n",
    "\n",
    "5- Write a NumPy program to test whether each element of a 1-D array is also present in a second array.\n",
    "Expected Output:\n",
    "Array1: [ 0 10 20 40 60]\n",
    "Array2: [0, 40]\n",
    "Compare each element of array1 and array2\n",
    "[ True False False True False]\n",
    "\n",
    "6- Write a NumPy program to find common values between two arrays.\n",
    "Expected Output:\n",
    "Array1: [ 0 10 20 40 60]\n",
    "Array2: [10, 30, 40]\n",
    "Common values between two arrays:\n",
    "[10 40]\n",
    "\n",
    "7- Write a NumPy program to get the unique elements of an array.\n",
    "Expected Output:\n",
    "Original array:\n",
    "[10 10 20 20 30 30]\n",
    "Unique elements of the above array:\n",
    "[10 20 30]\n",
    "Original array:\n",
    "[[1 1]\n",
    "[2 3]]  \n",
    "Unique elements of the above array:\n",
    "[1 2 3]"
   ]
  },
  {
   "cell_type": "code",
   "execution_count": null,
   "id": "724df271",
   "metadata": {},
   "outputs": [],
   "source": []
  },
  {
   "cell_type": "code",
   "execution_count": 72,
   "id": "3d41a054",
   "metadata": {},
   "outputs": [
    {
     "name": "stdout",
     "output_type": "stream",
     "text": [
      "----Start----\n"
     ]
    }
   ],
   "source": [
    "print(\"----Start----\")"
   ]
  },
  {
   "cell_type": "code",
   "execution_count": 75,
   "id": "b1bd50dc",
   "metadata": {},
   "outputs": [
    {
     "name": "stdout",
     "output_type": "stream",
     "text": [
      "[1.+0.j]\n",
      "[0.70710678+0.70710678j]\n",
      "[1.] this is a real value\n",
      "[0.70710678] this is a imagenary value\n"
     ]
    }
   ],
   "source": [
    "import numpy as np\n",
    "x = np.sqrt([1+ 0j])\n",
    "y = np.sqrt([0+ 1j])\n",
    "print(x)\n",
    "print(y)\n",
    "\n",
    "print(np.real(x), \"this is a real value\")\n",
    "print(np.imag(y), \"this is a imagenary value\")\n"
   ]
  },
  {
   "cell_type": "code",
   "execution_count": 78,
   "id": "6ef09f7d",
   "metadata": {},
   "outputs": [
    {
     "name": "stdout",
     "output_type": "stream",
     "text": [
      "[1.         0.70710678] is is a real value\n",
      "[0.         0.70710678] is is a imagenary value\n"
     ]
    }
   ],
   "source": [
    "import numpy as np\n",
    "x = [ 1.00000000+0.j,0.70710678+0.70710678j]\n",
    "arr = np.array(x)\n",
    "print(np.real(arr),\"is is a real value\")\n",
    "print(np.imag(arr),\"is is a imagenary value\")"
   ]
  },
  {
   "cell_type": "raw",
   "id": "a09c7046",
   "metadata": {},
   "source": [
    "Write a Pandas program to create and display a DataFrame from a specified dictionary data which has the index labels.\n",
    "Sample Python dictionary data and list labels:\n",
    "exam_data = {'name': ['Anastasia', 'Dima', 'Katherine', 'James', 'Emily', 'Michael', 'Matthew', 'Laura', 'Kevin', 'Jonas'],\n",
    "'score': [12.5, 9, 16.5, np.nan, 9, 20, 14.5, np.nan, 8, 19],\n",
    "'attempts': [1, 3, 2, 3, 2, 3, 1, 1, 2, 1],\n",
    "'qualify': ['yes', 'no', 'yes', 'no', 'no', 'yes', 'yes', 'no', 'no', 'yes']}\n",
    "labels = ['a', 'b', 'c', 'd', 'e', 'f', 'g', 'h', 'i', 'j']\n",
    "\n",
    "\n",
    "Write a Pandas program to get the first 3 rows of a given DataFrame.\n",
    "Sample Python dictionary data and list labels:\n",
    "exam_data = {'name': ['Anastasia', 'Dima', 'Katherine', 'James', 'Emily', 'Michael', 'Matthew', 'Laura', 'Kevin', 'Jonas'],\n",
    "'score': [12.5, 9, 16.5, np.nan, 9, 20, 14.5, np.nan, 8, 19],\n",
    "'attempts': [1, 3, 2, 3, 2, 3, 1, 1, 2, 1],\n",
    "'qualify': ['yes', 'no', 'yes', 'no', 'no', 'yes', 'yes', 'no', 'no', 'yes']}\n",
    "labels = ['a', 'b', 'c', 'd', 'e', 'f', 'g', 'h', 'i', 'j']\n",
    "\n",
    "\n",
    "Write a Pandas program to select the 'name' and 'score' columns from the following DataFrame.\n",
    "Sample Python dictionary data and list labels:\n",
    "exam_data = {'name': ['Anastasia', 'Dima', 'Katherine', 'James', 'Emily', 'Michael', 'Matthew', 'Laura', 'Kevin', 'Jonas'],\n",
    "'score': [12.5, 9, 16.5, np.nan, 9, 20, 14.5, np.nan, 8, 19],\n",
    "'attempts': [1, 3, 2, 3, 2, 3, 1, 1, 2, 1],\n",
    "'qualify': ['yes', 'no', 'yes', 'no', 'no', 'yes', 'yes', 'no', 'no', 'yes']}\n",
    "labels = ['a', 'b', 'c', 'd', 'e', 'f', 'g', 'h', 'i', 'j']\n",
    "\n",
    "\n",
    "\n",
    "\n",
    "\n",
    "Write a Pandas program to select the rows where the number of attempts in the examination is greater than 2.\n",
    "Sample Python dictionary data and list labels:\n",
    "exam_data = {'name': ['Anastasia', 'Dima', 'Katherine', 'James', 'Emily', 'Michael', 'Matthew', 'Laura', 'Kevin', 'Jonas'],\n",
    "'score': [12.5, 9, 16.5, np.nan, 9, 20, 14.5, np.nan, 8, 19],\n",
    "'attempts': [1, 3, 2, 3, 2, 3, 1, 1, 2, 1],\n",
    "'qualify': ['yes', 'no', 'yes', 'no', 'no', 'yes', 'yes', 'no', 'no', 'yes']}\n",
    "labels = ['a', 'b', 'c', 'd', 'e', 'f', 'g', 'h', 'i', 'j']"
   ]
  },
  {
   "cell_type": "markdown",
   "id": "f3b7caeb",
   "metadata": {},
   "source": [
    "# Date: 20-02-2025: EEC Day 11"
   ]
  },
  {
   "cell_type": "raw",
   "id": "aec6d383",
   "metadata": {},
   "source": [
    "Agenda : Matplotlib, and practice on numpy or pandas"
   ]
  },
  {
   "cell_type": "code",
   "execution_count": 1,
   "id": "d7907dc6",
   "metadata": {},
   "outputs": [],
   "source": [
    "# Matplotlib"
   ]
  },
  {
   "cell_type": "markdown",
   "id": "ff452c23",
   "metadata": {},
   "source": [
    "# Date: 28-02-2025: EEC Day 17"
   ]
  },
  {
   "cell_type": "markdown",
   "id": "982af9db",
   "metadata": {},
   "source": [
    "# Frozen set"
   ]
  },
  {
   "cell_type": "raw",
   "id": "57d9a43d",
   "metadata": {},
   "source": [
    "A frozenset in Python is an immutable version of a set. Unlike a regular set, a frozenset cannot be modified after its creation, meaning you cannot add or remove elements. However, it supports set operations like union, intersection, and difference."
   ]
  },
  {
   "cell_type": "code",
   "execution_count": 1,
   "id": "9e6ae190",
   "metadata": {},
   "outputs": [
    {
     "name": "stdout",
     "output_type": "stream",
     "text": [
      "frozenset({1, 2, 3, 4, 5})\n"
     ]
    }
   ],
   "source": [
    "# Creating a frozenset\n",
    "fs = frozenset([1, 2, 3, 4, 5])\n",
    "print(fs)  # Output: frozenset({1, 2, 3, 4, 5})\n",
    "  "
   ]
  },
  {
   "cell_type": "markdown",
   "id": "198b7ed8",
   "metadata": {},
   "source": [
    "# Key Characteristics of frozenset"
   ]
  },
  {
   "cell_type": "raw",
   "id": "f2029688",
   "metadata": {},
   "source": [
    "Immutable: Elements cannot be added or removed after creation.\n",
    "Hashable: Can be used as dictionary keys or stored in another set.\n",
    "Supports Set Operations: Can perform operations like union, intersection, and difference."
   ]
  },
  {
   "cell_type": "code",
   "execution_count": 2,
   "id": "2fe9391e",
   "metadata": {},
   "outputs": [
    {
     "name": "stdout",
     "output_type": "stream",
     "text": [
      "frozenset({1, 2, 3, 4, 5, 6})\n",
      "frozenset({3, 4})\n",
      "frozenset({1, 2})\n",
      "frozenset({1, 2, 5, 6})\n"
     ]
    }
   ],
   "source": [
    "fs1 = frozenset([1, 2, 3, 4])\n",
    "fs2 = frozenset([3, 4, 5, 6])\n",
    "\n",
    "# Union\n",
    "print(fs1 | fs2)  # frozenset({1, 2, 3, 4, 5, 6})\n",
    "\n",
    "# Intersection\n",
    "print(fs1 & fs2)  # frozenset({3, 4})\n",
    "\n",
    "# Difference\n",
    "print(fs1 - fs2)  # frozenset({1, 2})\n",
    "\n",
    "# Symmetric Difference\n",
    "print(fs1 ^ fs2)  # frozenset({1, 2, 5, 6})\n"
   ]
  },
  {
   "cell_type": "markdown",
   "id": "4331429f",
   "metadata": {},
   "source": [
    "# Using frozenset as a dictionary key"
   ]
  },
  {
   "cell_type": "code",
   "execution_count": 3,
   "id": "b38a8078",
   "metadata": {},
   "outputs": [],
   "source": [
    "# Since frozensets are hashable, they can be used as dictionary keys:"
   ]
  },
  {
   "cell_type": "code",
   "execution_count": 4,
   "id": "9950a799",
   "metadata": {},
   "outputs": [
    {
     "name": "stdout",
     "output_type": "stream",
     "text": [
      "Frozen Set Example\n"
     ]
    }
   ],
   "source": [
    "my_dict = {frozenset([1, 2, 3]): \"Frozen Set Example\"}\n",
    "print(my_dict[frozenset([1, 2, 3])])  # Output: Frozen Set Example\n"
   ]
  },
  {
   "cell_type": "markdown",
   "id": "ec1846a0",
   "metadata": {},
   "source": [
    "# Why Use frozenset?"
   ]
  },
  {
   "cell_type": "raw",
   "id": "3bfc9958",
   "metadata": {},
   "source": [
    "Ensures data integrity by preventing accidental modifications.\n",
    "Can be used as dictionary keys (unlike normal sets).\n",
    "Can be stored inside other sets, unlike mutable sets.  "
   ]
  },
  {
   "cell_type": "markdown",
   "id": "8791e2f2",
   "metadata": {},
   "source": [
    "# Types of Collections"
   ]
  },
  {
   "cell_type": "raw",
   "id": "c75c50f4",
   "metadata": {},
   "source": [
    "Python provides several built-in collection types for storing and managing data efficiently. The main collection types are:\n",
    "List\n",
    "Tuple\n",
    "Set\n",
    "Dictionary\n",
    "FrozenSet"
   ]
  },
  {
   "cell_type": "markdown",
   "id": "aa519631",
   "metadata": {},
   "source": [
    "# Specialized Collections (from collections module)"
   ]
  },
  {
   "cell_type": "raw",
   "id": "588a25bd",
   "metadata": {},
   "source": [
    "1- Named Tuple (collections.namedtuple)\n",
    "\n",
    "A lightweight alternative to a class.\n",
    "Creates immutable, readable tuple-like objects with named fields."
   ]
  },
  {
   "cell_type": "code",
   "execution_count": 6,
   "id": "05cc9e58",
   "metadata": {},
   "outputs": [
    {
     "name": "stdout",
     "output_type": "stream",
     "text": [
      "John 30\n"
     ]
    }
   ],
   "source": [
    "from collections import namedtuple\n",
    "\n",
    "Person = namedtuple('Person', ['name', 'age'])\n",
    "p = Person(\"John\", 30)\n",
    "print(p.name, p.age)  # Output: John 30\n"
   ]
  },
  {
   "cell_type": "markdown",
   "id": "52f0a435",
   "metadata": {},
   "source": [
    "# Storing Employee Records"
   ]
  },
  {
   "cell_type": "code",
   "execution_count": 13,
   "id": "460d5f5a",
   "metadata": {},
   "outputs": [
    {
     "name": "stdout",
     "output_type": "stream",
     "text": [
      "Rahul\n",
      "IT\n",
      "70000\n",
      "{'name': 'Rahul', 'age': 30, 'department': 'HR', 'salary': 50000}\n",
      "Employee(name='Rahul', age=30, department='HR', salary=55000)\n"
     ]
    }
   ],
   "source": [
    "from collections import namedtuple\n",
    "\n",
    "# Define a namedtuple called 'Employee' with fields: name, age, department, salary\n",
    "Employee = namedtuple('Employee', ['name', 'age', 'department', 'salary'])\n",
    "\n",
    "# Creating employee records\n",
    "emp1 = Employee(\"Rahul\", 30, \"HR\", 50000)\n",
    "emp2 = Employee(\"Satyam\", 28, \"IT\", 60000)\n",
    "emp3 = Employee(\"Nisha\", 35, \"Finance\", 70000)\n",
    "\n",
    "# Accessing fields\n",
    "print(emp1.name)       # Rahul\n",
    "print(emp2.department) # Output: IT\n",
    "print(emp3.salary)     # Output: 70000\n",
    "\n",
    "# Using _asdict() to convert to dictionary\n",
    "print(emp1._asdict())  \n",
    "\n",
    "\n",
    "# Updating values using _replace()\n",
    "emp1_updated = emp1._replace(salary=55000)\n",
    "print(emp1_updated)  \n",
    "\n"
   ]
  },
  {
   "cell_type": "raw",
   "id": "60d289ec",
   "metadata": {},
   "source": [
    "2- Default Dictionary (collections.defaultdict)\n",
    "Like a dictionary but assigns a default value if a key does not exist."
   ]
  },
  {
   "cell_type": "code",
   "execution_count": 18,
   "id": "a04a40b0",
   "metadata": {},
   "outputs": [
    {
     "name": "stdout",
     "output_type": "stream",
     "text": [
      "2\n",
      "0\n",
      "0\n"
     ]
    }
   ],
   "source": [
    "from collections import defaultdict\n",
    "\n",
    "dd = defaultdict(int)\n",
    "dd[\"apple\"] += 2  # Default value of 0 is used\n",
    "print(dd[\"apple\"])  # Output: 1\n",
    "print(dd[\"banana\"])\n",
    "print(dd[\"fruits\"])# Output: 0 (default value)"
   ]
  },
  {
   "cell_type": "markdown",
   "id": "2f76ed6c",
   "metadata": {},
   "source": [
    "# Counting Word Occurrences in a Sentence"
   ]
  },
  {
   "cell_type": "code",
   "execution_count": 14,
   "id": "ce8d6f4b",
   "metadata": {},
   "outputs": [
    {
     "name": "stdout",
     "output_type": "stream",
     "text": [
      "{'apple': 3, 'banana': 2, 'orange': 2, 'mango': 1}\n"
     ]
    }
   ],
   "source": [
    "from collections import defaultdict\n",
    "\n",
    "# Create a defaultdict where the default value type is int\n",
    "word_count = defaultdict(int)\n",
    "\n",
    "# Sample sentence\n",
    "sentence = \"apple banana apple orange banana apple mango orange\"\n",
    "\n",
    "# Split sentence into words and count occurrences\n",
    "for word in sentence.split():\n",
    "    word_count[word] += 1  # No need to check if key exists!\n",
    "\n",
    "# Print the word count dictionary\n",
    "print(dict(word_count))  \n",
    "# Output: {'apple': 3, 'banana': 2, 'orange': 2, 'mango': 1}\n"
   ]
  },
  {
   "cell_type": "raw",
   "id": "a44158d6",
   "metadata": {},
   "source": [
    "3- Ordered Dictionary (collections.OrderedDict)\n",
    "A dictionary that remembers the order in which items were inserted."
   ]
  },
  {
   "cell_type": "code",
   "execution_count": 8,
   "id": "3a42d40a",
   "metadata": {},
   "outputs": [
    {
     "name": "stdout",
     "output_type": "stream",
     "text": [
      "OrderedDict([('a', 1), ('b', 2), ('c', 3)])\n"
     ]
    }
   ],
   "source": [
    "from collections import OrderedDict\n",
    "\n",
    "od = OrderedDict()\n",
    "od[\"a\"] = 1\n",
    "od[\"b\"] = 2\n",
    "od[\"c\"] = 3\n",
    "print(od)  # Output: OrderedDict([('a', 1), ('b', 2), ('c', 3)])\n"
   ]
  },
  {
   "cell_type": "markdown",
   "id": "6dca8424",
   "metadata": {},
   "source": [
    "# Maintaining Insertion Order in a Dictionary"
   ]
  },
  {
   "cell_type": "code",
   "execution_count": 16,
   "id": "1c4ae30c",
   "metadata": {},
   "outputs": [
    {
     "name": "stdout",
     "output_type": "stream",
     "text": [
      "OrderedDict([('banana', 3), ('apple', 5), ('orange', 2)])\n",
      "5\n",
      "OrderedDict([('apple', 5), ('orange', 2), ('banana', 3)])\n",
      "OrderedDict([('orange', 2), ('apple', 5), ('banana', 3)])\n"
     ]
    }
   ],
   "source": [
    "from collections import OrderedDict\n",
    "\n",
    "# Creating an OrderedDict\n",
    "ordered_dict = OrderedDict()\n",
    "ordered_dict[\"banana\"] = 3\n",
    "ordered_dict[\"apple\"] = 5\n",
    "ordered_dict[\"orange\"] = 2\n",
    "\n",
    "# Printing the dictionary (insertion order is preserved)\n",
    "print(ordered_dict)\n",
    "# Output: OrderedDict([('banana', 3), ('apple', 5), ('orange', 2)])\n",
    "\n",
    "# Accessing elements\n",
    "print(ordered_dict[\"apple\"])  # Output: 5\n",
    "\n",
    "# Moving an item to the end\n",
    "ordered_dict.move_to_end(\"banana\")\n",
    "print(ordered_dict)\n",
    "# Output: OrderedDict([('apple', 5), ('orange', 2), ('banana', 3)])\n",
    "\n",
    "# Moving an item to the beginning\n",
    "ordered_dict.move_to_end(\"orange\", last=False)\n",
    "print(ordered_dict)\n",
    "# Output: OrderedDict([('orange', 2), ('apple', 5), ('banana', 3)])\n"
   ]
  },
  {
   "cell_type": "raw",
   "id": "7b523f5c",
   "metadata": {},
   "source": [
    "4- Counter (collections.Counter)\n",
    "A dictionary subclass for counting hashable objects."
   ]
  },
  {
   "cell_type": "code",
   "execution_count": 9,
   "id": "2ef20294",
   "metadata": {},
   "outputs": [
    {
     "name": "stdout",
     "output_type": "stream",
     "text": [
      "Counter({'a': 3, 'n': 2, 'b': 1})\n"
     ]
    }
   ],
   "source": [
    "from collections import Counter\n",
    "\n",
    "counter = Counter(\"banana\")\n",
    "print(counter)  # Output: Counter({'a': 3, 'n': 2, 'b': 1})\n"
   ]
  },
  {
   "cell_type": "raw",
   "id": "859223eb",
   "metadata": {},
   "source": [
    "5- Deque (collections.deque)\n",
    "A double-ended queue for fast appends/pops from both ends."
   ]
  },
  {
   "cell_type": "code",
   "execution_count": 10,
   "id": "4ae5c3f5",
   "metadata": {},
   "outputs": [
    {
     "name": "stdout",
     "output_type": "stream",
     "text": [
      "deque([0, 1, 2, 3, 4])\n"
     ]
    }
   ],
   "source": [
    "from collections import deque\n",
    "\n",
    "dq = deque([1, 2, 3])\n",
    "dq.append(4)      # Add to the right\n",
    "dq.appendleft(0)  # Add to the left\n",
    "print(dq)         # Output: deque([0, 1, 2, 3, 4])\n",
    "\n"
   ]
  },
  {
   "cell_type": "raw",
   "id": "aefff3b3",
   "metadata": {},
   "source": [
    "     Write a  Python program to draw a line with suitable label in the x axis, y axis and a title.\n",
    "\n",
    "Write a Python program to draw a line using given axis values with suitable label in the x axis , y axis and a title.\n",
    "\n",
    "\n",
    "Write a Python program to draw a line using given axis values taken from a text file, with suitable label in the x axis, y axis and a title.\n",
    "Test Data:\n",
    "test.txt\n",
    "1 2\n",
    "2 4\n",
    "3 1\n",
    "\n",
    "\n",
    "Write a Python program to draw line charts of the financial data of Alphabet Inc. between October 3, 2016 to October 7, 2016.\n",
    "Sample Financial data (fdata.csv):\n",
    "Date,Open,High,Low,Close\n",
    "10-03-16,774.25,776.065002,769.5,772.559998\n",
    "10-04-16,776.030029,778.710022,772.890015,776.429993\n",
    "10-05-16,779.309998,782.070007,775.650024,776.469971\n",
    "10-06-16,779,780.47998,775.539978,776.859985\n",
    "10-07-16,779.659973,779.659973,770.75,775.080017\n",
    "\n",
    "\n",
    "Write a Python program to plot two or more lines on same plot with suitable legends of each line."
   ]
  }
 ],
 "metadata": {
  "kernelspec": {
   "display_name": "Python 3 (ipykernel)",
   "language": "python",
   "name": "python3"
  },
  "language_info": {
   "codemirror_mode": {
    "name": "ipython",
    "version": 3
   },
   "file_extension": ".py",
   "mimetype": "text/x-python",
   "name": "python",
   "nbconvert_exporter": "python",
   "pygments_lexer": "ipython3",
   "version": "3.9.7"
  }
 },
 "nbformat": 4,
 "nbformat_minor": 5
}
