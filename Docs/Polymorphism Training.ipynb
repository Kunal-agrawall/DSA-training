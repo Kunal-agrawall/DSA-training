{
 "cells": [
  {
   "cell_type": "markdown",
   "id": "8e23c855",
   "metadata": {},
   "source": [
    "# Polymorphism"
   ]
  },
  {
   "cell_type": "raw",
   "id": "74bcdace",
   "metadata": {},
   "source": [
    "Polymorphism means multiple forms. In python we can find the same operator or function taking multiple forms. It also useful in creating different classes which will have class methods with same name. That helps in re using a lot of code and decreases code complexity. Polymorphism is also linked to inheritance."
   ]
  },
  {
   "cell_type": "code",
   "execution_count": 9,
   "id": "c4b6e6bb",
   "metadata": {},
   "outputs": [
    {
     "name": "stdout",
     "output_type": "stream",
     "text": [
      "Father Name: xyz is\n",
      "Age: 1\n",
      "Daughter name: abc is\n",
      "Age: 2\n",
      "Son Name: poi is\n",
      "Age: 3\n"
     ]
    }
   ],
   "source": [
    "class father:\n",
    "    def __init__(self,first_name,last_name,age):\n",
    "        self.first_name=first_name\n",
    "        self.last_name=last_name\n",
    "        self.age=age\n",
    "    def say_name(self):\n",
    "        print(\"Father Name:\",self.first_name+\" \"+self.last_name)\n",
    "    def say_age(self):\n",
    "        print(\"Age:\",str(self.age))\n",
    "        \n",
    "class daughter(father):\n",
    "    def say_name(self):\n",
    "        print(\"Daughter name:\",self.first_name+\" \"+self.last_name)\n",
    "class Son(father):\n",
    "    def say_name(self):\n",
    "        print(\"Son Name:\",self.first_name+\" \"+self.last_name)\n",
    "        \n",
    "obj=father(\"xyz\",\"is\",\"1\")\n",
    "obj1=daughter(\"abc\",\"is\",\"2\")\n",
    "obj2=Son(\"poi\",\"is\",\"3\")\n",
    "obj.say_name()\n",
    "obj.say_age()\n",
    "obj1.say_name()\n",
    "obj1.say_age()\n",
    "obj2.say_name()\n",
    "obj2.say_age()"
   ]
  },
  {
   "cell_type": "raw",
   "id": "528521af",
   "metadata": {},
   "source": [
    "WAP to print Student data using polymorphism including 5-10 entry?\n",
    "\n",
    "types of methods in polymorphism?\n",
    "1- overriding \n",
    "2- overloading"
   ]
  },
  {
   "cell_type": "code",
   "execution_count": 11,
   "id": "771a7a4f",
   "metadata": {},
   "outputs": [
    {
     "name": "stdout",
     "output_type": "stream",
     "text": [
      "end\n"
     ]
    }
   ],
   "source": [
    "print(\"end\")"
   ]
  },
  {
   "cell_type": "code",
   "execution_count": 2,
   "id": "0ac4d6c0",
   "metadata": {},
   "outputs": [],
   "source": [
    "# overloading"
   ]
  },
  {
   "cell_type": "code",
   "execution_count": 5,
   "id": "5b7ee386",
   "metadata": {},
   "outputs": [
    {
     "ename": "TypeError",
     "evalue": "add() missing 1 required positional argument: 'c'",
     "output_type": "error",
     "traceback": [
      "\u001b[1;31m---------------------------------------------------------------------------\u001b[0m",
      "\u001b[1;31mTypeError\u001b[0m                                 Traceback (most recent call last)",
      "\u001b[1;32m~\\AppData\\Local\\Temp/ipykernel_23424/1998246122.py\u001b[0m in \u001b[0;36m<module>\u001b[1;34m\u001b[0m\n\u001b[0;32m      5\u001b[0m         \u001b[1;32mreturn\u001b[0m \u001b[0ma\u001b[0m\u001b[1;33m+\u001b[0m\u001b[0mb\u001b[0m\u001b[1;33m+\u001b[0m\u001b[0mc\u001b[0m\u001b[1;33m\u001b[0m\u001b[1;33m\u001b[0m\u001b[0m\n\u001b[0;32m      6\u001b[0m \u001b[0mobj\u001b[0m\u001b[1;33m=\u001b[0m\u001b[0mcalculatesum\u001b[0m\u001b[1;33m(\u001b[0m\u001b[1;33m)\u001b[0m\u001b[1;33m\u001b[0m\u001b[1;33m\u001b[0m\u001b[0m\n\u001b[1;32m----> 7\u001b[1;33m \u001b[0mprint\u001b[0m\u001b[1;33m(\u001b[0m\u001b[0mobj\u001b[0m\u001b[1;33m.\u001b[0m\u001b[0madd\u001b[0m\u001b[1;33m(\u001b[0m\u001b[1;36m10\u001b[0m\u001b[1;33m,\u001b[0m\u001b[1;36m20\u001b[0m\u001b[1;33m)\u001b[0m\u001b[1;33m)\u001b[0m\u001b[1;33m\u001b[0m\u001b[1;33m\u001b[0m\u001b[0m\n\u001b[0m",
      "\u001b[1;31mTypeError\u001b[0m: add() missing 1 required positional argument: 'c'"
     ]
    }
   ],
   "source": [
    "class calculatesum:\n",
    "    def add (self,a,b):\n",
    "        return a+b\n",
    "    def add (self,a,b,c):\n",
    "        return a+b+c\n",
    "obj=calculatesum()\n",
    "print(obj.add(10,20))"
   ]
  },
  {
   "cell_type": "code",
   "execution_count": 6,
   "id": "bbef4b13",
   "metadata": {},
   "outputs": [
    {
     "name": "stdout",
     "output_type": "stream",
     "text": [
      "40\n"
     ]
    }
   ],
   "source": [
    "class calculatesum:\n",
    "    def add (self,a,b):\n",
    "        return a+b\n",
    "    def add (self,a,b,c=10):\n",
    "        return a+b+c\n",
    "obj=calculatesum()\n",
    "print(obj.add(10,20))"
   ]
  },
  {
   "cell_type": "code",
   "execution_count": null,
   "id": "0d2d68ba",
   "metadata": {},
   "outputs": [],
   "source": []
  }
 ],
 "metadata": {
  "kernelspec": {
   "display_name": "Python 3 (ipykernel)",
   "language": "python",
   "name": "python3"
  },
  "language_info": {
   "codemirror_mode": {
    "name": "ipython",
    "version": 3
   },
   "file_extension": ".py",
   "mimetype": "text/x-python",
   "name": "python",
   "nbconvert_exporter": "python",
   "pygments_lexer": "ipython3",
   "version": "3.9.7"
  }
 },
 "nbformat": 4,
 "nbformat_minor": 5
}
