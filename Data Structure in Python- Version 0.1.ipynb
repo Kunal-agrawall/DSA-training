{
 "cells": [
  {
   "cell_type": "markdown",
   "id": "678bf63e",
   "metadata": {},
   "source": [
    "# User-Defined Data Structures in Python"
   ]
  },
  {
   "cell_type": "raw",
   "id": "77219469",
   "metadata": {},
   "source": [
    "User-defined data structures are custom data structures that programmers create using classes and objects to handle data efficiently. These are particularly useful when built-in data structures do not fulfill specific requirements."
   ]
  },
  {
   "cell_type": "markdown",
   "id": "718ecbc4",
   "metadata": {},
   "source": [
    "# 1. Stack (LIFO - Last In, First Out)"
   ]
  },
  {
   "cell_type": "markdown",
   "id": "90f4fe76",
   "metadata": {},
   "source": [
    "A stack follows the LIFO (Last In, First Out) principle, meaning the last element added is the first to be removed. It is useful in scenarios like undo/redo operations, function call stacks, and expression evaluation."
   ]
  },
  {
   "cell_type": "markdown",
   "id": "93cc115b",
   "metadata": {},
   "source": [
    "# Characteristics of Stack"
   ]
  },
  {
   "cell_type": "raw",
   "id": "39acb633",
   "metadata": {},
   "source": [
    "• Ordered: Elements are stored in a specific order.\n",
    "\n",
    "• LIFO Principle: The last inserted element is removed first."
   ]
  },
  {
   "cell_type": "markdown",
   "id": "2ddef2bd",
   "metadata": {},
   "source": [
    "# • Operations:"
   ]
  },
  {
   "cell_type": "raw",
   "id": "6ea02d45",
   "metadata": {},
   "source": [
    "• Push: Adds an element to the stack.\n",
    "\n",
    "• Pop: Removes the top element from the stack.\n",
    "\n",
    "• Peek (Top): Returns the top element without removing it.\n",
    "\n",
    "• isEmpty: Checks if the stack is empty."
   ]
  },
  {
   "cell_type": "markdown",
   "id": "5865c07e",
   "metadata": {},
   "source": [
    "# Implementation of Stack in Python"
   ]
  },
  {
   "cell_type": "code",
   "execution_count": 1,
   "id": "68252b8a",
   "metadata": {},
   "outputs": [
    {
     "name": "stdout",
     "output_type": "stream",
     "text": [
      "20\n"
     ]
    }
   ],
   "source": [
    "class Stack:\n",
    "    def __init__(self):\n",
    "        self.stack = []\n",
    "    \n",
    "    def push(self, data):\n",
    "        self.stack.append(data)\n",
    "    \n",
    "    def pop(self):\n",
    "        if not self.is_empty():\n",
    "            return self.stack.pop()\n",
    "        return \"Stack is empty\"\n",
    "    \n",
    "    def peek(self):\n",
    "        if not self.is_empty():\n",
    "            return self.stack[-1]\n",
    "        return \"Stack is empty\"\n",
    "    \n",
    "    def is_empty(self):\n",
    "        return len(self.stack) == 0\n",
    "    \n",
    "    def size(self):\n",
    "        return len(self.stack)\n",
    "\n",
    "# Usage\n",
    "s = Stack()\n",
    "s.push(10)\n",
    "s.push(20)\n",
    "print(s.pop())  # Output: 20"
   ]
  },
  {
   "cell_type": "code",
   "execution_count": 2,
   "id": "1b1bdc23",
   "metadata": {},
   "outputs": [
    {
     "name": "stdout",
     "output_type": "stream",
     "text": [
      "20\n",
      "10\n"
     ]
    }
   ],
   "source": [
    "class Stack:\n",
    "    def __init__(self):\n",
    "        self.stack = []\n",
    "\n",
    "    def push(self, data):\n",
    "        self.stack.append(data)\n",
    "\n",
    "    def pop(self):\n",
    "        if not self.is_empty():\n",
    "            return self.stack.pop()\n",
    "        return \"Stack is empty\"\n",
    "\n",
    "    def peek(self):\n",
    "        if not self.is_empty():\n",
    "            return self.stack[-1]\n",
    "        return \"Stack is empty\"\n",
    "\n",
    "    def is_empty(self):\n",
    "        return len(self.stack) == 0\n",
    "\n",
    "    def size(self):\n",
    "        return len(self.stack)\n",
    "\n",
    "# Usage\n",
    "s = Stack()\n",
    "s.push(10)\n",
    "s.push(20)\n",
    "print(s.pop())  # Output: 20\n",
    "print(s.peek()) # Output: 10\n"
   ]
  },
  {
   "cell_type": "code",
   "execution_count": 5,
   "id": "1d6779da",
   "metadata": {},
   "outputs": [
    {
     "name": "stdout",
     "output_type": "stream",
     "text": [
      "Stack after pushing elements: [10, 20, 30]\n",
      "Popped item: 30\n",
      "Stack after popping an element: [10, 20]\n",
      "Top element: 20\n",
      "Stack is not empty.\n"
     ]
    }
   ],
   "source": [
    "# Create an empty stack\n",
    "stack = []\n",
    "\n",
    "# Push items onto the stack (using append())\n",
    "stack.append(10)\n",
    "stack.append(20)\n",
    "stack.append(30)\n",
    "\n",
    "print(\"Stack after pushing elements:\", stack)\n",
    "\n",
    "# Pop items from the stack (using pop())\n",
    "top = stack.pop()  # This removes and returns the last item\n",
    "print(\"Popped item:\", top)\n",
    "print(\"Stack after popping an element:\", stack)\n",
    "\n",
    "# Peek at the top element without popping\n",
    "top = stack[-1]  # Access the last element (top) without removing it\n",
    "print(\"Top element:\", top)\n",
    "\n",
    "# Check if the stack is empty\n",
    "if not stack:\n",
    "    print(\"Stack is empty.\")\n",
    "else:\n",
    "    print(\"Stack is not empty.\")\n"
   ]
  },
  {
   "cell_type": "markdown",
   "id": "7fafb38c",
   "metadata": {},
   "source": [
    "# Explanation:"
   ]
  },
  {
   "cell_type": "raw",
   "id": "eae4be03",
   "metadata": {},
   "source": [
    "Push Operation: The append() method is used to add elements to the stack. The element is added to the end of the list, which represents the top of the stack.\n",
    "Pop Operation: The pop() method removes and returns the last element of the list (the top of the stack).\n",
    "Peek Operation: To view the top element without removing it, we simply access the last element using stack[-1].\n",
    "Empty Check: To check if the stack is empty, we check if the list is empty using if not stack."
   ]
  },
  {
   "cell_type": "markdown",
   "id": "752c8157",
   "metadata": {},
   "source": [
    "# Using collections.deque (More Efficient)"
   ]
  },
  {
   "cell_type": "code",
   "execution_count": 3,
   "id": "7111ae28",
   "metadata": {},
   "outputs": [
    {
     "name": "stdout",
     "output_type": "stream",
     "text": [
      "2\n"
     ]
    }
   ],
   "source": [
    "from collections import deque\n",
    "\n",
    "stack = deque()\n",
    "stack.append(1)\n",
    "stack.append(2)\n",
    "print(stack.pop())  # Output: 2"
   ]
  },
  {
   "cell_type": "markdown",
   "id": "b3e12a41",
   "metadata": {},
   "source": [
    "# Applications of Stack"
   ]
  },
  {
   "cell_type": "raw",
   "id": "e300f495",
   "metadata": {},
   "source": [
    "• Undo/Redo functionality in text editors.\n",
    "\n",
    "• Backtracking (e.g., solving mazes, recursion).\n",
    "\n",
    "• Expression evaluation (e.g., parsing mathematical expressions).\n",
    "\n",
    "• Function call stack in programming languages."
   ]
  },
  {
   "cell_type": "markdown",
   "id": "49f0696c",
   "metadata": {},
   "source": [
    "# Problem Statement 01:-Stack"
   ]
  },
  {
   "cell_type": "raw",
   "id": "56c198ef",
   "metadata": {},
   "source": [
    "You are given a string containing just the characters '(', ')', {, '}', [, and ]. You need to determine if the input string is valid.\n",
    "\n",
    "A string is considered valid if:\n",
    "\n",
    "The brackets must close in the correct order.\n",
    "Every opening bracket must have a corresponding closing bracket of the same type.\n",
    "For example:\n",
    "\n",
    "\"{[]}\" is valid.    \n",
    "\"([)]\" is not valid.\n",
    "\"(\" is not valid.\n",
    "\n",
    "Task: Write a function is_valid_parentheses(s: str) -> bool that returns True if the input string is valid, and False otherwise.\n",
    "\n",
    "Constraints:\n",
    "The string's length is between 1 and 10^4.\n",
    "The string consists only of the characters '(', ')', '{', '}', '[', ']'."
   ]
  },
  {
   "cell_type": "markdown",
   "id": "7f4f4a08",
   "metadata": {},
   "source": [
    "# Example"
   ]
  },
  {
   "cell_type": "raw",
   "id": "025df4bf",
   "metadata": {},
   "source": [
    "print(is_valid_parentheses(\"{[]}\"))  # Output: True\n",
    "print(is_valid_parentheses(\"([)]\"))  # Output: False\n",
    "print(is_valid_parentheses(\"()\"))    # Output: True\n",
    "print(is_valid_parentheses(\"(\"))     # Output: False"
   ]
  },
  {
   "cell_type": "markdown",
   "id": "436ed335",
   "metadata": {},
   "source": [
    "# Problem Statement 02:-Stack"
   ]
  },
  {
   "cell_type": "raw",
   "id": "b59a5b2c",
   "metadata": {},
   "source": [
    "Problem Statement: Reverse a String Using a Stack\n",
    "Problem Description:\n",
    "\n",
    "Write a function reverse_string(s: str) -> str that takes a string s as input and returns a new string with the characters reversed.\n",
    "\n",
    "You must solve this problem by using a stack.\n",
    "\n",
    "Constraints:\n",
    "The length of the string is between 1 and 10^4.\n",
    "The string consists only of printable ASCII characters."
   ]
  },
  {
   "cell_type": "markdown",
   "id": "13b1b286",
   "metadata": {},
   "source": [
    "# Example02"
   ]
  },
  {
   "cell_type": "raw",
   "id": "8756cbde",
   "metadata": {},
   "source": [
    "print(reverse_string(\"hello\"))  # Output: \"olleh\"\n",
    "print(reverse_string(\"world\"))  # Output: \"dlrow\"\n",
    "print(reverse_string(\"Python\")) # Output: \"nohtyP\""
   ]
  },
  {
   "cell_type": "code",
   "execution_count": 4,
   "id": "79d9e034",
   "metadata": {},
   "outputs": [
    {
     "name": "stdout",
     "output_type": "stream",
     "text": [
      "--end Stack--\n"
     ]
    }
   ],
   "source": [
    "print(\"--end Stack--\")"
   ]
  },
  {
   "cell_type": "code",
   "execution_count": 11,
   "id": "7bc182bc",
   "metadata": {},
   "outputs": [
    {
     "name": "stdout",
     "output_type": "stream",
     "text": [
      "false\n"
     ]
    }
   ],
   "source": [
    "from collections import deque\n",
    "def isvalid(str):\n",
    "    stack=deque()\n",
    "    stack.append(str)  \n",
    "    s=stack.pop()\n",
    "    n=len(str)\n",
    "    valid=\"false\"\n",
    "    st=0\n",
    "    end=n-1\n",
    "    while(st<end):\n",
    "        if(s[st]==s[end]):\n",
    "             valid=\"true\"\n",
    "        st+=1\n",
    "        end-=1\n",
    "    if(valid==\"true\"):\n",
    "        print(\"true\")\n",
    "    else:\n",
    "        print(\"false\")\n",
    "\n",
    "isvalid(\"({})\")"
   ]
  },
  {
   "cell_type": "code",
   "execution_count": 12,
   "id": "f78d39a2",
   "metadata": {},
   "outputs": [
    {
     "name": "stdout",
     "output_type": "stream",
     "text": [
      "true\n",
      "true\n",
      "false\n",
      "false\n",
      "true\n"
     ]
    }
   ],
   "source": [
    "from collections import deque\n",
    "\n",
    "def isvalid(s):\n",
    "    stack = deque()\n",
    "    mapping = {\")\": \"(\", \"}\": \"{\", \"]\": \"[\"}\n",
    "\n",
    "    for char in s:\n",
    "        if char in mapping: \n",
    "            top_element = stack.pop() if stack else '#' \n",
    "            if mapping[char] != top_element:\n",
    "                return \"false\"\n",
    "        else:  \n",
    "            stack.append(char)\n",
    "\n",
    "    return \"true\" if not stack else \"false\"\n",
    "\n",
    "print(isvalid(\"({})\"))\n",
    "print(isvalid(\"()[]{}\"))\n",
    "print(isvalid(\"(]\"))\n",
    "print(isvalid(\"([)]\"))\n",
    "print(isvalid(\"{[]}\"))"
   ]
  },
  {
   "cell_type": "code",
   "execution_count": 13,
   "id": "6b33a670",
   "metadata": {},
   "outputs": [
    {
     "name": "stdout",
     "output_type": "stream",
     "text": [
      "true\n",
      "false\n"
     ]
    }
   ],
   "source": [
    "from collections import deque\n",
    "\n",
    "def isvalid(s):\n",
    "    stack = deque()\n",
    "    n = len(s)\n",
    "    brackets= {')': '(', '}': '{', ']': '['}\n",
    "    \n",
    "    for char in s:\n",
    "        if char in brackets.values():\n",
    "            stack.append(char)\n",
    "        elif char in brackets.keys():\n",
    "            if stack and stack[-1] == brackets[char]:\n",
    "                stack.pop()\n",
    "            else:4\n",
    "                print(\"false\")\n",
    "                return\n",
    "    if not stack:\n",
    "        print(\"true\")\n",
    "    else:\n",
    "        print(\"false\")\n",
    "\n",
    "isvalid(\"({})\")  \n",
    "isvalid(\"({[})\")\n"
   ]
  },
  {
   "cell_type": "markdown",
   "id": "4eda82fc",
   "metadata": {},
   "source": [
    "# Queue"
   ]
  },
  {
   "cell_type": "raw",
   "id": "6149cc7e",
   "metadata": {},
   "source": [
    "Queue (FIFO - First In, First Out)"
   ]
  },
  {
   "cell_type": "raw",
   "id": "66ef14cf",
   "metadata": {},
   "source": [
    "A queue follows the FIFO (First In, First Out) principle, meaning the first element added is the first to be removed. It is useful in task scheduling, printer queues, and message processing."
   ]
  },
  {
   "cell_type": "markdown",
   "id": "372158bc",
   "metadata": {},
   "source": [
    "# Characteristics of Queue"
   ]
  },
  {
   "cell_type": "raw",
   "id": "c1a1a273",
   "metadata": {},
   "source": [
    "• Ordered: Elements  are stored in a sequence.\n",
    "\n",
    "• FIFO Principle: The first inserted element is removed first."
   ]
  },
  {
   "cell_type": "markdown",
   "id": "ae362bcb",
   "metadata": {},
   "source": [
    "# Operations:"
   ]
  },
  {
   "cell_type": "raw",
   "id": "ef51c5f8",
   "metadata": {},
   "source": [
    "• Enqueue: Adds an element to the rear of the queue.\n",
    "\n",
    "• Dequeue: Removes the front element.\n",
    "\n",
    "• Peek (Front): Returns the front element without removing it.\n",
    "\n",
    "• isEmpty: Checks if the queue is empty."
   ]
  },
  {
   "cell_type": "markdown",
   "id": "e4ccbaf7",
   "metadata": {},
   "source": [
    "# Implementation of Queue in Python"
   ]
  },
  {
   "cell_type": "code",
   "execution_count": 15,
   "id": "57159039",
   "metadata": {},
   "outputs": [
    {
     "name": "stdout",
     "output_type": "stream",
     "text": [
      "5\n"
     ]
    }
   ],
   "source": [
    "from collections import deque\n",
    "\n",
    "class Queue:\n",
    "    def __init__(self):\n",
    "        self.queue = deque()\n",
    "    \n",
    "    def enqueue(self, data):\n",
    "        self.queue.append(data)\n",
    "    \n",
    "    def dequeue(self):\n",
    "        if not self.is_empty():\n",
    "            return self.queue.popleft()\n",
    "        return \"Queue is empty\"\n",
    "    \n",
    "    def is_empty(self):\n",
    "        return len(self.queue) == 0\n",
    "    \n",
    "    def size(self):\n",
    "        return len(self.queue)\n",
    "\n",
    "# Usage\n",
    "q = Queue()\n",
    "q.enqueue(5)\n",
    "q.enqueue(15)\n",
    "print(q.dequeue())"
   ]
  },
  {
   "cell_type": "code",
   "execution_count": 17,
   "id": "4abc1e43",
   "metadata": {},
   "outputs": [
    {
     "name": "stdout",
     "output_type": "stream",
     "text": [
      "5\n",
      "15\n"
     ]
    }
   ],
   "source": [
    "from collections import deque\n",
    "class Queue:\n",
    "    def __init__(self):\n",
    "        self.queue = deque()\n",
    "\n",
    "    def enqueue(self, data):\n",
    "        self.queue.append(data)\n",
    "\n",
    "    def dequeue(self):\n",
    "        if not self.is_empty():\n",
    "            return self.queue.popleft()\n",
    "        return \"Queue is empty\"\n",
    "\n",
    "    def peek(self):\n",
    "        if not self.is_empty():\n",
    "            return self.queue[0]\n",
    "        return \"Queue is empty\"\n",
    "\n",
    "    def is_empty(self):\n",
    "        return len(self.queue) == 0\n",
    "\n",
    "    def size(self):\n",
    "        return len(self.queue)\n",
    "\n",
    "# Usage\n",
    "q = Queue()\n",
    "q.enqueue(5)\n",
    "q.enqueue(15)\n",
    "print(q.dequeue())  # Output: 5\n",
    "print(q.peek())     # Output: 15"
   ]
  },
  {
   "cell_type": "markdown",
   "id": "9dabff78",
   "metadata": {},
   "source": [
    "# Types of Queues"
   ]
  },
  {
   "cell_type": "raw",
   "id": "d9153a32",
   "metadata": {},
   "source": [
    "1. Simple Queue (FIFO) – Basic queue.\n",
    "\n",
    "2. Circular Queue – The last element connects to the first, avoiding wasted space.\n",
    "\n",
    "3. Priority Queue – Elements are dequeued based on priority, not order.\n",
    "\n",
    "4. Double-Ended Queue (Deque) – Allows insertion and deletion from both ends."
   ]
  },
  {
   "cell_type": "markdown",
   "id": "f30cbd33",
   "metadata": {},
   "source": [
    "# Applications of Queue"
   ]
  },
  {
   "cell_type": "raw",
   "id": "8ddcd0df",
   "metadata": {},
   "source": [
    "• Task Scheduling (e.g., CPU scheduling, job processing).\n",
    "\n",
    "• Print Queue (e.g., documents are printed in order).\n",
    "\n",
    "• Network Requests (e.g., handling server requests).\n",
    "\n",
    "• Breadth-First Search (BFS) in graphs."
   ]
  },
  {
   "cell_type": "raw",
   "id": "5db7d6c6",
   "metadata": {},
   "source": [
    "Problem: Bank Queue Simulation with Token Numbers\n",
    "Problem Statement:\n",
    "In a bank, customers arrive for either deposit or withdrawal services. Each customer is given a unique token number when they enter the bank. The customers are then assigned to the next available teller (there are multiple tellers). Customers are served in the order they arrive, with priority given to customers who have been waiting the longest. The task is to simulate this process using queues and manage the customers efficiently across multiple counters.\n",
    "\n",
    "Requirements:\n",
    "Token Numbers: When a customer arrives, they are assigned a token number, which is unique and sequential. The token number represents their position in the queue and will be used to track them.\n",
    "Service Types: Each customer requests either a deposit or withdrawal service.\n",
    "Multiple Counters: The bank has multiple tellers (counters). When a teller becomes free, they serve the next customer in the queue.\n",
    "Queue Handling: A queue will be used to maintain the customers waiting for service. The first customer in the queue will be served first, but they may be assigned to any teller.\n",
    "Simulation: The simulation will allow a random number of customers to arrive at the bank, each requesting a service. You need to ensure that customers are processed in the correct order and that they are assigned to tellers.\n",
    "Additional Details:\n",
    "Each customer will arrive with a request for either deposit or withdrawal.\n",
    "There are multiple tellers (for example, 3 tellers).\n",
    "The bank’s queue management should prioritize the customers based on the order of their token numbers (first-come, first-served).\n",
    "When a teller finishes serving a customer, they will either call the next customer in the queue or be idle if there are no customers left.\n",
    "Example:\n",
    "Customer 1 arrives for a deposit service. They receive token number 1.\n",
    "Customer 2 arrives for a withdrawal service. They receive token number 2.\n",
    "Customer 3 arrives for a deposit service. They receive token number 3.\n",
    "Customer 4 arrives for a withdrawal service. They receive token number 4.\n",
    "Now, the tellers serve the customers in the order they arrive:\n",
    "\n",
    "Teller 1 might serve Customer 1 (Token 1, Deposit).\n",
    "Teller 2 might serve Customer 2 (Token 2, Withdrawal).\n",
    "Teller 3 might serve Customer 3 (Token 3, Deposit).\n",
    "Once a teller finishes with a customer, they will serve the next customer from the queue (if available).\n",
    "\n",
    "Approach:\n",
    "Queue for Customers: Each customer has a unique token number and a type of service (deposit or withdrawal). We use a queue to represent the waiting customers.\n",
    "Teller Availability: Each teller is represented by a counter. When a teller finishes with a customer, they serve the next one in the queue.\n",
    "Token Number System: Each customer is assigned a token number at the time of arrival. This will be used to track the customers in the queue.\n",
    "Simulation: The simulation will continue to add customers to the queue, process them one by one using the tellers, and print out the status of customers as they are served.\n",
    "\n",
    "Example Output:\n",
    "Customer with Token 1 (Deposit) is being served by Teller 1.\n",
    "Customer with Token 2 (Withdrawal) is being served by Teller 2.\n",
    "Customer with Token 3 (Deposit) is being served by Teller 3.\n",
    "Customer with Token 4 (Withdrawal) is being served by Teller 1."
   ]
  },
  {
   "cell_type": "code",
   "execution_count": 35,
   "id": "70424084",
   "metadata": {},
   "outputs": [
    {
     "name": "stdout",
     "output_type": "stream",
     "text": [
      "token1:kuldeep-deposite (arrival_time 11:59:30)\n",
      "token2:vanshika-deposite (arrival_time 11:59:30)\n",
      "token3:abhi-deposite (arrival_time 11:59:30)\n"
     ]
    }
   ],
   "source": [
    "import time\n",
    "from collections import deque\n",
    "\n",
    "class Customer:\n",
    "    def __init__(self,token,name,arrival_time,service_type):\n",
    "        self.token=token\n",
    "        self.name=name\n",
    "        self.arrival_time=arrival_time\n",
    "        self.service_type=service_type\n",
    "    \n",
    "    def show(self):\n",
    "        return f\"token{self.token}:{self.name}-{self.service_type} (arrival_time {time.strftime('%H:%M:%S',time.localtime(self.arrival_time))})\"\n",
    "class Bank_Queue:\n",
    "    def __init__(self):\n",
    "        self.token_counter=1\n",
    "        self.customer_queue=deque()\n",
    "        self.noTeller=[None]*3\n",
    "    def add_customer(self,name,service_type):\n",
    "        arrival_time=time.time()\n",
    "        customer=Customer(self.token_counter,name,arrival_time,service_type)\n",
    "        self.customer_queue.append(customer)\n",
    "        print(f\"{customer.show()}\")\n",
    "        self.token_counter+=1\n",
    "    def serve_customer(self):\n",
    "        for i in t\n",
    "        \n",
    "        \n",
    "    \n",
    "    \n",
    "    \n",
    "person=Bank_Queue()\n",
    "person.add_customer(\"kuldeep\",\"deposite\")\n",
    "person.add_customer(\"Vanshika\",\"deposite\")\n",
    "person.add_customer(\"abhi\",\"deposite\")\n",
    "        "
   ]
  },
  {
   "cell_type": "code",
   "execution_count": 19,
   "id": "53b45e7b",
   "metadata": {},
   "outputs": [
    {
     "name": "stdout",
     "output_type": "stream",
     "text": [
      "Customer with Token 1 arrived for Withdrawal.\n",
      "Customer with Token 2 arrived for Deposit.\n",
      "Customer with Token 3 arrived for Withdrawal.\n",
      "Customer with Token 4 arrived for Deposit.\n",
      "Customer with Token 5 arrived for Withdrawal.\n",
      "Customer with Token 6 arrived for Withdrawal.\n",
      "Customer with Token 7 arrived for Deposit.\n",
      "Customer with Token 8 arrived for Deposit.\n",
      "Customer with Token 9 arrived for Withdrawal.\n",
      "Customer with Token 10 arrived for Withdrawal.\n",
      "Customer with Token 1 (Withdrawal) is being served by Teller 1.\n",
      "Teller 1 finished serving Token 1 (Withdrawal).\n",
      "Customer with Token 2 (Deposit) is being served by Teller 1.\n",
      "Teller 1 finished serving Token 2 (Deposit).\n",
      "Customer with Token 3 (Withdrawal) is being served by Teller 1.\n",
      "Teller 1 finished serving Token 3 (Withdrawal).\n",
      "Customer with Token 4 (Deposit) is being served by Teller 1.\n",
      "Teller 1 finished serving Token 4 (Deposit).\n",
      "Customer with Token 5 (Withdrawal) is being served by Teller 1.\n",
      "Teller 1 finished serving Token 5 (Withdrawal).\n",
      "Customer with Token 6 (Withdrawal) is being served by Teller 1.\n",
      "Teller 1 finished serving Token 6 (Withdrawal).\n",
      "Customer with Token 7 (Deposit) is being served by Teller 1.\n",
      "Teller 1 finished serving Token 7 (Deposit).\n",
      "Customer with Token 8 (Deposit) is being served by Teller 1.\n",
      "Teller 1 finished serving Token 8 (Deposit).\n",
      "Customer with Token 9 (Withdrawal) is being served by Teller 1.\n",
      "Teller 1 finished serving Token 9 (Withdrawal).\n",
      "Customer with Token 10 (Withdrawal) is being served by Teller 1.\n",
      "Teller 1 finished serving Token 10 (Withdrawal).\n"
     ]
    }
   ],
   "source": [
    "from collections import deque\n",
    "import random\n",
    "import time\n",
    "\n",
    "# Define the Customer class\n",
    "class Customer:\n",
    "    def __init__(self, token_number, service_type):\n",
    "        self.token_number = token_number\n",
    "        self.service_type = service_type\n",
    "\n",
    "    def __str__(self):\n",
    "        return f\"Token {self.token_number} ({self.service_type})\"\n",
    "\n",
    "# Define the Teller class\n",
    "class Teller:\n",
    "    def __init__(self, teller_id):\n",
    "        self.teller_id = teller_id\n",
    "        self.is_busy = False\n",
    "\n",
    "    def serve_customer(self, customer):\n",
    "        if not self.is_busy:\n",
    "            self.is_busy = True\n",
    "            print(f\"Customer with {customer} is being served by Teller {self.teller_id}.\")\n",
    "            # Simulate serving time (random between 1 to 3 seconds)\n",
    "            time.sleep(random.randint(1, 3))\n",
    "            print(f\"Teller {self.teller_id} finished serving {customer}.\")\n",
    "            self.is_busy = False\n",
    "            return True\n",
    "        return False\n",
    "\n",
    "# Define the Bank class to simulate the process\n",
    "class BankQueueSimulation:\n",
    "    def __init__(self, num_tellers):\n",
    "        self.customers_queue = deque()  # Queue for customers\n",
    "        self.tellers = [Teller(i + 1) for i in range(num_tellers)]  # Create multiple tellers\n",
    "        self.token_counter = 1  # Token counter to assign new tokens\n",
    "\n",
    "    def add_customer(self, service_type):\n",
    "        # Add a customer with a new token number and the service type\n",
    "        customer = Customer(self.token_counter, service_type)\n",
    "        self.customers_queue.append(customer)\n",
    "        print(f\"Customer with Token {self.token_counter} arrived for {service_type}.\")\n",
    "        self.token_counter += 1\n",
    "\n",
    "    def serve_customers(self):\n",
    "        while self.customers_queue:\n",
    "            for teller in self.tellers:\n",
    "                if self.customers_queue:\n",
    "                    customer = self.customers_queue[0]\n",
    "                    if teller.serve_customer(customer):\n",
    "                        self.customers_queue.popleft()  # Remove customer from queue after they are served\n",
    "                        break\n",
    "\n",
    "# Simulating the Bank Queue\n",
    "def simulate_bank_queue():\n",
    "    bank = BankQueueSimulation(num_tellers=3)  # Bank with 3 tellers\n",
    "\n",
    "    # Randomly adding customers to the bank queue\n",
    "    for _ in range(10):  # Let's simulate 10 customers\n",
    "        service_type = random.choice([\"Deposit\", \"Withdrawal\"])\n",
    "        bank.add_customer(service_type)\n",
    "        time.sleep(1)  # Simulate time delay between arrivals\n",
    "\n",
    "    # Serve the customers\n",
    "    bank.serve_customers()\n",
    "\n",
    "# Run the simulation\n",
    "simulate_bank_queue()\n"
   ]
  },
  {
   "cell_type": "markdown",
   "id": "1aec1eea",
   "metadata": {},
   "source": [
    "# 3. Linked List"
   ]
  },
  {
   "cell_type": "raw",
   "id": "ee6e41b5",
   "metadata": {},
   "source": [
    "A linked list is a linear data structure where elements (nodes) are connected using pointers. It is useful in dynamic memory allocation, implementing stacks and queues, and handling large datasets efficiently."
   ]
  },
  {
   "cell_type": "code",
   "execution_count": 25,
   "id": "60bf14f0",
   "metadata": {},
   "outputs": [
    {
     "name": "stdout",
     "output_type": "stream",
     "text": [
      "1851872012880\n"
     ]
    }
   ],
   "source": [
    "x=10\n",
    "print(id(x))"
   ]
  },
  {
   "cell_type": "code",
   "execution_count": 44,
   "id": "27858ec2",
   "metadata": {},
   "outputs": [
    {
     "name": "stdout",
     "output_type": "stream",
     "text": [
      "10\n",
      "20\n",
      "30\n",
      "None\n"
     ]
    }
   ],
   "source": [
    "class Node:\n",
    "    def __init__(self,data=None,next=None):\n",
    "        self.data= data\n",
    "        self.next= next\n",
    "class Link:\n",
    "    def __init__(self,root=None):\n",
    "        self.root= root\n",
    "    def isnull(self):\n",
    "        return self.root is None\n",
    "    def insert(self,data):\n",
    "        n= Node(data)\n",
    "        if self.root is None:\n",
    "            self.root= n\n",
    "        else:\n",
    "            temp= self.root\n",
    "            while temp.next is not None:\n",
    "                temp= temp.next\n",
    "            temp.next= n\n",
    "    def traverse(self):\n",
    "        temp= self.root\n",
    "        while temp is not None:\n",
    "            print(temp.data)\n",
    "            temp= temp.next\n",
    "        print(\"None\")\n",
    "s= Link()\n",
    "s.insert(10)\n",
    "s.insert(20)\n",
    "s.insert(30)\n",
    "s.traverse()\n",
    "            "
   ]
  },
  {
   "cell_type": "code",
   "execution_count": 24,
   "id": "492dbe94",
   "metadata": {},
   "outputs": [
    {
     "name": "stdout",
     "output_type": "stream",
     "text": [
      "1851872013200\n"
     ]
    }
   ],
   "source": [
    "y=20\n",
    "print(id(y))"
   ]
  },
  {
   "cell_type": "markdown",
   "id": "8bfec659",
   "metadata": {},
   "source": [
    "# Characteristics of Linked List"
   ]
  },
  {
   "cell_type": "raw",
   "id": "ce6c2b76",
   "metadata": {},
   "source": [
    "• Each node consists of:\n",
    "\n",
    "• Data (stores value).\n",
    "\n",
    "• Pointer/Reference (stores address of next node).\n",
    "\n",
    "• Dynamic Size: No need to specify a fixed size beforehand.\n",
    "\n",
    "• Efficient Insertions/Deletions: Unlike arrays, inserting/deleting does not require shifting elements.\n",
    "\n",
    "• Slower Access Time: Cannot directly access an element by index (unlike arrays)."
   ]
  },
  {
   "cell_type": "markdown",
   "id": "0c995100",
   "metadata": {},
   "source": [
    "# Types of Linked Lists"
   ]
  },
  {
   "cell_type": "raw",
   "id": "4f492377",
   "metadata": {},
   "source": [
    "1. Singly Linked List (SLL) – Each node points to the next node.\n",
    "2. Doubly Linked List (DLL) – Each node has two pointers (previous and next).\n",
    "3. Circular Linked List (CLL) – Last node points to the first, forming a circle."
   ]
  },
  {
   "cell_type": "markdown",
   "id": "31e426aa",
   "metadata": {},
   "source": [
    "# Implementation"
   ]
  },
  {
   "cell_type": "code",
   "execution_count": null,
   "id": "2ac35d32",
   "metadata": {},
   "outputs": [
    {
     "name": "stdout",
     "output_type": "stream",
     "text": [
      "10 -> 20 -> 30 -> None\n"
     ]
    }
   ],
   "source": [
    "class Node:\n",
    "    def __init__(self, data):\n",
    "        self.data = data\n",
    "        self.next = None\n",
    "\n",
    "class LinkedList:\n",
    "    def __init__(self):\n",
    "        self.head = None\n",
    "\n",
    "    def append(self, data):\n",
    "        new_node = Node(data)\n",
    "        if not self.head:\n",
    "            self.head = new_node\n",
    "            return\n",
    "        last = self.head\n",
    "        while last.next:\n",
    "            last = last.next\n",
    "        last.next = new_node\n",
    "\n",
    "    def display(self):\n",
    "        temp = self.head\n",
    "        while temp:\n",
    "            print(temp.data, end=\" -> \")\n",
    "            temp = temp.next\n",
    "        print(\"None\")\n",
    "\n",
    "# Usage\n",
    "ll = LinkedList()\n",
    "ll.append(10)\n",
    "ll.append(20)\n",
    "ll.append(30)\n",
    "ll.display()  # Output: 10 -> 20 -> 30 -> None"
   ]
  },
  {
   "cell_type": "code",
   "execution_count": null,
   "id": "7107c6a5",
   "metadata": {},
   "outputs": [],
   "source": [
    "class Node:\n",
    "    def __init__(self, data):\n",
    "        self.data = data\n",
    "        self.next = None\n",
    "\n",
    "class LinkedList:\n",
    "    def __init__(self):\n",
    "        self.head = None\n",
    "\n",
    "    def append(self, data):\n",
    "        new_node = Node(data)\n",
    "        if not self.head:\n",
    "            self.head = new_node\n",
    "            return\n",
    "        last = self.head\n",
    "        while last.next:\n",
    "            last = last.next\n",
    "        last.next = new_node\n",
    "\n",
    "    def display(self):\n",
    "        temp = self.head\n",
    "        while temp:\n",
    "            print(temp.data, end=\" -> \")\n",
    "            temp = temp.next\n",
    "        print(\"None\")\n",
    "\n",
    "# Usage\n",
    "ll = LinkedList()\n",
    "ll.append(10)\n",
    "ll.append(20)\n",
    "ll.append(30)\n",
    "ll.display()  # Output: 10 -> 20 -> 30 -> None"
   ]
  },
  {
   "cell_type": "code",
   "execution_count": 21,
   "id": "30b0d255",
   "metadata": {},
   "outputs": [
    {
     "name": "stdout",
     "output_type": "stream",
     "text": [
      "10 -> 20 -> None\n"
     ]
    }
   ],
   "source": [
    "class Node:\n",
    "    def __init__(self, data):\n",
    "        self.data = data\n",
    "        self.next = None\n",
    "\n",
    "class LinkedList:\n",
    "    def __init__(self):\n",
    "        self.head = None\n",
    "\n",
    "    def append(self, data):\n",
    "        new_node = Node(data)\n",
    "        if not self.head:\n",
    "            self.head = new_node\n",
    "            return\n",
    "        last = self.head\n",
    "        while last.next:\n",
    "            last = last.next\n",
    "        last.next = new_node\n",
    "\n",
    "    def display(self):\n",
    "        temp = self.head\n",
    "        while temp:\n",
    "            print(temp.data, end=\" -> \")\n",
    "            temp = temp.next\n",
    "        print(\"None\")\n",
    "\n",
    "# Usage\n",
    "ll = LinkedList()\n",
    "ll.append(10)\n",
    "ll.append(20)\n",
    "ll.display()  # Output: 10 -> 20 -> None"
   ]
  },
  {
   "cell_type": "code",
   "execution_count": null,
   "id": "7cfc0c1f",
   "metadata": {},
   "outputs": [],
   "source": []
  }
 ],
 "metadata": {
  "kernelspec": {
   "display_name": "Python 3 (ipykernel)",
   "language": "python",
   "name": "python3"
  },
  "language_info": {
   "codemirror_mode": {
    "name": "ipython",
    "version": 3
   },
   "file_extension": ".py",
   "mimetype": "text/x-python",
   "name": "python",
   "nbconvert_exporter": "python",
   "pygments_lexer": "ipython3",
   "version": "3.9.7"
  }
 },
 "nbformat": 4,
 "nbformat_minor": 5
}
